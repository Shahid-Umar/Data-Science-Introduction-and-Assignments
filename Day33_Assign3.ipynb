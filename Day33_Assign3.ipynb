{
 "cells": [
  {
   "cell_type": "markdown",
   "metadata": {},
   "source": [
    "---\n",
    "# **Branches of Mathematics and their Definations**\n",
    "---\n",
    "These definations are taken from this [link](https://byjus.com/maths/branches-of-mathematics/)"
   ]
  },
  {
   "cell_type": "markdown",
   "metadata": {},
   "source": [
    "- Math Branches are divided into two main types (Pure Mathematics & Applied Mathematics)"
   ]
  },
  {
   "cell_type": "markdown",
   "metadata": {},
   "source": [
    "## **Pure Mathematics**"
   ]
  },
  {
   "cell_type": "markdown",
   "metadata": {},
   "source": [
    "1. **Number Theory**\n",
    "    - Number theory is a branch of mathematics which helps to study the set of positive whole numbers, say 1, 2, 3, 4, 5, 6,. . . , which are also called the set of natural numbers and sometimes called “higher arithmetic”.\n",
    "    - Number theory helps to study the relationships between different sorts of numbers.\n",
    "    - There are some examples of number theory\\\n",
    "    Odd Numbers – 1, 3, 5, 7, 9, 11, 13, 15, 17, 19…..\\\n",
    "    Even Numbers – 2, 4, 6, 8, 10, 12, 14, 16, 18, 20, 22 . . .\\\n",
    "    Square Numbers – 4, 9, 16, 25, 36, 49, 64, 81,100 . . .\\\n",
    "    Cube Numbers – 8, 27, 64, 125, 216, 343, 512 . . .\\\n",
    "    Prime Numbers – 2, 3, 5, 7, 11, 13, 17, 19, 23, 29, 31, 37, 41, 43, 47,53, 59, 61 . . .\n",
    "    \n",
    "2. **Algebra**\n",
    "    - Algebra helps solve the mathematical equations and allows to derive unknown quantities.\n",
    "    - Algebra is constructive in stating a mathematical equation and relationship by using letters or other symbols representing the entities.\n",
    "    -  in algebra, the numbers are often represented by the symbols and are called variables such as x, a, n, y.\n",
    "\n",
    "3. **Geometry**\n",
    "    - Geometry is the study of different types of shapes, figures and sizes in Maths or in real life. In geometry, we learn about different angles, transformations and similarities in the figures. The different types of shapes in geometry help us to understand the shapes day to day life. There are some branches of geometry like Algebraic Geometry, Discrete Geometry, Differential Geometry, Euclidean Geometry, Convex Geometry & Topology.\n",
    "\n",
    "4. **Arithmetic**\n",
    "    - Arithmetic is the fundamental of mathematics that includes the operations of numbers. The four elementary operations in arithmetic are addition, subtraction, multiplication and division. There is another concept of arithmetic that it is a sequence of numbers, where the difference between one term and the next is a constant.\n",
    "\n",
    "5. **Combinatorics**\n",
    "    - Combinatorics is a stream of mathematics that concerns the study of finite discrete structures. Mathematicians uses the term “Combinatorics” as it refers to the larger subset of Discrete Mathematics.\n",
    "    - Combinatorics is applied in most of the areas such as:\n",
    "    Communication networks, cryptography and network security, Computational molecular biology, Computer architecture, Scientific discovery, Languages, Pattern analysis, Simulation, Databases and data mining, Homeland security and Operations research.\n",
    "\n",
    "6. **Topology**\n",
    "    - It is concerned with the properties of space under continuous mapping. Its application includes consideration of compactness, completeness, continuity, filters, function spaces, grills, clusters and bunches, hyperspace topologies, initial and final structures, metric spaces, nets, proximal continuity, proximity spaces, separation axioms, and uniform spaces."
   ]
  },
  {
   "cell_type": "markdown",
   "metadata": {},
   "source": [
    "## **Applied Mathematics**"
   ]
  },
  {
   "cell_type": "markdown",
   "metadata": {},
   "source": [
    "1. **Calculus**\n",
    "    - Calculus, a branch of Mathematics, developed by Newton and Leibniz, deals with the study of the rate of change.\n",
    "    - Calculus Mathematics is broadly classified into two different such:\n",
    "        - Differential Calculus\n",
    "        - Integral Calculus\n",
    "    - Basic Calculus is the study of differentiation and integration. Both concepts are based on the idea of limits and functions.\n",
    "\n",
    "2. **Probability And Statistics**\n",
    "    - Probability And Statistics are the two important concepts in Maths.\n",
    "      - Probability is all about chance. Whereas statistics is more about how we handle various data using different techniques.\n",
    "      - Statistics is the study of the collection, analysis, interpretation, presentation, and organization of data. It is a method of collecting and summarising the data.\n",
    "\n",
    "3. **Set Theory**\n",
    "    - Set Theory is a branch of mathematical logic where we learn sets and their properties. A set is a collection of objects or groups of objects.\n",
    "      - Sets can be represented in two ways:\n",
    "        - Roster Form or Tabular form\n",
    "          - A ={1996,2000,2004,2008,2012}\n",
    "        - Set Builder Form\n",
    "          - S={ x: x is an even prime number}\n",
    "          - where ‘x’ is a symbolic representation that is used to describe the element.\n",
    "\n",
    "4. **Trigonometry**\n",
    "     - Trigonometry is one of the important branches in the history of mathematics that deals with the study of the relationship between the sides and angles of a right-angled triangle.\n",
    "     - Trigonometry is further classified into two sub-branches. The two different types of trigonometry are:\n",
    "       - Plane Trigonometry\n",
    "       - Spherical Trigonometry"
   ]
  }
 ],
 "metadata": {
  "kernelspec": {
   "display_name": "Python 3",
   "language": "python",
   "name": "python3"
  },
  "language_info": {
   "codemirror_mode": {
    "name": "ipython",
    "version": 3
   },
   "file_extension": ".py",
   "mimetype": "text/x-python",
   "name": "python",
   "nbconvert_exporter": "python",
   "pygments_lexer": "ipython3",
   "version": "3.11.5"
  }
 },
 "nbformat": 4,
 "nbformat_minor": 2
}
