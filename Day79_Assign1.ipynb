{
 "cells": [
  {
   "cell_type": "markdown",
   "metadata": {},
   "source": [
    "# Example to Calculate the values of Entropy, Gini Impurity and Information Gain"
   ]
  },
  {
   "cell_type": "code",
   "execution_count": 53,
   "metadata": {},
   "outputs": [],
   "source": [
    "# Import Libraries\n",
    "import pandas as pd\n",
    "import math\n"
   ]
  },
  {
   "cell_type": "code",
   "execution_count": 54,
   "metadata": {},
   "outputs": [
    {
     "name": "stdout",
     "output_type": "stream",
     "text": [
      "     Fruit Sweetness   Color\n",
      "0    Apple      High     Red\n",
      "1    Apple       Low     Red\n",
      "2   Orange       Low  Orange\n",
      "3   Orange      High  Orange\n",
      "4    Apple      High     Red\n",
      "5   Orange       Low  Orange\n",
      "6    Apple      High     Red\n",
      "7   Orange       Low  Orange\n",
      "8    Apple      High     Red\n",
      "9   Orange       Low  Orange\n",
      "10   Apple      High     Red\n",
      "11   Apple       Low     Red\n",
      "12  Orange      High  Orange\n",
      "13  Orange       Low  Orange\n",
      "14   Apple      High     Red\n"
     ]
    }
   ],
   "source": [
    "# Create a example dataset\n",
    "data = {\n",
    "    'Fruit': ['Apple', 'Apple', 'Orange', 'Orange', 'Apple',\n",
    "              'Orange', 'Apple', 'Orange', 'Apple', 'Orange',\n",
    "              'Apple', 'Apple', 'Orange', 'Orange', 'Apple'],\n",
    "    'Sweetness': ['High', 'Low', 'Low', 'High', 'High',\n",
    "                  'Low', 'High', 'Low', 'High', 'Low',\n",
    "                  'High', 'Low', 'High', 'Low', 'High'],\n",
    "    'Color': ['Red', 'Red', 'Orange', 'Orange', 'Red',\n",
    "              'Orange', 'Red', 'Orange', 'Red', 'Orange',\n",
    "              'Red', 'Red', 'Orange', 'Orange', 'Red']\n",
    "}\n",
    "\n",
    "df = pd.DataFrame(data)\n",
    "print(df)"
   ]
  },
  {
   "cell_type": "markdown",
   "metadata": {},
   "source": [
    "### We want to split the dataset based on the feature \"Sweetness.\"\n",
    "### So we found the following stances in Fruit column"
   ]
  },
  {
   "cell_type": "code",
   "execution_count": 55,
   "metadata": {},
   "outputs": [
    {
     "data": {
      "text/plain": [
       "Fruit\n",
       "Apple     8\n",
       "Orange    7\n",
       "Name: count, dtype: int64"
      ]
     },
     "execution_count": 55,
     "metadata": {},
     "output_type": "execute_result"
    }
   ],
   "source": [
    "# Check the ocurrences in fruit column\n",
    "df.value_counts('Fruit')"
   ]
  },
  {
   "cell_type": "code",
   "execution_count": 56,
   "metadata": {},
   "outputs": [
    {
     "name": "stdout",
     "output_type": "stream",
     "text": [
      "Apple count:  8\n",
      "Orange count:  7\n",
      "Total count:  15\n"
     ]
    }
   ],
   "source": [
    "# Find the number of instances for apples and oranges in the dataset\n",
    "apple_count = df['Fruit'].value_counts()['Apple']\n",
    "orange_count = df['Fruit'].value_counts()['Orange']\n",
    "total_count = apple_count + orange_count\n",
    "print(\"Apple count: \", apple_count)\n",
    "print(\"Orange count: \", orange_count)\n",
    "print(\"Total count: \", total_count)"
   ]
  },
  {
   "cell_type": "code",
   "execution_count": 57,
   "metadata": {},
   "outputs": [
    {
     "name": "stdout",
     "output_type": "stream",
     "text": [
      "Apple high:  6\n",
      "Apple low:  2\n",
      "Orange high:  2\n",
      "Orange low:  5\n"
     ]
    }
   ],
   "source": [
    "# Splitting further into high and low from Sweetness column\n",
    "apple_high = df[(df['Fruit'] == 'Apple') & (df['Sweetness'] == 'High')].count()['Fruit']\n",
    "apple_low = df[(df['Fruit'] == 'Apple') & (df['Sweetness'] == 'Low')].count()['Fruit']\n",
    "orange_high = df[(df['Fruit'] == 'Orange') & (df['Sweetness'] == 'High')].count()['Fruit']\n",
    "orange_low = df[(df['Fruit'] == 'Orange') & (df['Sweetness'] == 'Low')].count()['Fruit']\n",
    "print(\"Apple high: \", apple_high)\n",
    "print(\"Apple low: \", apple_low)\n",
    "print(\"Orange high: \", orange_high)\n",
    "print(\"Orange low: \", orange_low)"
   ]
  },
  {
   "cell_type": "code",
   "execution_count": 68,
   "metadata": {},
   "outputs": [
    {
     "name": "stdout",
     "output_type": "stream",
     "text": [
      "Apple high: 6\n",
      "Apple low: 2\n",
      "Orange high: 2\n",
      "Orange low: 5\n",
      "------------------------\n",
      "Fruit   Sweetness\n",
      "Apple   High         6\n",
      "        Low          2\n",
      "Orange  High         2\n",
      "        Low          5\n",
      "dtype: int64\n"
     ]
    }
   ],
   "source": [
    "# Same result through groupby funtion\n",
    "counts = df.groupby(['Fruit', 'Sweetness']).size()\n",
    "apple_high = counts[('Apple', 'High')]\n",
    "apple_low = counts[('Apple', 'Low')]\n",
    "orange_high = counts[('Orange', 'High')]\n",
    "orange_low = counts[('Orange', 'Low')]\n",
    "\n",
    "print(\"Apple high:\", apple_high)\n",
    "print(\"Apple low:\", apple_low)\n",
    "print(\"Orange high:\", orange_high)\n",
    "print(\"Orange low:\", orange_low)\n",
    "print('------------------------')\n",
    "print(counts)"
   ]
  },
  {
   "cell_type": "code",
   "execution_count": 59,
   "metadata": {},
   "outputs": [
    {
     "name": "stdout",
     "output_type": "stream",
     "text": [
      "Proportion of A:  0.5333333333333333\n",
      "Proportion of B:  0.4666666666666667\n"
     ]
    }
   ],
   "source": [
    "# let's calculate the proportions\n",
    "p_apple = apple_count / total_count\n",
    "p_orange = orange_count / total_count\n",
    "\n",
    "# print the proportions\n",
    "print(\"Proportion of A: \", p_apple)\n",
    "print(\"Proportion of B: \", p_orange)"
   ]
  },
  {
   "cell_type": "code",
   "execution_count": 60,
   "metadata": {},
   "outputs": [
    {
     "name": "stdout",
     "output_type": "stream",
     "text": [
      "Entropy:  0.9967916319816366\n"
     ]
    }
   ],
   "source": [
    "# Entropy Calculate\n",
    "# Entropy is a measure of uncertainty\n",
    "entropy = -p_apple * math.log2(p_apple) - p_orange * math.log2(p_orange)\n",
    "print(\"Entropy: \", entropy)"
   ]
  },
  {
   "cell_type": "code",
   "execution_count": 61,
   "metadata": {},
   "outputs": [
    {
     "name": "stdout",
     "output_type": "stream",
     "text": [
      "Gini Impurity:  0.4977777777777777\n"
     ]
    }
   ],
   "source": [
    "# gini impurity\n",
    "# Gini impurity is a measure of misclassification\n",
    "gini = 1- p_apple**2 - p_orange**2\n",
    "print(\"Gini Impurity: \", gini)"
   ]
  },
  {
   "cell_type": "code",
   "execution_count": 64,
   "metadata": {},
   "outputs": [
    {
     "name": "stdout",
     "output_type": "stream",
     "text": [
      "Information Gain:  0.16132036693900464\n"
     ]
    }
   ],
   "source": [
    "# Information Gain\n",
    "# Assuming a split on some feature divides the dataset into two subsets\n",
    "# Subset 1: 6 apple_high, 2 of apple_low\n",
    "# Subset 2: 2 orange_high, 5 of orange_low\n",
    "# Entropy and size for each subset\n",
    "\n",
    "p_apple_high = apple_high / (apple_high + apple_low)\n",
    "p_apple_low = apple_low / (apple_high + apple_low)\n",
    "entropy_1 = -p_apple_high * math.log2(p_apple_high) - p_apple_low * math.log2(p_apple_low) if p_apple_high and p_apple_low else 0\n",
    "\n",
    "p_orange_high = orange_high / (orange_high + orange_low)\n",
    "p_orange_low = orange_low / (orange_high + orange_low)\n",
    "entropy_2 = -p_orange_high * math.log2(p_orange_high) - p_orange_low * math.log2(p_orange_low) if p_orange_high and p_orange_low else 0\n",
    "\n",
    "# Calculating information gain\n",
    "info_gain = entropy - ((apple_high + apple_low) / total_count * entropy_1 + (orange_high + orange_low) / total_count * entropy_2)\n",
    "print(\"Information Gain: \", info_gain)"
   ]
  },
  {
   "cell_type": "markdown",
   "metadata": {},
   "source": [
    "1. **Entropy:** When the entropy is approximately 0.9967916319816366, it means that the dataset is highly impure or uncertain in terms of its class distribution. With an entropy value of approximately 0.9967916319816366, it suggests that the classes (e.g., \"Apple\" and \"Orange\") are fairly evenly distributed within the dataset.\n",
    "\n",
    "2. **Gini Impurity:** When the Gini impurity is approximately 0.4977777777777777, it indicates the level of impurity or inequality in the class distribution within the dataset. With a Gini impurity value of approximately 0.4977777777777777, it indicates a moderate level of impurity in the dataset.\n",
    "\n",
    "3. **Information Gain:** When the information gain is approximately 0.16132036693900464, it represents the amount of information gained by splitting the dataset based on a particular feature. With an information gain value of approximately 0.16132036693900464, it suggests that splitting the dataset based on the chosen feature (which was not specified) results in a moderate reduction in entropy or impurity."
   ]
  }
 ],
 "metadata": {
  "kernelspec": {
   "display_name": "Python 3",
   "language": "python",
   "name": "python3"
  },
  "language_info": {
   "codemirror_mode": {
    "name": "ipython",
    "version": 3
   },
   "file_extension": ".py",
   "mimetype": "text/x-python",
   "name": "python",
   "nbconvert_exporter": "python",
   "pygments_lexer": "ipython3",
   "version": "3.11.5"
  }
 },
 "nbformat": 4,
 "nbformat_minor": 2
}
