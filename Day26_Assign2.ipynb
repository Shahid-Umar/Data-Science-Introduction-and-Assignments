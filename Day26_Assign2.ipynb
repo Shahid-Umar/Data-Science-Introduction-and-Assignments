{
 "cells": [
  {
   "cell_type": "markdown",
   "metadata": {},
   "source": [
    "# **Assignment:** Animate graph using Monthly Data, convert the data into monthly data and then animated the plot, save it as avi and mp4 file or gif"
   ]
  },
  {
   "cell_type": "code",
   "execution_count": 1,
   "metadata": {},
   "outputs": [],
   "source": [
    "# import libraries\n",
    "import pandas as pd\n",
    "import plotly.express as px\n",
    "import numpy as np"
   ]
  },
  {
   "cell_type": "markdown",
   "metadata": {},
   "source": [
    "- **Import dataset of World Stock Prices from Jan,2000 to Sep,2023**\\\n",
    "- Dataset has been downloaded from this [kaggle link](https://www.kaggle.com/datasets/nelgiriyewithana/world-stock-prices-daily-updating)"
   ]
  },
  {
   "cell_type": "code",
   "execution_count": 2,
   "metadata": {},
   "outputs": [],
   "source": [
    "\n",
    "df = pd.read_csv(\"../01_datasets/world_stock_prices.csv\")"
   ]
  },
  {
   "cell_type": "code",
   "execution_count": 3,
   "metadata": {},
   "outputs": [
    {
     "data": {
      "text/plain": [
       "Index(['Date', 'Open', 'High', 'Low', 'Close', 'Volume', 'Dividends',\n",
       "       'Stock Splits', 'Brand_Name', 'Ticker', 'Industry_Tag', 'Country'],\n",
       "      dtype='object')"
      ]
     },
     "execution_count": 3,
     "metadata": {},
     "output_type": "execute_result"
    }
   ],
   "source": [
    "df.columns"
   ]
  },
  {
   "cell_type": "code",
   "execution_count": 4,
   "metadata": {},
   "outputs": [
    {
     "data": {
      "text/html": [
       "<div>\n",
       "<style scoped>\n",
       "    .dataframe tbody tr th:only-of-type {\n",
       "        vertical-align: middle;\n",
       "    }\n",
       "\n",
       "    .dataframe tbody tr th {\n",
       "        vertical-align: top;\n",
       "    }\n",
       "\n",
       "    .dataframe thead th {\n",
       "        text-align: right;\n",
       "    }\n",
       "</style>\n",
       "<table border=\"1\" class=\"dataframe\">\n",
       "  <thead>\n",
       "    <tr style=\"text-align: right;\">\n",
       "      <th></th>\n",
       "      <th>Date</th>\n",
       "      <th>Open</th>\n",
       "      <th>High</th>\n",
       "      <th>Low</th>\n",
       "      <th>Close</th>\n",
       "      <th>Volume</th>\n",
       "      <th>Dividends</th>\n",
       "      <th>Stock Splits</th>\n",
       "      <th>Brand_Name</th>\n",
       "      <th>Ticker</th>\n",
       "      <th>Industry_Tag</th>\n",
       "      <th>Country</th>\n",
       "    </tr>\n",
       "  </thead>\n",
       "  <tbody>\n",
       "    <tr>\n",
       "      <th>0</th>\n",
       "      <td>2023-09-20 00:00:00-04:00</td>\n",
       "      <td>4.840000</td>\n",
       "      <td>4.910000</td>\n",
       "      <td>4.630000</td>\n",
       "      <td>4.670000</td>\n",
       "      <td>7441900.0</td>\n",
       "      <td>0.0</td>\n",
       "      <td>0.0</td>\n",
       "      <td>peloton</td>\n",
       "      <td>PTON</td>\n",
       "      <td>fitness</td>\n",
       "      <td>usa</td>\n",
       "    </tr>\n",
       "    <tr>\n",
       "      <th>1</th>\n",
       "      <td>2023-09-20 00:00:00-04:00</td>\n",
       "      <td>397.049988</td>\n",
       "      <td>397.989990</td>\n",
       "      <td>386.119995</td>\n",
       "      <td>386.299988</td>\n",
       "      <td>3866600.0</td>\n",
       "      <td>0.0</td>\n",
       "      <td>0.0</td>\n",
       "      <td>netflix</td>\n",
       "      <td>NFLX</td>\n",
       "      <td>entertainment</td>\n",
       "      <td>usa</td>\n",
       "    </tr>\n",
       "    <tr>\n",
       "      <th>2</th>\n",
       "      <td>2023-09-20 00:00:00-04:00</td>\n",
       "      <td>564.349976</td>\n",
       "      <td>569.219971</td>\n",
       "      <td>562.659973</td>\n",
       "      <td>563.830017</td>\n",
       "      <td>1311500.0</td>\n",
       "      <td>0.0</td>\n",
       "      <td>0.0</td>\n",
       "      <td>costco</td>\n",
       "      <td>COST</td>\n",
       "      <td>retail</td>\n",
       "      <td>usa</td>\n",
       "    </tr>\n",
       "    <tr>\n",
       "      <th>3</th>\n",
       "      <td>2023-09-20 00:00:00-04:00</td>\n",
       "      <td>138.550003</td>\n",
       "      <td>139.369995</td>\n",
       "      <td>135.199997</td>\n",
       "      <td>135.289993</td>\n",
       "      <td>46263700.0</td>\n",
       "      <td>0.0</td>\n",
       "      <td>0.0</td>\n",
       "      <td>amazon</td>\n",
       "      <td>AMZN</td>\n",
       "      <td>e-commerce</td>\n",
       "      <td>usa</td>\n",
       "    </tr>\n",
       "    <tr>\n",
       "      <th>4</th>\n",
       "      <td>2023-09-20 00:00:00-04:00</td>\n",
       "      <td>179.259995</td>\n",
       "      <td>179.699997</td>\n",
       "      <td>175.399994</td>\n",
       "      <td>175.490005</td>\n",
       "      <td>58436200.0</td>\n",
       "      <td>0.0</td>\n",
       "      <td>0.0</td>\n",
       "      <td>apple</td>\n",
       "      <td>AAPL</td>\n",
       "      <td>technology</td>\n",
       "      <td>usa</td>\n",
       "    </tr>\n",
       "  </tbody>\n",
       "</table>\n",
       "</div>"
      ],
      "text/plain": [
       "                        Date        Open        High         Low       Close  \\\n",
       "0  2023-09-20 00:00:00-04:00    4.840000    4.910000    4.630000    4.670000   \n",
       "1  2023-09-20 00:00:00-04:00  397.049988  397.989990  386.119995  386.299988   \n",
       "2  2023-09-20 00:00:00-04:00  564.349976  569.219971  562.659973  563.830017   \n",
       "3  2023-09-20 00:00:00-04:00  138.550003  139.369995  135.199997  135.289993   \n",
       "4  2023-09-20 00:00:00-04:00  179.259995  179.699997  175.399994  175.490005   \n",
       "\n",
       "       Volume  Dividends  Stock Splits Brand_Name Ticker   Industry_Tag  \\\n",
       "0   7441900.0        0.0           0.0    peloton   PTON        fitness   \n",
       "1   3866600.0        0.0           0.0    netflix   NFLX  entertainment   \n",
       "2   1311500.0        0.0           0.0     costco   COST         retail   \n",
       "3  46263700.0        0.0           0.0     amazon   AMZN     e-commerce   \n",
       "4  58436200.0        0.0           0.0      apple   AAPL     technology   \n",
       "\n",
       "  Country  \n",
       "0     usa  \n",
       "1     usa  \n",
       "2     usa  \n",
       "3     usa  \n",
       "4     usa  "
      ]
     },
     "execution_count": 4,
     "metadata": {},
     "output_type": "execute_result"
    }
   ],
   "source": [
    "df.head()"
   ]
  },
  {
   "cell_type": "code",
   "execution_count": 5,
   "metadata": {},
   "outputs": [
    {
     "name": "stdout",
     "output_type": "stream",
     "text": [
      "<class 'pandas.core.frame.DataFrame'>\n",
      "RangeIndex: 279753 entries, 0 to 279752\n",
      "Data columns (total 12 columns):\n",
      " #   Column        Non-Null Count   Dtype  \n",
      "---  ------        --------------   -----  \n",
      " 0   Date          279753 non-null  object \n",
      " 1   Open          279753 non-null  float64\n",
      " 2   High          279753 non-null  float64\n",
      " 3   Low           279753 non-null  float64\n",
      " 4   Close         279753 non-null  float64\n",
      " 5   Volume        279753 non-null  float64\n",
      " 6   Dividends     279753 non-null  float64\n",
      " 7   Stock Splits  279753 non-null  float64\n",
      " 8   Brand_Name    279753 non-null  object \n",
      " 9   Ticker        279753 non-null  object \n",
      " 10  Industry_Tag  279753 non-null  object \n",
      " 11  Country       279753 non-null  object \n",
      "dtypes: float64(7), object(5)\n",
      "memory usage: 25.6+ MB\n"
     ]
    }
   ],
   "source": [
    "df.info()"
   ]
  },
  {
   "cell_type": "code",
   "execution_count": 6,
   "metadata": {},
   "outputs": [
    {
     "data": {
      "text/plain": [
       "5966"
      ]
     },
     "execution_count": 6,
     "metadata": {},
     "output_type": "execute_result"
    }
   ],
   "source": [
    "df['Date'].nunique() # Every date have only one entry/row"
   ]
  },
  {
   "cell_type": "code",
   "execution_count": 7,
   "metadata": {},
   "outputs": [
    {
     "data": {
      "text/plain": [
       "0    2023-09-20 00:00:00-04:00\n",
       "1    2023-09-20 00:00:00-04:00\n",
       "2    2023-09-20 00:00:00-04:00\n",
       "3    2023-09-20 00:00:00-04:00\n",
       "4    2023-09-20 00:00:00-04:00\n",
       "Name: Date, dtype: object"
      ]
     },
     "execution_count": 7,
     "metadata": {},
     "output_type": "execute_result"
    }
   ],
   "source": [
    "df['Date'].head()"
   ]
  },
  {
   "cell_type": "markdown",
   "metadata": {},
   "source": [
    "- Remove '00:00:00-' from date values, for this operation we must import numpy library"
   ]
  },
  {
   "cell_type": "code",
   "execution_count": 8,
   "metadata": {},
   "outputs": [],
   "source": [
    "df['Date'] = df['Date'].str.replace('00:00:00-', '')"
   ]
  },
  {
   "cell_type": "code",
   "execution_count": 9,
   "metadata": {},
   "outputs": [
    {
     "data": {
      "text/plain": [
       "0    2023-09-20 04:00\n",
       "1    2023-09-20 04:00\n",
       "2    2023-09-20 04:00\n",
       "3    2023-09-20 04:00\n",
       "4    2023-09-20 04:00\n",
       "Name: Date, dtype: object"
      ]
     },
     "execution_count": 9,
     "metadata": {},
     "output_type": "execute_result"
    }
   ],
   "source": [
    "df['Date'].head()"
   ]
  },
  {
   "cell_type": "code",
   "execution_count": 10,
   "metadata": {},
   "outputs": [
    {
     "data": {
      "text/plain": [
       "279748    2023-08-29 04:00\n",
       "279749    2023-08-30 04:00\n",
       "279750    2023-08-31 04:00\n",
       "279751    2023-09-01 04:00\n",
       "279752    2023-09-05 04:00\n",
       "Name: Date, dtype: object"
      ]
     },
     "execution_count": 10,
     "metadata": {},
     "output_type": "execute_result"
    }
   ],
   "source": [
    "df['Date'].tail()"
   ]
  },
  {
   "cell_type": "code",
   "execution_count": 11,
   "metadata": {},
   "outputs": [
    {
     "name": "stdout",
     "output_type": "stream",
     "text": [
      "2000-01-03 05:00\n",
      "2023-09-20 04:00\n"
     ]
    }
   ],
   "source": [
    "print(df['Date'].min())\n",
    "print(df['Date'].max())"
   ]
  },
  {
   "cell_type": "code",
   "execution_count": 12,
   "metadata": {},
   "outputs": [
    {
     "data": {
      "text/plain": [
       "array(['usa', 'japan', 'germany', 'switzerland', 'canada', 'netherlands',\n",
       "       'france'], dtype=object)"
      ]
     },
     "execution_count": 12,
     "metadata": {},
     "output_type": "execute_result"
    }
   ],
   "source": [
    "df['Country'].unique()"
   ]
  },
  {
   "cell_type": "code",
   "execution_count": 13,
   "metadata": {},
   "outputs": [
    {
     "data": {
      "text/html": [
       "<div>\n",
       "<style scoped>\n",
       "    .dataframe tbody tr th:only-of-type {\n",
       "        vertical-align: middle;\n",
       "    }\n",
       "\n",
       "    .dataframe tbody tr th {\n",
       "        vertical-align: top;\n",
       "    }\n",
       "\n",
       "    .dataframe thead th {\n",
       "        text-align: right;\n",
       "    }\n",
       "</style>\n",
       "<table border=\"1\" class=\"dataframe\">\n",
       "  <thead>\n",
       "    <tr style=\"text-align: right;\">\n",
       "      <th></th>\n",
       "      <th>year_month</th>\n",
       "      <th>Country</th>\n",
       "      <th>Volume</th>\n",
       "    </tr>\n",
       "  </thead>\n",
       "  <tbody>\n",
       "    <tr>\n",
       "      <th>0</th>\n",
       "      <td>2000-01</td>\n",
       "      <td>japan</td>\n",
       "      <td>8.388700e+06</td>\n",
       "    </tr>\n",
       "    <tr>\n",
       "      <th>1</th>\n",
       "      <td>2000-01</td>\n",
       "      <td>netherlands</td>\n",
       "      <td>4.800256e+07</td>\n",
       "    </tr>\n",
       "    <tr>\n",
       "      <th>2</th>\n",
       "      <td>2000-01</td>\n",
       "      <td>switzerland</td>\n",
       "      <td>4.511200e+06</td>\n",
       "    </tr>\n",
       "    <tr>\n",
       "      <th>3</th>\n",
       "      <td>2000-01</td>\n",
       "      <td>usa</td>\n",
       "      <td>2.361515e+10</td>\n",
       "    </tr>\n",
       "    <tr>\n",
       "      <th>4</th>\n",
       "      <td>2000-02</td>\n",
       "      <td>japan</td>\n",
       "      <td>1.425950e+07</td>\n",
       "    </tr>\n",
       "  </tbody>\n",
       "</table>\n",
       "</div>"
      ],
      "text/plain": [
       "  year_month      Country        Volume\n",
       "0    2000-01        japan  8.388700e+06\n",
       "1    2000-01  netherlands  4.800256e+07\n",
       "2    2000-01  switzerland  4.511200e+06\n",
       "3    2000-01          usa  2.361515e+10\n",
       "4    2000-02        japan  1.425950e+07"
      ]
     },
     "execution_count": 13,
     "metadata": {},
     "output_type": "execute_result"
    }
   ],
   "source": [
    "#columns are 'Date', 'Open', 'High', 'Low', 'Close', 'Volume', 'Dividends',\n",
    "#       'Stock Splits', 'Brand_Name', 'Ticker', 'Industry_Tag', 'Country'\n",
    "\n",
    "# group coffee based on each month in date and take average of new_cases\n",
    "# Convert the 'date' column to datetime format\n",
    "df['Date'] = pd.to_datetime(df['Date'])\n",
    "\n",
    "# Create a new column 'year_month' to represent the year and month\n",
    "df['year_month'] = df['Date'].dt.to_period('M')\n",
    "\n",
    "# Now group by 'year_month' and 'location', and sum the 'new_cases' & total_cases for each group\n",
    "monthly = df.groupby(['year_month', 'Country']).agg({'Volume': 'sum'}).reset_index()\n",
    "\n",
    "# Convert 'year_month' back to a string format for readability\n",
    "monthly['year_month'] = monthly['year_month'].astype(str)\n",
    "\n",
    "# This will give you a new DataFrame with the sum of new cases for each month and location\n",
    "monthly.head()"
   ]
  },
  {
   "cell_type": "code",
   "execution_count": 14,
   "metadata": {},
   "outputs": [
    {
     "data": {
      "text/plain": [
       "5000.0"
      ]
     },
     "execution_count": 14,
     "metadata": {},
     "output_type": "execute_result"
    }
   ],
   "source": [
    "monthly['Volume'].min()"
   ]
  },
  {
   "cell_type": "code",
   "execution_count": 15,
   "metadata": {},
   "outputs": [
    {
     "data": {
      "text/plain": [
       "76494381784.0"
      ]
     },
     "execution_count": 15,
     "metadata": {},
     "output_type": "execute_result"
    }
   ],
   "source": [
    "monthly['Volume'].max()"
   ]
  },
  {
   "cell_type": "markdown",
   "metadata": {},
   "source": [
    "- ### Display row on specific column's value. Here, maximum volume's row in dataframe"
   ]
  },
  {
   "cell_type": "code",
   "execution_count": 16,
   "metadata": {},
   "outputs": [
    {
     "name": "stdout",
     "output_type": "stream",
     "text": [
      "                     Date     Open      High       Low     Close  \\\n",
      "19219 2000-09-29 04:00:00  0.42724  0.439555  0.384611  0.390294   \n",
      "\n",
      "             Volume  Dividends  Stock Splits Brand_Name Ticker Industry_Tag  \\\n",
      "19219  7.421641e+09        0.0           0.0      apple   AAPL   technology   \n",
      "\n",
      "      Country year_month  \n",
      "19219     usa    2000-09  \n"
     ]
    }
   ],
   "source": [
    "# Filter the DataFrame based on the specified value\n",
    "specific_row = df[df['Volume'] == df['Volume'].max()]\n",
    "\n",
    "# Display the filtered DataFrame\n",
    "print(specific_row)"
   ]
  },
  {
   "cell_type": "code",
   "execution_count": 18,
   "metadata": {},
   "outputs": [
    {
     "data": {
      "application/vnd.plotly.v1+json": {
       "config": {
        "plotlyServerURL": "https://plot.ly"
       },
       "data": [
        {
         "coloraxis": "coloraxis",
         "geo": "geo",
         "hovertemplate": "Year-Month=2000-01<br>Country=%{location}<br>Volume in USD=%{z}<extra></extra>",
         "locationmode": "country names",
         "locations": [
          "japan",
          "netherlands",
          "switzerland",
          "usa"
         ],
         "name": "",
         "type": "choropleth",
         "z": [
          8388700,
          48002560,
          4511200,
          23615149135
         ]
        }
       ],
       "frames": [
        {
         "data": [
          {
           "coloraxis": "coloraxis",
           "geo": "geo",
           "hovertemplate": "Year-Month=2000-01<br>Country=%{location}<br>Volume in USD=%{z}<extra></extra>",
           "locationmode": "country names",
           "locations": [
            "japan",
            "netherlands",
            "switzerland",
            "usa"
           ],
           "name": "",
           "type": "choropleth",
           "z": [
            8388700,
            48002560,
            4511200,
            23615149135
           ]
          }
         ],
         "name": "2000-01"
        },
        {
         "data": [
          {
           "coloraxis": "coloraxis",
           "geo": "geo",
           "hovertemplate": "Year-Month=2000-02<br>Country=%{location}<br>Volume in USD=%{z}<extra></extra>",
           "locationmode": "country names",
           "locations": [
            "japan",
            "netherlands",
            "switzerland",
            "usa"
           ],
           "name": "",
           "type": "choropleth",
           "z": [
            14259500,
            63283020,
            3208800,
            18039765070
           ]
          }
         ],
         "name": "2000-02"
        },
        {
         "data": [
          {
           "coloraxis": "coloraxis",
           "geo": "geo",
           "hovertemplate": "Year-Month=2000-03<br>Country=%{location}<br>Volume in USD=%{z}<extra></extra>",
           "locationmode": "country names",
           "locations": [
            "japan",
            "netherlands",
            "switzerland",
            "usa"
           ],
           "name": "",
           "type": "choropleth",
           "z": [
            9167800,
            60429780,
            1565600,
            20811473170
           ]
          }
         ],
         "name": "2000-03"
        },
        {
         "data": [
          {
           "coloraxis": "coloraxis",
           "geo": "geo",
           "hovertemplate": "Year-Month=2000-04<br>Country=%{location}<br>Volume in USD=%{z}<extra></extra>",
           "locationmode": "country names",
           "locations": [
            "japan",
            "netherlands",
            "switzerland",
            "usa"
           ],
           "name": "",
           "type": "choropleth",
           "z": [
            10678300,
            62809800,
            1316800,
            18926486649
           ]
          }
         ],
         "name": "2000-04"
        },
        {
         "data": [
          {
           "coloraxis": "coloraxis",
           "geo": "geo",
           "hovertemplate": "Year-Month=2000-05<br>Country=%{location}<br>Volume in USD=%{z}<extra></extra>",
           "locationmode": "country names",
           "locations": [
            "japan",
            "netherlands",
            "switzerland",
            "usa"
           ],
           "name": "",
           "type": "choropleth",
           "z": [
            15548200,
            32470100,
            807200,
            18655223312
           ]
          }
         ],
         "name": "2000-05"
        },
        {
         "data": [
          {
           "coloraxis": "coloraxis",
           "geo": "geo",
           "hovertemplate": "Year-Month=2000-06<br>Country=%{location}<br>Volume in USD=%{z}<extra></extra>",
           "locationmode": "country names",
           "locations": [
            "japan",
            "netherlands",
            "switzerland",
            "usa"
           ],
           "name": "",
           "type": "choropleth",
           "z": [
            4497900,
            33495480,
            2111200,
            18737453092
           ]
          }
         ],
         "name": "2000-06"
        },
        {
         "data": [
          {
           "coloraxis": "coloraxis",
           "geo": "geo",
           "hovertemplate": "Year-Month=2000-07<br>Country=%{location}<br>Volume in USD=%{z}<extra></extra>",
           "locationmode": "country names",
           "locations": [
            "japan",
            "netherlands",
            "switzerland",
            "usa"
           ],
           "name": "",
           "type": "choropleth",
           "z": [
            18936900,
            29790980,
            3673600,
            14688079506
           ]
          }
         ],
         "name": "2000-07"
        },
        {
         "data": [
          {
           "coloraxis": "coloraxis",
           "geo": "geo",
           "hovertemplate": "Year-Month=2000-08<br>Country=%{location}<br>Volume in USD=%{z}<extra></extra>",
           "locationmode": "country names",
           "locations": [
            "japan",
            "netherlands",
            "switzerland",
            "usa"
           ],
           "name": "",
           "type": "choropleth",
           "z": [
            5511100,
            36745640,
            3388400,
            13864766571
           ]
          }
         ],
         "name": "2000-08"
        },
        {
         "data": [
          {
           "coloraxis": "coloraxis",
           "geo": "geo",
           "hovertemplate": "Year-Month=2000-09<br>Country=%{location}<br>Volume in USD=%{z}<extra></extra>",
           "locationmode": "country names",
           "locations": [
            "japan",
            "netherlands",
            "switzerland",
            "usa"
           ],
           "name": "",
           "type": "choropleth",
           "z": [
            4465400,
            28301880,
            3274400,
            22853048877
           ]
          }
         ],
         "name": "2000-09"
        },
        {
         "data": [
          {
           "coloraxis": "coloraxis",
           "geo": "geo",
           "hovertemplate": "Year-Month=2000-10<br>Country=%{location}<br>Volume in USD=%{z}<extra></extra>",
           "locationmode": "country names",
           "locations": [
            "japan",
            "netherlands",
            "switzerland",
            "usa"
           ],
           "name": "",
           "type": "choropleth",
           "z": [
            3851400,
            41429480,
            3944400,
            34472692655
           ]
          }
         ],
         "name": "2000-10"
        },
        {
         "data": [
          {
           "coloraxis": "coloraxis",
           "geo": "geo",
           "hovertemplate": "Year-Month=2000-11<br>Country=%{location}<br>Volume in USD=%{z}<extra></extra>",
           "locationmode": "country names",
           "locations": [
            "japan",
            "netherlands",
            "switzerland",
            "usa"
           ],
           "name": "",
           "type": "choropleth",
           "z": [
            4669900,
            36086820,
            5932400,
            18267348160
           ]
          }
         ],
         "name": "2000-11"
        },
        {
         "data": [
          {
           "coloraxis": "coloraxis",
           "geo": "geo",
           "hovertemplate": "Year-Month=2000-12<br>Country=%{location}<br>Volume in USD=%{z}<extra></extra>",
           "locationmode": "country names",
           "locations": [
            "japan",
            "netherlands",
            "switzerland",
            "usa"
           ],
           "name": "",
           "type": "choropleth",
           "z": [
            5419700,
            33125820,
            5718800,
            20560493163
           ]
          }
         ],
         "name": "2000-12"
        },
        {
         "data": [
          {
           "coloraxis": "coloraxis",
           "geo": "geo",
           "hovertemplate": "Year-Month=2001-01<br>Country=%{location}<br>Volume in USD=%{z}<extra></extra>",
           "locationmode": "country names",
           "locations": [
            "japan",
            "netherlands",
            "switzerland",
            "usa"
           ],
           "name": "",
           "type": "choropleth",
           "z": [
            6391000,
            39192380,
            4080800,
            25727971486
           ]
          }
         ],
         "name": "2001-01"
        },
        {
         "data": [
          {
           "coloraxis": "coloraxis",
           "geo": "geo",
           "hovertemplate": "Year-Month=2001-02<br>Country=%{location}<br>Volume in USD=%{z}<extra></extra>",
           "locationmode": "country names",
           "locations": [
            "japan",
            "netherlands",
            "switzerland",
            "usa"
           ],
           "name": "",
           "type": "choropleth",
           "z": [
            4657200,
            28397900,
            1743600,
            17744170644
           ]
          }
         ],
         "name": "2001-02"
        },
        {
         "data": [
          {
           "coloraxis": "coloraxis",
           "geo": "geo",
           "hovertemplate": "Year-Month=2001-03<br>Country=%{location}<br>Volume in USD=%{z}<extra></extra>",
           "locationmode": "country names",
           "locations": [
            "japan",
            "netherlands",
            "switzerland",
            "usa"
           ],
           "name": "",
           "type": "choropleth",
           "z": [
            8487500,
            42354780,
            3616400,
            24681420720
           ]
          }
         ],
         "name": "2001-03"
        },
        {
         "data": [
          {
           "coloraxis": "coloraxis",
           "geo": "geo",
           "hovertemplate": "Year-Month=2001-04<br>Country=%{location}<br>Volume in USD=%{z}<extra></extra>",
           "locationmode": "country names",
           "locations": [
            "japan",
            "netherlands",
            "switzerland",
            "usa"
           ],
           "name": "",
           "type": "choropleth",
           "z": [
            8345200,
            39086980,
            2717200,
            25336009513
           ]
          }
         ],
         "name": "2001-04"
        },
        {
         "data": [
          {
           "coloraxis": "coloraxis",
           "geo": "geo",
           "hovertemplate": "Year-Month=2001-05<br>Country=%{location}<br>Volume in USD=%{z}<extra></extra>",
           "locationmode": "country names",
           "locations": [
            "japan",
            "netherlands",
            "switzerland",
            "usa"
           ],
           "name": "",
           "type": "choropleth",
           "z": [
            9968400,
            29852320,
            1457200,
            19731276592
           ]
          }
         ],
         "name": "2001-05"
        },
        {
         "data": [
          {
           "coloraxis": "coloraxis",
           "geo": "geo",
           "hovertemplate": "Year-Month=2001-06<br>Country=%{location}<br>Volume in USD=%{z}<extra></extra>",
           "locationmode": "country names",
           "locations": [
            "japan",
            "netherlands",
            "switzerland",
            "usa"
           ],
           "name": "",
           "type": "choropleth",
           "z": [
            9095400,
            35782620,
            2534400,
            17734309873
           ]
          }
         ],
         "name": "2001-06"
        },
        {
         "data": [
          {
           "coloraxis": "coloraxis",
           "geo": "geo",
           "hovertemplate": "Year-Month=2001-07<br>Country=%{location}<br>Volume in USD=%{z}<extra></extra>",
           "locationmode": "country names",
           "locations": [
            "japan",
            "netherlands",
            "switzerland",
            "usa"
           ],
           "name": "",
           "type": "choropleth",
           "z": [
            6601100,
            25143520,
            3481600,
            19439232860
           ]
          }
         ],
         "name": "2001-07"
        },
        {
         "data": [
          {
           "coloraxis": "coloraxis",
           "geo": "geo",
           "hovertemplate": "Year-Month=2001-08<br>Country=%{location}<br>Volume in USD=%{z}<extra></extra>",
           "locationmode": "country names",
           "locations": [
            "japan",
            "netherlands",
            "switzerland",
            "usa"
           ],
           "name": "",
           "type": "choropleth",
           "z": [
            6946200,
            29217800,
            1192800,
            15103173109
           ]
          }
         ],
         "name": "2001-08"
        },
        {
         "data": [
          {
           "coloraxis": "coloraxis",
           "geo": "geo",
           "hovertemplate": "Year-Month=2001-09<br>Country=%{location}<br>Volume in USD=%{z}<extra></extra>",
           "locationmode": "country names",
           "locations": [
            "japan",
            "netherlands",
            "switzerland",
            "usa"
           ],
           "name": "",
           "type": "choropleth",
           "z": [
            44372300,
            30200620,
            638800,
            16181108703
           ]
          }
         ],
         "name": "2001-09"
        },
        {
         "data": [
          {
           "coloraxis": "coloraxis",
           "geo": "geo",
           "hovertemplate": "Year-Month=2001-10<br>Country=%{location}<br>Volume in USD=%{z}<extra></extra>",
           "locationmode": "country names",
           "locations": [
            "japan",
            "netherlands",
            "switzerland",
            "usa"
           ],
           "name": "",
           "type": "choropleth",
           "z": [
            5711100,
            27607180,
            3121200,
            20437084376
           ]
          }
         ],
         "name": "2001-10"
        },
        {
         "data": [
          {
           "coloraxis": "coloraxis",
           "geo": "geo",
           "hovertemplate": "Year-Month=2001-11<br>Country=%{location}<br>Volume in USD=%{z}<extra></extra>",
           "locationmode": "country names",
           "locations": [
            "japan",
            "netherlands",
            "switzerland",
            "usa"
           ],
           "name": "",
           "type": "choropleth",
           "z": [
            11926700,
            27388160,
            1750400,
            20059104447
           ]
          }
         ],
         "name": "2001-11"
        },
        {
         "data": [
          {
           "coloraxis": "coloraxis",
           "geo": "geo",
           "hovertemplate": "Year-Month=2001-12<br>Country=%{location}<br>Volume in USD=%{z}<extra></extra>",
           "locationmode": "country names",
           "locations": [
            "japan",
            "netherlands",
            "switzerland",
            "usa"
           ],
           "name": "",
           "type": "choropleth",
           "z": [
            4858400,
            22426740,
            3762000,
            15451655194
           ]
          }
         ],
         "name": "2001-12"
        },
        {
         "data": [
          {
           "coloraxis": "coloraxis",
           "geo": "geo",
           "hovertemplate": "Year-Month=2002-01<br>Country=%{location}<br>Volume in USD=%{z}<extra></extra>",
           "locationmode": "country names",
           "locations": [
            "japan",
            "netherlands",
            "switzerland",
            "usa"
           ],
           "name": "",
           "type": "choropleth",
           "z": [
            13978500,
            27512860,
            4570000,
            23058343529
           ]
          }
         ],
         "name": "2002-01"
        },
        {
         "data": [
          {
           "coloraxis": "coloraxis",
           "geo": "geo",
           "hovertemplate": "Year-Month=2002-02<br>Country=%{location}<br>Volume in USD=%{z}<extra></extra>",
           "locationmode": "country names",
           "locations": [
            "japan",
            "netherlands",
            "switzerland",
            "usa"
           ],
           "name": "",
           "type": "choropleth",
           "z": [
            6527900,
            27856920,
            3538000,
            19471681802
           ]
          }
         ],
         "name": "2002-02"
        },
        {
         "data": [
          {
           "coloraxis": "coloraxis",
           "geo": "geo",
           "hovertemplate": "Year-Month=2002-03<br>Country=%{location}<br>Volume in USD=%{z}<extra></extra>",
           "locationmode": "country names",
           "locations": [
            "japan",
            "netherlands",
            "switzerland",
            "usa"
           ],
           "name": "",
           "type": "choropleth",
           "z": [
            12097500,
            23751860,
            3720000,
            16306921319
           ]
          }
         ],
         "name": "2002-03"
        },
        {
         "data": [
          {
           "coloraxis": "coloraxis",
           "geo": "geo",
           "hovertemplate": "Year-Month=2002-04<br>Country=%{location}<br>Volume in USD=%{z}<extra></extra>",
           "locationmode": "country names",
           "locations": [
            "japan",
            "netherlands",
            "switzerland",
            "usa"
           ],
           "name": "",
           "type": "choropleth",
           "z": [
            6745100,
            27633680,
            3410400,
            18471440333
           ]
          }
         ],
         "name": "2002-04"
        },
        {
         "data": [
          {
           "coloraxis": "coloraxis",
           "geo": "geo",
           "hovertemplate": "Year-Month=2002-05<br>Country=%{location}<br>Volume in USD=%{z}<extra></extra>",
           "locationmode": "country names",
           "locations": [
            "japan",
            "netherlands",
            "switzerland",
            "usa"
           ],
           "name": "",
           "type": "choropleth",
           "z": [
            9985600,
            25013280,
            3058000,
            17773165462
           ]
          }
         ],
         "name": "2002-05"
        },
        {
         "data": [
          {
           "coloraxis": "coloraxis",
           "geo": "geo",
           "hovertemplate": "Year-Month=2002-06<br>Country=%{location}<br>Volume in USD=%{z}<extra></extra>",
           "locationmode": "country names",
           "locations": [
            "japan",
            "netherlands",
            "switzerland",
            "usa"
           ],
           "name": "",
           "type": "choropleth",
           "z": [
            9450800,
            26521440,
            4251600,
            20715041849
           ]
          }
         ],
         "name": "2002-06"
        },
        {
         "data": [
          {
           "coloraxis": "coloraxis",
           "geo": "geo",
           "hovertemplate": "Year-Month=2002-07<br>Country=%{location}<br>Volume in USD=%{z}<extra></extra>",
           "locationmode": "country names",
           "locations": [
            "japan",
            "netherlands",
            "switzerland",
            "usa"
           ],
           "name": "",
           "type": "choropleth",
           "z": [
            8683300,
            35953120,
            4868800,
            23425288147
           ]
          }
         ],
         "name": "2002-07"
        },
        {
         "data": [
          {
           "coloraxis": "coloraxis",
           "geo": "geo",
           "hovertemplate": "Year-Month=2002-08<br>Country=%{location}<br>Volume in USD=%{z}<extra></extra>",
           "locationmode": "country names",
           "locations": [
            "japan",
            "netherlands",
            "switzerland",
            "usa"
           ],
           "name": "",
           "type": "choropleth",
           "z": [
            5883100,
            31627000,
            5852000,
            16875863471
           ]
          }
         ],
         "name": "2002-08"
        },
        {
         "data": [
          {
           "coloraxis": "coloraxis",
           "geo": "geo",
           "hovertemplate": "Year-Month=2002-09<br>Country=%{location}<br>Volume in USD=%{z}<extra></extra>",
           "locationmode": "country names",
           "locations": [
            "japan",
            "netherlands",
            "switzerland",
            "usa"
           ],
           "name": "",
           "type": "choropleth",
           "z": [
            13500000,
            43791320,
            6063600,
            16336501320
           ]
          }
         ],
         "name": "2002-09"
        },
        {
         "data": [
          {
           "coloraxis": "coloraxis",
           "geo": "geo",
           "hovertemplate": "Year-Month=2002-10<br>Country=%{location}<br>Volume in USD=%{z}<extra></extra>",
           "locationmode": "country names",
           "locations": [
            "japan",
            "netherlands",
            "switzerland",
            "usa"
           ],
           "name": "",
           "type": "choropleth",
           "z": [
            12097500,
            34178460,
            7725200,
            22034933992
           ]
          }
         ],
         "name": "2002-10"
        },
        {
         "data": [
          {
           "coloraxis": "coloraxis",
           "geo": "geo",
           "hovertemplate": "Year-Month=2002-11<br>Country=%{location}<br>Volume in USD=%{z}<extra></extra>",
           "locationmode": "country names",
           "locations": [
            "japan",
            "netherlands",
            "switzerland",
            "usa"
           ],
           "name": "",
           "type": "choropleth",
           "z": [
            12028900,
            33492520,
            7672400,
            18797864702
           ]
          }
         ],
         "name": "2002-11"
        },
        {
         "data": [
          {
           "coloraxis": "coloraxis",
           "geo": "geo",
           "hovertemplate": "Year-Month=2002-12<br>Country=%{location}<br>Volume in USD=%{z}<extra></extra>",
           "locationmode": "country names",
           "locations": [
            "japan",
            "netherlands",
            "switzerland",
            "usa"
           ],
           "name": "",
           "type": "choropleth",
           "z": [
            9553300,
            25411460,
            5017600,
            15457550986
           ]
          }
         ],
         "name": "2002-12"
        },
        {
         "data": [
          {
           "coloraxis": "coloraxis",
           "geo": "geo",
           "hovertemplate": "Year-Month=2003-01<br>Country=%{location}<br>Volume in USD=%{z}<extra></extra>",
           "locationmode": "country names",
           "locations": [
            "japan",
            "netherlands",
            "switzerland",
            "usa"
           ],
           "name": "",
           "type": "choropleth",
           "z": [
            12972600,
            29508360,
            6186000,
            18241241430
           ]
          }
         ],
         "name": "2003-01"
        },
        {
         "data": [
          {
           "coloraxis": "coloraxis",
           "geo": "geo",
           "hovertemplate": "Year-Month=2003-02<br>Country=%{location}<br>Volume in USD=%{z}<extra></extra>",
           "locationmode": "country names",
           "locations": [
            "japan",
            "netherlands",
            "switzerland",
            "usa"
           ],
           "name": "",
           "type": "choropleth",
           "z": [
            9525900,
            21893320,
            2468400,
            13751941361
           ]
          }
         ],
         "name": "2003-02"
        },
        {
         "data": [
          {
           "coloraxis": "coloraxis",
           "geo": "geo",
           "hovertemplate": "Year-Month=2003-03<br>Country=%{location}<br>Volume in USD=%{z}<extra></extra>",
           "locationmode": "country names",
           "locations": [
            "japan",
            "netherlands",
            "switzerland",
            "usa"
           ],
           "name": "",
           "type": "choropleth",
           "z": [
            11597000,
            36719020,
            5195200,
            15478731919
           ]
          }
         ],
         "name": "2003-03"
        },
        {
         "data": [
          {
           "coloraxis": "coloraxis",
           "geo": "geo",
           "hovertemplate": "Year-Month=2003-04<br>Country=%{location}<br>Volume in USD=%{z}<extra></extra>",
           "locationmode": "country names",
           "locations": [
            "japan",
            "netherlands",
            "switzerland",
            "usa"
           ],
           "name": "",
           "type": "choropleth",
           "z": [
            18266300,
            27638900,
            3288400,
            19431149248
           ]
          }
         ],
         "name": "2003-04"
        },
        {
         "data": [
          {
           "coloraxis": "coloraxis",
           "geo": "geo",
           "hovertemplate": "Year-Month=2003-05<br>Country=%{location}<br>Volume in USD=%{z}<extra></extra>",
           "locationmode": "country names",
           "locations": [
            "japan",
            "netherlands",
            "switzerland",
            "usa"
           ],
           "name": "",
           "type": "choropleth",
           "z": [
            16887600,
            31992520,
            3201600,
            24375914085
           ]
          }
         ],
         "name": "2003-05"
        },
        {
         "data": [
          {
           "coloraxis": "coloraxis",
           "geo": "geo",
           "hovertemplate": "Year-Month=2003-06<br>Country=%{location}<br>Volume in USD=%{z}<extra></extra>",
           "locationmode": "country names",
           "locations": [
            "japan",
            "netherlands",
            "switzerland",
            "usa"
           ],
           "name": "",
           "type": "choropleth",
           "z": [
            14760800,
            28003980,
            3080000,
            18260825277
           ]
          }
         ],
         "name": "2003-06"
        },
        {
         "data": [
          {
           "coloraxis": "coloraxis",
           "geo": "geo",
           "hovertemplate": "Year-Month=2003-07<br>Country=%{location}<br>Volume in USD=%{z}<extra></extra>",
           "locationmode": "country names",
           "locations": [
            "japan",
            "netherlands",
            "switzerland",
            "usa"
           ],
           "name": "",
           "type": "choropleth",
           "z": [
            23947000,
            26880940,
            55315200,
            17499478703
           ]
          }
         ],
         "name": "2003-07"
        },
        {
         "data": [
          {
           "coloraxis": "coloraxis",
           "geo": "geo",
           "hovertemplate": "Year-Month=2003-08<br>Country=%{location}<br>Volume in USD=%{z}<extra></extra>",
           "locationmode": "country names",
           "locations": [
            "japan",
            "netherlands",
            "switzerland",
            "usa"
           ],
           "name": "",
           "type": "choropleth",
           "z": [
            15104100,
            21863500,
            4767200,
            14376414224
           ]
          }
         ],
         "name": "2003-08"
        },
        {
         "data": [
          {
           "coloraxis": "coloraxis",
           "geo": "geo",
           "hovertemplate": "Year-Month=2003-09<br>Country=%{location}<br>Volume in USD=%{z}<extra></extra>",
           "locationmode": "country names",
           "locations": [
            "japan",
            "netherlands",
            "switzerland",
            "usa"
           ],
           "name": "",
           "type": "choropleth",
           "z": [
            17294600,
            26316300,
            7781200,
            17740726421
           ]
          }
         ],
         "name": "2003-09"
        },
        {
         "data": [
          {
           "coloraxis": "coloraxis",
           "geo": "geo",
           "hovertemplate": "Year-Month=2003-10<br>Country=%{location}<br>Volume in USD=%{z}<extra></extra>",
           "locationmode": "country names",
           "locations": [
            "japan",
            "netherlands",
            "switzerland",
            "usa"
           ],
           "name": "",
           "type": "choropleth",
           "z": [
            25143100,
            24194200,
            13242800,
            20135907980
           ]
          }
         ],
         "name": "2003-10"
        },
        {
         "data": [
          {
           "coloraxis": "coloraxis",
           "geo": "geo",
           "hovertemplate": "Year-Month=2003-11<br>Country=%{location}<br>Volume in USD=%{z}<extra></extra>",
           "locationmode": "country names",
           "locations": [
            "japan",
            "netherlands",
            "switzerland",
            "usa"
           ],
           "name": "",
           "type": "choropleth",
           "z": [
            15909600,
            17991060,
            2831600,
            15768515436
           ]
          }
         ],
         "name": "2003-11"
        },
        {
         "data": [
          {
           "coloraxis": "coloraxis",
           "geo": "geo",
           "hovertemplate": "Year-Month=2003-12<br>Country=%{location}<br>Volume in USD=%{z}<extra></extra>",
           "locationmode": "country names",
           "locations": [
            "japan",
            "netherlands",
            "switzerland",
            "usa"
           ],
           "name": "",
           "type": "choropleth",
           "z": [
            17265100,
            23595000,
            4750800,
            16367046059
           ]
          }
         ],
         "name": "2003-12"
        },
        {
         "data": [
          {
           "coloraxis": "coloraxis",
           "geo": "geo",
           "hovertemplate": "Year-Month=2004-01<br>Country=%{location}<br>Volume in USD=%{z}<extra></extra>",
           "locationmode": "country names",
           "locations": [
            "japan",
            "netherlands",
            "switzerland",
            "usa"
           ],
           "name": "",
           "type": "choropleth",
           "z": [
            31538800,
            22179300,
            9402000,
            19792030468
           ]
          }
         ],
         "name": "2004-01"
        },
        {
         "data": [
          {
           "coloraxis": "coloraxis",
           "geo": "geo",
           "hovertemplate": "Year-Month=2004-02<br>Country=%{location}<br>Volume in USD=%{z}<extra></extra>",
           "locationmode": "country names",
           "locations": [
            "japan",
            "netherlands",
            "switzerland",
            "usa"
           ],
           "name": "",
           "type": "choropleth",
           "z": [
            16854700,
            24445900,
            2168800,
            15689569706
           ]
          }
         ],
         "name": "2004-02"
        },
        {
         "data": [
          {
           "coloraxis": "coloraxis",
           "geo": "geo",
           "hovertemplate": "Year-Month=2004-03<br>Country=%{location}<br>Volume in USD=%{z}<extra></extra>",
           "locationmode": "country names",
           "locations": [
            "japan",
            "netherlands",
            "switzerland",
            "usa"
           ],
           "name": "",
           "type": "choropleth",
           "z": [
            21252900,
            25891040,
            3679600,
            22742380893
           ]
          }
         ],
         "name": "2004-03"
        },
        {
         "data": [
          {
           "coloraxis": "coloraxis",
           "geo": "geo",
           "hovertemplate": "Year-Month=2004-04<br>Country=%{location}<br>Volume in USD=%{z}<extra></extra>",
           "locationmode": "country names",
           "locations": [
            "japan",
            "netherlands",
            "switzerland",
            "usa"
           ],
           "name": "",
           "type": "choropleth",
           "z": [
            22322500,
            19685740,
            4210000,
            19268612138
           ]
          }
         ],
         "name": "2004-04"
        },
        {
         "data": [
          {
           "coloraxis": "coloraxis",
           "geo": "geo",
           "hovertemplate": "Year-Month=2004-05<br>Country=%{location}<br>Volume in USD=%{z}<extra></extra>",
           "locationmode": "country names",
           "locations": [
            "japan",
            "netherlands",
            "switzerland",
            "usa"
           ],
           "name": "",
           "type": "choropleth",
           "z": [
            19084900,
            22647620,
            2129200,
            14490914283
           ]
          }
         ],
         "name": "2004-05"
        },
        {
         "data": [
          {
           "coloraxis": "coloraxis",
           "geo": "geo",
           "hovertemplate": "Year-Month=2004-06<br>Country=%{location}<br>Volume in USD=%{z}<extra></extra>",
           "locationmode": "country names",
           "locations": [
            "japan",
            "netherlands",
            "switzerland",
            "usa"
           ],
           "name": "",
           "type": "choropleth",
           "z": [
            26636600,
            20771720,
            1841200,
            17842705734
           ]
          }
         ],
         "name": "2004-06"
        },
        {
         "data": [
          {
           "coloraxis": "coloraxis",
           "geo": "geo",
           "hovertemplate": "Year-Month=2004-07<br>Country=%{location}<br>Volume in USD=%{z}<extra></extra>",
           "locationmode": "country names",
           "locations": [
            "japan",
            "netherlands",
            "switzerland",
            "usa"
           ],
           "name": "",
           "type": "choropleth",
           "z": [
            19812600,
            37188400,
            3729600,
            20837012304
           ]
          }
         ],
         "name": "2004-07"
        },
        {
         "data": [
          {
           "coloraxis": "coloraxis",
           "geo": "geo",
           "hovertemplate": "Year-Month=2004-08<br>Country=%{location}<br>Volume in USD=%{z}<extra></extra>",
           "locationmode": "country names",
           "locations": [
            "japan",
            "netherlands",
            "switzerland",
            "usa"
           ],
           "name": "",
           "type": "choropleth",
           "z": [
            22541800,
            23306700,
            2633600,
            21626788127
           ]
          }
         ],
         "name": "2004-08"
        },
        {
         "data": [
          {
           "coloraxis": "coloraxis",
           "geo": "geo",
           "hovertemplate": "Year-Month=2004-09<br>Country=%{location}<br>Volume in USD=%{z}<extra></extra>",
           "locationmode": "country names",
           "locations": [
            "japan",
            "netherlands",
            "switzerland",
            "usa"
           ],
           "name": "",
           "type": "choropleth",
           "z": [
            16740200,
            30613220,
            4458400,
            22312285436
           ]
          }
         ],
         "name": "2004-09"
        },
        {
         "data": [
          {
           "coloraxis": "coloraxis",
           "geo": "geo",
           "hovertemplate": "Year-Month=2004-10<br>Country=%{location}<br>Volume in USD=%{z}<extra></extra>",
           "locationmode": "country names",
           "locations": [
            "japan",
            "netherlands",
            "switzerland",
            "usa"
           ],
           "name": "",
           "type": "choropleth",
           "z": [
            14950900,
            33930360,
            5244800,
            38313201288
           ]
          }
         ],
         "name": "2004-10"
        },
        {
         "data": [
          {
           "coloraxis": "coloraxis",
           "geo": "geo",
           "hovertemplate": "Year-Month=2004-11<br>Country=%{location}<br>Volume in USD=%{z}<extra></extra>",
           "locationmode": "country names",
           "locations": [
            "japan",
            "netherlands",
            "switzerland",
            "usa"
           ],
           "name": "",
           "type": "choropleth",
           "z": [
            17442900,
            27200980,
            3704000,
            39867320855
           ]
          }
         ],
         "name": "2004-11"
        },
        {
         "data": [
          {
           "coloraxis": "coloraxis",
           "geo": "geo",
           "hovertemplate": "Year-Month=2004-12<br>Country=%{location}<br>Volume in USD=%{z}<extra></extra>",
           "locationmode": "country names",
           "locations": [
            "japan",
            "netherlands",
            "switzerland",
            "usa"
           ],
           "name": "",
           "type": "choropleth",
           "z": [
            28367200,
            26103560,
            4237200,
            33261260458
           ]
          }
         ],
         "name": "2004-12"
        },
        {
         "data": [
          {
           "coloraxis": "coloraxis",
           "geo": "geo",
           "hovertemplate": "Year-Month=2005-01<br>Country=%{location}<br>Volume in USD=%{z}<extra></extra>",
           "locationmode": "country names",
           "locations": [
            "japan",
            "netherlands",
            "switzerland",
            "usa"
           ],
           "name": "",
           "type": "choropleth",
           "z": [
            20541700,
            26005400,
            5224400,
            45447318299
           ]
          }
         ],
         "name": "2005-01"
        },
        {
         "data": [
          {
           "coloraxis": "coloraxis",
           "geo": "geo",
           "hovertemplate": "Year-Month=2005-02<br>Country=%{location}<br>Volume in USD=%{z}<extra></extra>",
           "locationmode": "country names",
           "locations": [
            "japan",
            "netherlands",
            "switzerland",
            "usa"
           ],
           "name": "",
           "type": "choropleth",
           "z": [
            26868600,
            38431680,
            4242000,
            46095332575
           ]
          }
         ],
         "name": "2005-02"
        },
        {
         "data": [
          {
           "coloraxis": "coloraxis",
           "geo": "geo",
           "hovertemplate": "Year-Month=2005-03<br>Country=%{location}<br>Volume in USD=%{z}<extra></extra>",
           "locationmode": "country names",
           "locations": [
            "japan",
            "netherlands",
            "switzerland",
            "usa"
           ],
           "name": "",
           "type": "choropleth",
           "z": [
            27548300,
            42704860,
            5616400,
            31333298560
           ]
          }
         ],
         "name": "2005-03"
        },
        {
         "data": [
          {
           "coloraxis": "coloraxis",
           "geo": "geo",
           "hovertemplate": "Year-Month=2005-04<br>Country=%{location}<br>Volume in USD=%{z}<extra></extra>",
           "locationmode": "country names",
           "locations": [
            "japan",
            "netherlands",
            "switzerland",
            "usa"
           ],
           "name": "",
           "type": "choropleth",
           "z": [
            21392000,
            33058160,
            4366000,
            38738361299
           ]
          }
         ],
         "name": "2005-04"
        },
        {
         "data": [
          {
           "coloraxis": "coloraxis",
           "geo": "geo",
           "hovertemplate": "Year-Month=2005-05<br>Country=%{location}<br>Volume in USD=%{z}<extra></extra>",
           "locationmode": "country names",
           "locations": [
            "japan",
            "netherlands",
            "switzerland",
            "usa"
           ],
           "name": "",
           "type": "choropleth",
           "z": [
            18608500,
            28778580,
            3840000,
            32404384337
           ]
          }
         ],
         "name": "2005-05"
        },
        {
         "data": [
          {
           "coloraxis": "coloraxis",
           "geo": "geo",
           "hovertemplate": "Year-Month=2005-06<br>Country=%{location}<br>Volume in USD=%{z}<extra></extra>",
           "locationmode": "country names",
           "locations": [
            "japan",
            "netherlands",
            "switzerland",
            "usa"
           ],
           "name": "",
           "type": "choropleth",
           "z": [
            23462600,
            27447140,
            8151600,
            35982997314
           ]
          }
         ],
         "name": "2005-06"
        },
        {
         "data": [
          {
           "coloraxis": "coloraxis",
           "geo": "geo",
           "hovertemplate": "Year-Month=2005-07<br>Country=%{location}<br>Volume in USD=%{z}<extra></extra>",
           "locationmode": "country names",
           "locations": [
            "japan",
            "netherlands",
            "switzerland",
            "usa"
           ],
           "name": "",
           "type": "choropleth",
           "z": [
            21878400,
            25425180,
            9988600,
            28439355900
           ]
          }
         ],
         "name": "2005-07"
        },
        {
         "data": [
          {
           "coloraxis": "coloraxis",
           "geo": "geo",
           "hovertemplate": "Year-Month=2005-08<br>Country=%{location}<br>Volume in USD=%{z}<extra></extra>",
           "locationmode": "country names",
           "locations": [
            "japan",
            "netherlands",
            "switzerland",
            "usa"
           ],
           "name": "",
           "type": "choropleth",
           "z": [
            37981500,
            26040140,
            6283400,
            24916783332
           ]
          }
         ],
         "name": "2005-08"
        },
        {
         "data": [
          {
           "coloraxis": "coloraxis",
           "geo": "geo",
           "hovertemplate": "Year-Month=2005-09<br>Country=%{location}<br>Volume in USD=%{z}<extra></extra>",
           "locationmode": "country names",
           "locations": [
            "japan",
            "netherlands",
            "switzerland",
            "usa"
           ],
           "name": "",
           "type": "choropleth",
           "z": [
            25243700,
            21046600,
            6972600,
            28509250226
           ]
          }
         ],
         "name": "2005-09"
        },
        {
         "data": [
          {
           "coloraxis": "coloraxis",
           "geo": "geo",
           "hovertemplate": "Year-Month=2005-10<br>Country=%{location}<br>Volume in USD=%{z}<extra></extra>",
           "locationmode": "country names",
           "locations": [
            "japan",
            "netherlands",
            "switzerland",
            "usa"
           ],
           "name": "",
           "type": "choropleth",
           "z": [
            42563100,
            25784860,
            8977400,
            36442700367
           ]
          }
         ],
         "name": "2005-10"
        },
        {
         "data": [
          {
           "coloraxis": "coloraxis",
           "geo": "geo",
           "hovertemplate": "Year-Month=2005-11<br>Country=%{location}<br>Volume in USD=%{z}<extra></extra>",
           "locationmode": "country names",
           "locations": [
            "japan",
            "netherlands",
            "switzerland",
            "usa"
           ],
           "name": "",
           "type": "choropleth",
           "z": [
            28933400,
            21594720,
            5786600,
            33587034596
           ]
          }
         ],
         "name": "2005-11"
        },
        {
         "data": [
          {
           "coloraxis": "coloraxis",
           "geo": "geo",
           "hovertemplate": "Year-Month=2005-12<br>Country=%{location}<br>Volume in USD=%{z}<extra></extra>",
           "locationmode": "country names",
           "locations": [
            "japan",
            "netherlands",
            "switzerland",
            "usa"
           ],
           "name": "",
           "type": "choropleth",
           "z": [
            39880600,
            28760840,
            7686600,
            29776887154
           ]
          }
         ],
         "name": "2005-12"
        },
        {
         "data": [
          {
           "coloraxis": "coloraxis",
           "geo": "geo",
           "hovertemplate": "Year-Month=2006-01<br>Country=%{location}<br>Volume in USD=%{z}<extra></extra>",
           "locationmode": "country names",
           "locations": [
            "france",
            "japan",
            "netherlands",
            "switzerland",
            "usa"
           ],
           "name": "",
           "type": "choropleth",
           "z": [
            5700,
            53686000,
            35167880,
            22997400,
            43873256461
           ]
          }
         ],
         "name": "2006-01"
        },
        {
         "data": [
          {
           "coloraxis": "coloraxis",
           "geo": "geo",
           "hovertemplate": "Year-Month=2006-02<br>Country=%{location}<br>Volume in USD=%{z}<extra></extra>",
           "locationmode": "country names",
           "locations": [
            "france",
            "japan",
            "netherlands",
            "switzerland",
            "usa"
           ],
           "name": "",
           "type": "choropleth",
           "z": [
            5000,
            57960900,
            19462780,
            7497200,
            40680275599
           ]
          }
         ],
         "name": "2006-02"
        },
        {
         "data": [
          {
           "coloraxis": "coloraxis",
           "geo": "geo",
           "hovertemplate": "Year-Month=2006-03<br>Country=%{location}<br>Volume in USD=%{z}<extra></extra>",
           "locationmode": "country names",
           "locations": [
            "france",
            "japan",
            "netherlands",
            "switzerland",
            "usa"
           ],
           "name": "",
           "type": "choropleth",
           "z": [
            22900,
            33945700,
            26800360,
            7602600,
            45858450364
           ]
          }
         ],
         "name": "2006-03"
        },
        {
         "data": [
          {
           "coloraxis": "coloraxis",
           "geo": "geo",
           "hovertemplate": "Year-Month=2006-04<br>Country=%{location}<br>Volume in USD=%{z}<extra></extra>",
           "locationmode": "country names",
           "locations": [
            "france",
            "japan",
            "netherlands",
            "switzerland",
            "usa"
           ],
           "name": "",
           "type": "choropleth",
           "z": [
            32800,
            33024200,
            27674080,
            11736800,
            36309677608
           ]
          }
         ],
         "name": "2006-04"
        },
        {
         "data": [
          {
           "coloraxis": "coloraxis",
           "geo": "geo",
           "hovertemplate": "Year-Month=2006-05<br>Country=%{location}<br>Volume in USD=%{z}<extra></extra>",
           "locationmode": "country names",
           "locations": [
            "france",
            "germany",
            "japan",
            "netherlands",
            "switzerland",
            "usa"
           ],
           "name": "",
           "type": "choropleth",
           "z": [
            49900,
            28000,
            46567400,
            40867240,
            9959200,
            35316448072
           ]
          }
         ],
         "name": "2006-05"
        },
        {
         "data": [
          {
           "coloraxis": "coloraxis",
           "geo": "geo",
           "hovertemplate": "Year-Month=2006-06<br>Country=%{location}<br>Volume in USD=%{z}<extra></extra>",
           "locationmode": "country names",
           "locations": [
            "france",
            "germany",
            "japan",
            "netherlands",
            "switzerland",
            "usa"
           ],
           "name": "",
           "type": "choropleth",
           "z": [
            12500,
            311900,
            55954300,
            35025400,
            7825400,
            34458714169
           ]
          }
         ],
         "name": "2006-06"
        },
        {
         "data": [
          {
           "coloraxis": "coloraxis",
           "geo": "geo",
           "hovertemplate": "Year-Month=2006-07<br>Country=%{location}<br>Volume in USD=%{z}<extra></extra>",
           "locationmode": "country names",
           "locations": [
            "france",
            "germany",
            "japan",
            "netherlands",
            "switzerland",
            "usa"
           ],
           "name": "",
           "type": "choropleth",
           "z": [
            165200,
            180500,
            46568100,
            23422900,
            7818300,
            34646606184
           ]
          }
         ],
         "name": "2006-07"
        },
        {
         "data": [
          {
           "coloraxis": "coloraxis",
           "geo": "geo",
           "hovertemplate": "Year-Month=2006-08<br>Country=%{location}<br>Volume in USD=%{z}<extra></extra>",
           "locationmode": "country names",
           "locations": [
            "france",
            "germany",
            "japan",
            "netherlands",
            "switzerland",
            "usa"
           ],
           "name": "",
           "type": "choropleth",
           "z": [
            8100,
            900900,
            32493700,
            28415800,
            9923600,
            33949414555
           ]
          }
         ],
         "name": "2006-08"
        },
        {
         "data": [
          {
           "coloraxis": "coloraxis",
           "geo": "geo",
           "hovertemplate": "Year-Month=2006-09<br>Country=%{location}<br>Volume in USD=%{z}<extra></extra>",
           "locationmode": "country names",
           "locations": [
            "france",
            "germany",
            "japan",
            "netherlands",
            "switzerland",
            "usa"
           ],
           "name": "",
           "type": "choropleth",
           "z": [
            8700,
            346900,
            34475400,
            19443000,
            6625500,
            33017531434
           ]
          }
         ],
         "name": "2006-09"
        },
        {
         "data": [
          {
           "coloraxis": "coloraxis",
           "geo": "geo",
           "hovertemplate": "Year-Month=2006-10<br>Country=%{location}<br>Volume in USD=%{z}<extra></extra>",
           "locationmode": "country names",
           "locations": [
            "france",
            "germany",
            "japan",
            "netherlands",
            "switzerland",
            "usa"
           ],
           "name": "",
           "type": "choropleth",
           "z": [
            26100,
            302200,
            24529100,
            26459700,
            14208500,
            33646539352
           ]
          }
         ],
         "name": "2006-10"
        },
        {
         "data": [
          {
           "coloraxis": "coloraxis",
           "geo": "geo",
           "hovertemplate": "Year-Month=2006-11<br>Country=%{location}<br>Volume in USD=%{z}<extra></extra>",
           "locationmode": "country names",
           "locations": [
            "france",
            "germany",
            "japan",
            "netherlands",
            "switzerland",
            "usa"
           ],
           "name": "",
           "type": "choropleth",
           "z": [
            7500,
            840000,
            39604500,
            22543600,
            7139100,
            30541549031
           ]
          }
         ],
         "name": "2006-11"
        },
        {
         "data": [
          {
           "coloraxis": "coloraxis",
           "geo": "geo",
           "hovertemplate": "Year-Month=2006-12<br>Country=%{location}<br>Volume in USD=%{z}<extra></extra>",
           "locationmode": "country names",
           "locations": [
            "france",
            "germany",
            "japan",
            "netherlands",
            "switzerland",
            "usa"
           ],
           "name": "",
           "type": "choropleth",
           "z": [
            9800,
            777700,
            29725200,
            16502400,
            7504700,
            29711401302
           ]
          }
         ],
         "name": "2006-12"
        },
        {
         "data": [
          {
           "coloraxis": "coloraxis",
           "geo": "geo",
           "hovertemplate": "Year-Month=2007-01<br>Country=%{location}<br>Volume in USD=%{z}<extra></extra>",
           "locationmode": "country names",
           "locations": [
            "france",
            "germany",
            "japan",
            "netherlands",
            "switzerland",
            "usa"
           ],
           "name": "",
           "type": "choropleth",
           "z": [
            16500,
            690100,
            39294600,
            28233400,
            27051500,
            43970501039
           ]
          }
         ],
         "name": "2007-01"
        },
        {
         "data": [
          {
           "coloraxis": "coloraxis",
           "geo": "geo",
           "hovertemplate": "Year-Month=2007-02<br>Country=%{location}<br>Volume in USD=%{z}<extra></extra>",
           "locationmode": "country names",
           "locations": [
            "france",
            "germany",
            "japan",
            "netherlands",
            "switzerland",
            "usa"
           ],
           "name": "",
           "type": "choropleth",
           "z": [
            34300,
            1312600,
            48505700,
            20858200,
            11914300,
            30101969709
           ]
          }
         ],
         "name": "2007-02"
        },
        {
         "data": [
          {
           "coloraxis": "coloraxis",
           "geo": "geo",
           "hovertemplate": "Year-Month=2007-03<br>Country=%{location}<br>Volume in USD=%{z}<extra></extra>",
           "locationmode": "country names",
           "locations": [
            "france",
            "germany",
            "japan",
            "netherlands",
            "switzerland",
            "usa"
           ],
           "name": "",
           "type": "choropleth",
           "z": [
            15900,
            830500,
            40251100,
            54485800,
            13003700,
            32855196718
           ]
          }
         ],
         "name": "2007-03"
        },
        {
         "data": [
          {
           "coloraxis": "coloraxis",
           "geo": "geo",
           "hovertemplate": "Year-Month=2007-04<br>Country=%{location}<br>Volume in USD=%{z}<extra></extra>",
           "locationmode": "country names",
           "locations": [
            "france",
            "germany",
            "japan",
            "netherlands",
            "switzerland",
            "usa"
           ],
           "name": "",
           "type": "choropleth",
           "z": [
            18900,
            499900,
            45892800,
            22722600,
            12732100,
            31991188624
           ]
          }
         ],
         "name": "2007-04"
        },
        {
         "data": [
          {
           "coloraxis": "coloraxis",
           "geo": "geo",
           "hovertemplate": "Year-Month=2007-05<br>Country=%{location}<br>Volume in USD=%{z}<extra></extra>",
           "locationmode": "country names",
           "locations": [
            "france",
            "germany",
            "japan",
            "netherlands",
            "switzerland",
            "usa"
           ],
           "name": "",
           "type": "choropleth",
           "z": [
            25800,
            470900,
            50236800,
            33457600,
            15336600,
            37909224071
           ]
          }
         ],
         "name": "2007-05"
        },
        {
         "data": [
          {
           "coloraxis": "coloraxis",
           "geo": "geo",
           "hovertemplate": "Year-Month=2007-06<br>Country=%{location}<br>Volume in USD=%{z}<extra></extra>",
           "locationmode": "country names",
           "locations": [
            "france",
            "germany",
            "japan",
            "netherlands",
            "switzerland",
            "usa"
           ],
           "name": "",
           "type": "choropleth",
           "z": [
            15500,
            819500,
            36735700,
            32084700,
            15198700,
            43507284357
           ]
          }
         ],
         "name": "2007-06"
        },
        {
         "data": [
          {
           "coloraxis": "coloraxis",
           "geo": "geo",
           "hovertemplate": "Year-Month=2007-07<br>Country=%{location}<br>Volume in USD=%{z}<extra></extra>",
           "locationmode": "country names",
           "locations": [
            "france",
            "germany",
            "japan",
            "netherlands",
            "switzerland",
            "usa"
           ],
           "name": "",
           "type": "choropleth",
           "z": [
            89000,
            499800,
            57690700,
            44300400,
            21913800,
            44031131325
           ]
          }
         ],
         "name": "2007-07"
        },
        {
         "data": [
          {
           "coloraxis": "coloraxis",
           "geo": "geo",
           "hovertemplate": "Year-Month=2007-08<br>Country=%{location}<br>Volume in USD=%{z}<extra></extra>",
           "locationmode": "country names",
           "locations": [
            "france",
            "germany",
            "japan",
            "netherlands",
            "switzerland",
            "usa"
           ],
           "name": "",
           "type": "choropleth",
           "z": [
            29900,
            1030200,
            59073700,
            39713800,
            19521400,
            43473293825
           ]
          }
         ],
         "name": "2007-08"
        },
        {
         "data": [
          {
           "coloraxis": "coloraxis",
           "geo": "geo",
           "hovertemplate": "Year-Month=2007-09<br>Country=%{location}<br>Volume in USD=%{z}<extra></extra>",
           "locationmode": "country names",
           "locations": [
            "france",
            "germany",
            "japan",
            "netherlands",
            "switzerland",
            "usa"
           ],
           "name": "",
           "type": "choropleth",
           "z": [
            68200,
            1586800,
            31588400,
            27570900,
            18511900,
            34240336759
           ]
          }
         ],
         "name": "2007-09"
        },
        {
         "data": [
          {
           "coloraxis": "coloraxis",
           "geo": "geo",
           "hovertemplate": "Year-Month=2007-10<br>Country=%{location}<br>Volume in USD=%{z}<extra></extra>",
           "locationmode": "country names",
           "locations": [
            "france",
            "germany",
            "japan",
            "netherlands",
            "switzerland",
            "usa"
           ],
           "name": "",
           "type": "choropleth",
           "z": [
            77200,
            910100,
            50445200,
            36574300,
            43599800,
            44007045717
           ]
          }
         ],
         "name": "2007-10"
        },
        {
         "data": [
          {
           "coloraxis": "coloraxis",
           "geo": "geo",
           "hovertemplate": "Year-Month=2007-11<br>Country=%{location}<br>Volume in USD=%{z}<extra></extra>",
           "locationmode": "country names",
           "locations": [
            "france",
            "germany",
            "japan",
            "netherlands",
            "switzerland",
            "usa"
           ],
           "name": "",
           "type": "choropleth",
           "z": [
            41200,
            985500,
            54265100,
            39709000,
            19906000,
            48383036190
           ]
          }
         ],
         "name": "2007-11"
        },
        {
         "data": [
          {
           "coloraxis": "coloraxis",
           "geo": "geo",
           "hovertemplate": "Year-Month=2007-12<br>Country=%{location}<br>Volume in USD=%{z}<extra></extra>",
           "locationmode": "country names",
           "locations": [
            "france",
            "germany",
            "japan",
            "netherlands",
            "switzerland",
            "usa"
           ],
           "name": "",
           "type": "choropleth",
           "z": [
            28600,
            724900,
            33920000,
            29996200,
            13898100,
            31618861189
           ]
          }
         ],
         "name": "2007-12"
        },
        {
         "data": [
          {
           "coloraxis": "coloraxis",
           "geo": "geo",
           "hovertemplate": "Year-Month=2008-01<br>Country=%{location}<br>Volume in USD=%{z}<extra></extra>",
           "locationmode": "country names",
           "locations": [
            "france",
            "germany",
            "japan",
            "netherlands",
            "switzerland",
            "usa"
           ],
           "name": "",
           "type": "choropleth",
           "z": [
            26400,
            1218200,
            69686000,
            58426800,
            47606000,
            61465753847
           ]
          }
         ],
         "name": "2008-01"
        },
        {
         "data": [
          {
           "coloraxis": "coloraxis",
           "geo": "geo",
           "hovertemplate": "Year-Month=2008-02<br>Country=%{location}<br>Volume in USD=%{z}<extra></extra>",
           "locationmode": "country names",
           "locations": [
            "france",
            "germany",
            "japan",
            "netherlands",
            "switzerland",
            "usa"
           ],
           "name": "",
           "type": "choropleth",
           "z": [
            38700,
            538000,
            55614600,
            31837700,
            23323700,
            47694802863
           ]
          }
         ],
         "name": "2008-02"
        },
        {
         "data": [
          {
           "coloraxis": "coloraxis",
           "geo": "geo",
           "hovertemplate": "Year-Month=2008-03<br>Country=%{location}<br>Volume in USD=%{z}<extra></extra>",
           "locationmode": "country names",
           "locations": [
            "france",
            "germany",
            "japan",
            "netherlands",
            "switzerland",
            "usa"
           ],
           "name": "",
           "type": "choropleth",
           "z": [
            20800,
            676300,
            47502700,
            39371900,
            23678100,
            45495278763
           ]
          }
         ],
         "name": "2008-03"
        },
        {
         "data": [
          {
           "coloraxis": "coloraxis",
           "geo": "geo",
           "hovertemplate": "Year-Month=2008-04<br>Country=%{location}<br>Volume in USD=%{z}<extra></extra>",
           "locationmode": "country names",
           "locations": [
            "france",
            "germany",
            "japan",
            "netherlands",
            "switzerland",
            "usa"
           ],
           "name": "",
           "type": "choropleth",
           "z": [
            34400,
            1904900,
            72470300,
            32764700,
            28287200,
            44820379427
           ]
          }
         ],
         "name": "2008-04"
        },
        {
         "data": [
          {
           "coloraxis": "coloraxis",
           "geo": "geo",
           "hovertemplate": "Year-Month=2008-05<br>Country=%{location}<br>Volume in USD=%{z}<extra></extra>",
           "locationmode": "country names",
           "locations": [
            "france",
            "germany",
            "japan",
            "netherlands",
            "switzerland",
            "usa"
           ],
           "name": "",
           "type": "choropleth",
           "z": [
            36300,
            1140800,
            41563100,
            24256900,
            18348100,
            38371300717
           ]
          }
         ],
         "name": "2008-05"
        },
        {
         "data": [
          {
           "coloraxis": "coloraxis",
           "geo": "geo",
           "hovertemplate": "Year-Month=2008-06<br>Country=%{location}<br>Volume in USD=%{z}<extra></extra>",
           "locationmode": "country names",
           "locations": [
            "france",
            "germany",
            "japan",
            "netherlands",
            "switzerland",
            "usa"
           ],
           "name": "",
           "type": "choropleth",
           "z": [
            27200,
            857800,
            65863900,
            31613600,
            20992200,
            39113360487
           ]
          }
         ],
         "name": "2008-06"
        },
        {
         "data": [
          {
           "coloraxis": "coloraxis",
           "geo": "geo",
           "hovertemplate": "Year-Month=2008-07<br>Country=%{location}<br>Volume in USD=%{z}<extra></extra>",
           "locationmode": "country names",
           "locations": [
            "france",
            "germany",
            "japan",
            "netherlands",
            "switzerland",
            "usa"
           ],
           "name": "",
           "type": "choropleth",
           "z": [
            23800,
            605200,
            90041400,
            43772400,
            26674300,
            44140341757
           ]
          }
         ],
         "name": "2008-07"
        },
        {
         "data": [
          {
           "coloraxis": "coloraxis",
           "geo": "geo",
           "hovertemplate": "Year-Month=2008-08<br>Country=%{location}<br>Volume in USD=%{z}<extra></extra>",
           "locationmode": "country names",
           "locations": [
            "france",
            "germany",
            "japan",
            "netherlands",
            "switzerland",
            "usa"
           ],
           "name": "",
           "type": "choropleth",
           "z": [
            14800,
            1796700,
            75341500,
            28858100,
            14145400,
            30142214865
           ]
          }
         ],
         "name": "2008-08"
        },
        {
         "data": [
          {
           "coloraxis": "coloraxis",
           "geo": "geo",
           "hovertemplate": "Year-Month=2008-09<br>Country=%{location}<br>Volume in USD=%{z}<extra></extra>",
           "locationmode": "country names",
           "locations": [
            "france",
            "germany",
            "japan",
            "netherlands",
            "switzerland",
            "usa"
           ],
           "name": "",
           "type": "choropleth",
           "z": [
            24900,
            1224000,
            87631500,
            58288900,
            26869700,
            48928599406
           ]
          }
         ],
         "name": "2008-09"
        },
        {
         "data": [
          {
           "coloraxis": "coloraxis",
           "geo": "geo",
           "hovertemplate": "Year-Month=2008-10<br>Country=%{location}<br>Volume in USD=%{z}<extra></extra>",
           "locationmode": "country names",
           "locations": [
            "france",
            "germany",
            "japan",
            "netherlands",
            "switzerland",
            "usa"
           ],
           "name": "",
           "type": "choropleth",
           "z": [
            135300,
            2093800,
            127622400,
            83299500,
            39423800,
            76494381784
           ]
          }
         ],
         "name": "2008-10"
        },
        {
         "data": [
          {
           "coloraxis": "coloraxis",
           "geo": "geo",
           "hovertemplate": "Year-Month=2008-11<br>Country=%{location}<br>Volume in USD=%{z}<extra></extra>",
           "locationmode": "country names",
           "locations": [
            "france",
            "germany",
            "japan",
            "netherlands",
            "switzerland",
            "usa"
           ],
           "name": "",
           "type": "choropleth",
           "z": [
            333100,
            745600,
            120127900,
            48209900,
            20799200,
            48782490159
           ]
          }
         ],
         "name": "2008-11"
        },
        {
         "data": [
          {
           "coloraxis": "coloraxis",
           "geo": "geo",
           "hovertemplate": "Year-Month=2008-12<br>Country=%{location}<br>Volume in USD=%{z}<extra></extra>",
           "locationmode": "country names",
           "locations": [
            "france",
            "germany",
            "japan",
            "netherlands",
            "switzerland",
            "usa"
           ],
           "name": "",
           "type": "choropleth",
           "z": [
            2934100,
            1488800,
            136138000,
            45687800,
            14867500,
            40911896265
           ]
          }
         ],
         "name": "2008-12"
        },
        {
         "data": [
          {
           "coloraxis": "coloraxis",
           "geo": "geo",
           "hovertemplate": "Year-Month=2009-01<br>Country=%{location}<br>Volume in USD=%{z}<extra></extra>",
           "locationmode": "country names",
           "locations": [
            "france",
            "germany",
            "japan",
            "netherlands",
            "switzerland",
            "usa"
           ],
           "name": "",
           "type": "choropleth",
           "z": [
            615800,
            689600,
            114302000,
            47636500,
            25247400,
            39385098035
           ]
          }
         ],
         "name": "2009-01"
        },
        {
         "data": [
          {
           "coloraxis": "coloraxis",
           "geo": "geo",
           "hovertemplate": "Year-Month=2009-02<br>Country=%{location}<br>Volume in USD=%{z}<extra></extra>",
           "locationmode": "country names",
           "locations": [
            "france",
            "germany",
            "japan",
            "netherlands",
            "switzerland",
            "usa"
           ],
           "name": "",
           "type": "choropleth",
           "z": [
            1534500,
            1466900,
            112056200,
            58599800,
            20394600,
            35761675735
           ]
          }
         ],
         "name": "2009-02"
        },
        {
         "data": [
          {
           "coloraxis": "coloraxis",
           "geo": "geo",
           "hovertemplate": "Year-Month=2009-03<br>Country=%{location}<br>Volume in USD=%{z}<extra></extra>",
           "locationmode": "country names",
           "locations": [
            "france",
            "germany",
            "japan",
            "netherlands",
            "switzerland",
            "usa"
           ],
           "name": "",
           "type": "choropleth",
           "z": [
            961400,
            1098200,
            100200200,
            72633400,
            25725200,
            41649043510
           ]
          }
         ],
         "name": "2009-03"
        },
        {
         "data": [
          {
           "coloraxis": "coloraxis",
           "geo": "geo",
           "hovertemplate": "Year-Month=2009-04<br>Country=%{location}<br>Volume in USD=%{z}<extra></extra>",
           "locationmode": "country names",
           "locations": [
            "france",
            "germany",
            "japan",
            "netherlands",
            "switzerland",
            "usa"
           ],
           "name": "",
           "type": "choropleth",
           "z": [
            2880300,
            523900,
            118380100,
            64438100,
            26745900,
            33883951034
           ]
          }
         ],
         "name": "2009-04"
        },
        {
         "data": [
          {
           "coloraxis": "coloraxis",
           "geo": "geo",
           "hovertemplate": "Year-Month=2009-05<br>Country=%{location}<br>Volume in USD=%{z}<extra></extra>",
           "locationmode": "country names",
           "locations": [
            "france",
            "germany",
            "japan",
            "netherlands",
            "switzerland",
            "usa"
           ],
           "name": "",
           "type": "choropleth",
           "z": [
            765700,
            3341800,
            97946400,
            49694100,
            22195000,
            27960416279
           ]
          }
         ],
         "name": "2009-05"
        },
        {
         "data": [
          {
           "coloraxis": "coloraxis",
           "geo": "geo",
           "hovertemplate": "Year-Month=2009-06<br>Country=%{location}<br>Volume in USD=%{z}<extra></extra>",
           "locationmode": "country names",
           "locations": [
            "france",
            "germany",
            "japan",
            "netherlands",
            "switzerland",
            "usa"
           ],
           "name": "",
           "type": "choropleth",
           "z": [
            1202300,
            312300,
            84427000,
            41783000,
            20324300,
            31254693437
           ]
          }
         ],
         "name": "2009-06"
        },
        {
         "data": [
          {
           "coloraxis": "coloraxis",
           "geo": "geo",
           "hovertemplate": "Year-Month=2009-07<br>Country=%{location}<br>Volume in USD=%{z}<extra></extra>",
           "locationmode": "country names",
           "locations": [
            "france",
            "germany",
            "japan",
            "netherlands",
            "switzerland",
            "usa"
           ],
           "name": "",
           "type": "choropleth",
           "z": [
            899400,
            206300,
            73133900,
            44675400,
            24249800,
            29530698500
           ]
          }
         ],
         "name": "2009-07"
        },
        {
         "data": [
          {
           "coloraxis": "coloraxis",
           "geo": "geo",
           "hovertemplate": "Year-Month=2009-08<br>Country=%{location}<br>Volume in USD=%{z}<extra></extra>",
           "locationmode": "country names",
           "locations": [
            "france",
            "germany",
            "japan",
            "netherlands",
            "switzerland",
            "usa"
           ],
           "name": "",
           "type": "choropleth",
           "z": [
            1157900,
            477200,
            129599200,
            34417600,
            22870300,
            22185175808
           ]
          }
         ],
         "name": "2009-08"
        },
        {
         "data": [
          {
           "coloraxis": "coloraxis",
           "geo": "geo",
           "hovertemplate": "Year-Month=2009-09<br>Country=%{location}<br>Volume in USD=%{z}<extra></extra>",
           "locationmode": "country names",
           "locations": [
            "france",
            "germany",
            "japan",
            "netherlands",
            "switzerland",
            "usa"
           ],
           "name": "",
           "type": "choropleth",
           "z": [
            937200,
            712400,
            60910200,
            42589300,
            22646000,
            25156515317
           ]
          }
         ],
         "name": "2009-09"
        },
        {
         "data": [
          {
           "coloraxis": "coloraxis",
           "geo": "geo",
           "hovertemplate": "Year-Month=2009-10<br>Country=%{location}<br>Volume in USD=%{z}<extra></extra>",
           "locationmode": "country names",
           "locations": [
            "france",
            "germany",
            "japan",
            "netherlands",
            "switzerland",
            "usa"
           ],
           "name": "",
           "type": "choropleth",
           "z": [
            865300,
            249600,
            68382900,
            58658700,
            35305800,
            32824274341
           ]
          }
         ],
         "name": "2009-10"
        },
        {
         "data": [
          {
           "coloraxis": "coloraxis",
           "geo": "geo",
           "hovertemplate": "Year-Month=2009-11<br>Country=%{location}<br>Volume in USD=%{z}<extra></extra>",
           "locationmode": "country names",
           "locations": [
            "france",
            "germany",
            "japan",
            "netherlands",
            "switzerland",
            "usa"
           ],
           "name": "",
           "type": "choropleth",
           "z": [
            1347100,
            292700,
            43374300,
            48009100,
            18965200,
            22724624051
           ]
          }
         ],
         "name": "2009-11"
        },
        {
         "data": [
          {
           "coloraxis": "coloraxis",
           "geo": "geo",
           "hovertemplate": "Year-Month=2009-12<br>Country=%{location}<br>Volume in USD=%{z}<extra></extra>",
           "locationmode": "country names",
           "locations": [
            "france",
            "germany",
            "japan",
            "netherlands",
            "switzerland",
            "usa"
           ],
           "name": "",
           "type": "choropleth",
           "z": [
            965700,
            309900,
            47676900,
            41459700,
            13321400,
            27010603189
           ]
          }
         ],
         "name": "2009-12"
        },
        {
         "data": [
          {
           "coloraxis": "coloraxis",
           "geo": "geo",
           "hovertemplate": "Year-Month=2010-01<br>Country=%{location}<br>Volume in USD=%{z}<extra></extra>",
           "locationmode": "country names",
           "locations": [
            "france",
            "germany",
            "japan",
            "netherlands",
            "switzerland",
            "usa"
           ],
           "name": "",
           "type": "choropleth",
           "z": [
            1146900,
            218600,
            74184700,
            38109200,
            31915000,
            33487198119
           ]
          }
         ],
         "name": "2010-01"
        },
        {
         "data": [
          {
           "coloraxis": "coloraxis",
           "geo": "geo",
           "hovertemplate": "Year-Month=2010-02<br>Country=%{location}<br>Volume in USD=%{z}<extra></extra>",
           "locationmode": "country names",
           "locations": [
            "france",
            "germany",
            "japan",
            "netherlands",
            "switzerland",
            "usa"
           ],
           "name": "",
           "type": "choropleth",
           "z": [
            844200,
            456400,
            124053600,
            41881500,
            20922300,
            26609432323
           ]
          }
         ],
         "name": "2010-02"
        },
        {
         "data": [
          {
           "coloraxis": "coloraxis",
           "geo": "geo",
           "hovertemplate": "Year-Month=2010-03<br>Country=%{location}<br>Volume in USD=%{z}<extra></extra>",
           "locationmode": "country names",
           "locations": [
            "france",
            "germany",
            "japan",
            "netherlands",
            "switzerland",
            "usa"
           ],
           "name": "",
           "type": "choropleth",
           "z": [
            1584500,
            543600,
            84569300,
            54145000,
            23135100,
            28484123822
           ]
          }
         ],
         "name": "2010-03"
        },
        {
         "data": [
          {
           "coloraxis": "coloraxis",
           "geo": "geo",
           "hovertemplate": "Year-Month=2010-04<br>Country=%{location}<br>Volume in USD=%{z}<extra></extra>",
           "locationmode": "country names",
           "locations": [
            "france",
            "germany",
            "japan",
            "netherlands",
            "switzerland",
            "usa"
           ],
           "name": "",
           "type": "choropleth",
           "z": [
            1086400,
            1944200,
            54967500,
            76797100,
            35600900,
            29465816327
           ]
          }
         ],
         "name": "2010-04"
        },
        {
         "data": [
          {
           "coloraxis": "coloraxis",
           "geo": "geo",
           "hovertemplate": "Year-Month=2010-05<br>Country=%{location}<br>Volume in USD=%{z}<extra></extra>",
           "locationmode": "country names",
           "locations": [
            "france",
            "germany",
            "japan",
            "netherlands",
            "switzerland",
            "usa"
           ],
           "name": "",
           "type": "choropleth",
           "z": [
            1726200,
            493200,
            69516500,
            77876700,
            36220300,
            39383520272
           ]
          }
         ],
         "name": "2010-05"
        },
        {
         "data": [
          {
           "coloraxis": "coloraxis",
           "geo": "geo",
           "hovertemplate": "Year-Month=2010-06<br>Country=%{location}<br>Volume in USD=%{z}<extra></extra>",
           "locationmode": "country names",
           "locations": [
            "france",
            "germany",
            "japan",
            "netherlands",
            "switzerland",
            "usa"
           ],
           "name": "",
           "type": "choropleth",
           "z": [
            1857100,
            491500,
            52945700,
            80392300,
            28768500,
            35067908366
           ]
          }
         ],
         "name": "2010-06"
        },
        {
         "data": [
          {
           "coloraxis": "coloraxis",
           "geo": "geo",
           "hovertemplate": "Year-Month=2010-07<br>Country=%{location}<br>Volume in USD=%{z}<extra></extra>",
           "locationmode": "country names",
           "locations": [
            "france",
            "germany",
            "japan",
            "netherlands",
            "switzerland",
            "usa"
           ],
           "name": "",
           "type": "choropleth",
           "z": [
            2935400,
            450100,
            36881600,
            61063500,
            32827800,
            34356491848
           ]
          }
         ],
         "name": "2010-07"
        },
        {
         "data": [
          {
           "coloraxis": "coloraxis",
           "geo": "geo",
           "hovertemplate": "Year-Month=2010-08<br>Country=%{location}<br>Volume in USD=%{z}<extra></extra>",
           "locationmode": "country names",
           "locations": [
            "france",
            "germany",
            "japan",
            "netherlands",
            "switzerland",
            "usa"
           ],
           "name": "",
           "type": "choropleth",
           "z": [
            1165800,
            442100,
            39629000,
            54786400,
            25742700,
            25866344272
           ]
          }
         ],
         "name": "2010-08"
        },
        {
         "data": [
          {
           "coloraxis": "coloraxis",
           "geo": "geo",
           "hovertemplate": "Year-Month=2010-09<br>Country=%{location}<br>Volume in USD=%{z}<extra></extra>",
           "locationmode": "country names",
           "locations": [
            "france",
            "germany",
            "japan",
            "netherlands",
            "switzerland",
            "usa"
           ],
           "name": "",
           "type": "choropleth",
           "z": [
            1803800,
            701900,
            40074600,
            58794700,
            32660600,
            28671065732
           ]
          }
         ],
         "name": "2010-09"
        },
        {
         "data": [
          {
           "coloraxis": "coloraxis",
           "geo": "geo",
           "hovertemplate": "Year-Month=2010-10<br>Country=%{location}<br>Volume in USD=%{z}<extra></extra>",
           "locationmode": "country names",
           "locations": [
            "france",
            "germany",
            "japan",
            "netherlands",
            "switzerland",
            "usa"
           ],
           "name": "",
           "type": "choropleth",
           "z": [
            1603900,
            777700,
            41023500,
            61596200,
            44611000,
            29417603917
           ]
          }
         ],
         "name": "2010-10"
        },
        {
         "data": [
          {
           "coloraxis": "coloraxis",
           "geo": "geo",
           "hovertemplate": "Year-Month=2010-11<br>Country=%{location}<br>Volume in USD=%{z}<extra></extra>",
           "locationmode": "country names",
           "locations": [
            "france",
            "germany",
            "japan",
            "netherlands",
            "switzerland",
            "usa"
           ],
           "name": "",
           "type": "choropleth",
           "z": [
            2784900,
            819700,
            38238000,
            49943200,
            41439000,
            26295270198
           ]
          }
         ],
         "name": "2010-11"
        },
        {
         "data": [
          {
           "coloraxis": "coloraxis",
           "geo": "geo",
           "hovertemplate": "Year-Month=2010-12<br>Country=%{location}<br>Volume in USD=%{z}<extra></extra>",
           "locationmode": "country names",
           "locations": [
            "france",
            "germany",
            "japan",
            "netherlands",
            "switzerland",
            "usa"
           ],
           "name": "",
           "type": "choropleth",
           "z": [
            2228800,
            1398300,
            29163500,
            45293800,
            34470800,
            21360665951
           ]
          }
         ],
         "name": "2010-12"
        },
        {
         "data": [
          {
           "coloraxis": "coloraxis",
           "geo": "geo",
           "hovertemplate": "Year-Month=2011-01<br>Country=%{location}<br>Volume in USD=%{z}<extra></extra>",
           "locationmode": "country names",
           "locations": [
            "france",
            "germany",
            "japan",
            "netherlands",
            "switzerland",
            "usa"
           ],
           "name": "",
           "type": "choropleth",
           "z": [
            2345000,
            991300,
            67982000,
            59637700,
            39157900,
            28510452297
           ]
          }
         ],
         "name": "2011-01"
        },
        {
         "data": [
          {
           "coloraxis": "coloraxis",
           "geo": "geo",
           "hovertemplate": "Year-Month=2011-02<br>Country=%{location}<br>Volume in USD=%{z}<extra></extra>",
           "locationmode": "country names",
           "locations": [
            "france",
            "germany",
            "japan",
            "netherlands",
            "switzerland",
            "usa"
           ],
           "name": "",
           "type": "choropleth",
           "z": [
            1997700,
            923000,
            41676100,
            54171300,
            18506000,
            24942498583
           ]
          }
         ],
         "name": "2011-02"
        },
        {
         "data": [
          {
           "coloraxis": "coloraxis",
           "geo": "geo",
           "hovertemplate": "Year-Month=2011-03<br>Country=%{location}<br>Volume in USD=%{z}<extra></extra>",
           "locationmode": "country names",
           "locations": [
            "france",
            "germany",
            "japan",
            "netherlands",
            "switzerland",
            "usa"
           ],
           "name": "",
           "type": "choropleth",
           "z": [
            4371500,
            1159600,
            76752800,
            51585900,
            23764900,
            29668608223
           ]
          }
         ],
         "name": "2011-03"
        },
        {
         "data": [
          {
           "coloraxis": "coloraxis",
           "geo": "geo",
           "hovertemplate": "Year-Month=2011-04<br>Country=%{location}<br>Volume in USD=%{z}<extra></extra>",
           "locationmode": "country names",
           "locations": [
            "france",
            "germany",
            "japan",
            "netherlands",
            "switzerland",
            "usa"
           ],
           "name": "",
           "type": "choropleth",
           "z": [
            1188800,
            1972400,
            64865900,
            48496600,
            60321400,
            24945040145
           ]
          }
         ],
         "name": "2011-04"
        },
        {
         "data": [
          {
           "coloraxis": "coloraxis",
           "geo": "geo",
           "hovertemplate": "Year-Month=2011-05<br>Country=%{location}<br>Volume in USD=%{z}<extra></extra>",
           "locationmode": "country names",
           "locations": [
            "france",
            "germany",
            "japan",
            "netherlands",
            "switzerland",
            "usa"
           ],
           "name": "",
           "type": "choropleth",
           "z": [
            4186700,
            44358700,
            52375500,
            56703500,
            29420700,
            21710146421
           ]
          }
         ],
         "name": "2011-05"
        },
        {
         "data": [
          {
           "coloraxis": "coloraxis",
           "geo": "geo",
           "hovertemplate": "Year-Month=2011-06<br>Country=%{location}<br>Volume in USD=%{z}<extra></extra>",
           "locationmode": "country names",
           "locations": [
            "france",
            "germany",
            "japan",
            "netherlands",
            "switzerland",
            "usa"
           ],
           "name": "",
           "type": "choropleth",
           "z": [
            1876700,
            2122000,
            40710700,
            81426600,
            34589000,
            25539212029
           ]
          }
         ],
         "name": "2011-06"
        },
        {
         "data": [
          {
           "coloraxis": "coloraxis",
           "geo": "geo",
           "hovertemplate": "Year-Month=2011-07<br>Country=%{location}<br>Volume in USD=%{z}<extra></extra>",
           "locationmode": "country names",
           "locations": [
            "france",
            "germany",
            "japan",
            "netherlands",
            "switzerland",
            "usa"
           ],
           "name": "",
           "type": "choropleth",
           "z": [
            2218300,
            906000,
            39011100,
            57442300,
            30306600,
            25923103049
           ]
          }
         ],
         "name": "2011-07"
        },
        {
         "data": [
          {
           "coloraxis": "coloraxis",
           "geo": "geo",
           "hovertemplate": "Year-Month=2011-08<br>Country=%{location}<br>Volume in USD=%{z}<extra></extra>",
           "locationmode": "country names",
           "locations": [
            "france",
            "germany",
            "japan",
            "netherlands",
            "switzerland",
            "usa"
           ],
           "name": "",
           "type": "choropleth",
           "z": [
            3294300,
            1771200,
            90954000,
            107473500,
            59697800,
            39675132024
           ]
          }
         ],
         "name": "2011-08"
        },
        {
         "data": [
          {
           "coloraxis": "coloraxis",
           "geo": "geo",
           "hovertemplate": "Year-Month=2011-09<br>Country=%{location}<br>Volume in USD=%{z}<extra></extra>",
           "locationmode": "country names",
           "locations": [
            "france",
            "germany",
            "japan",
            "netherlands",
            "switzerland",
            "usa"
           ],
           "name": "",
           "type": "choropleth",
           "z": [
            1843100,
            1761400,
            35717100,
            84771200,
            39444200,
            30649790481
           ]
          }
         ],
         "name": "2011-09"
        },
        {
         "data": [
          {
           "coloraxis": "coloraxis",
           "geo": "geo",
           "hovertemplate": "Year-Month=2011-10<br>Country=%{location}<br>Volume in USD=%{z}<extra></extra>",
           "locationmode": "country names",
           "locations": [
            "france",
            "germany",
            "japan",
            "netherlands",
            "switzerland",
            "usa"
           ],
           "name": "",
           "type": "choropleth",
           "z": [
            1665100,
            1171600,
            49716100,
            73970600,
            21715500,
            31586496951
           ]
          }
         ],
         "name": "2011-10"
        },
        {
         "data": [
          {
           "coloraxis": "coloraxis",
           "geo": "geo",
           "hovertemplate": "Year-Month=2011-11<br>Country=%{location}<br>Volume in USD=%{z}<extra></extra>",
           "locationmode": "country names",
           "locations": [
            "france",
            "germany",
            "japan",
            "netherlands",
            "switzerland",
            "usa"
           ],
           "name": "",
           "type": "choropleth",
           "z": [
            1911500,
            1180100,
            47508200,
            62665900,
            13763500,
            24889195950
           ]
          }
         ],
         "name": "2011-11"
        },
        {
         "data": [
          {
           "coloraxis": "coloraxis",
           "geo": "geo",
           "hovertemplate": "Year-Month=2011-12<br>Country=%{location}<br>Volume in USD=%{z}<extra></extra>",
           "locationmode": "country names",
           "locations": [
            "france",
            "germany",
            "japan",
            "netherlands",
            "switzerland",
            "usa"
           ],
           "name": "",
           "type": "choropleth",
           "z": [
            5306000,
            1739100,
            50316400,
            50102100,
            8995300,
            19834276600
           ]
          }
         ],
         "name": "2011-12"
        },
        {
         "data": [
          {
           "coloraxis": "coloraxis",
           "geo": "geo",
           "hovertemplate": "Year-Month=2012-01<br>Country=%{location}<br>Volume in USD=%{z}<extra></extra>",
           "locationmode": "country names",
           "locations": [
            "france",
            "germany",
            "japan",
            "netherlands",
            "switzerland",
            "usa"
           ],
           "name": "",
           "type": "choropleth",
           "z": [
            5117800,
            1717200,
            39560300,
            55874400,
            12269400,
            22576582296
           ]
          }
         ],
         "name": "2012-01"
        },
        {
         "data": [
          {
           "coloraxis": "coloraxis",
           "geo": "geo",
           "hovertemplate": "Year-Month=2012-02<br>Country=%{location}<br>Volume in USD=%{z}<extra></extra>",
           "locationmode": "country names",
           "locations": [
            "france",
            "germany",
            "japan",
            "netherlands",
            "switzerland",
            "usa"
           ],
           "name": "",
           "type": "choropleth",
           "z": [
            1013400,
            1635300,
            35806500,
            40017100,
            8856800,
            25285242616
           ]
          }
         ],
         "name": "2012-02"
        },
        {
         "data": [
          {
           "coloraxis": "coloraxis",
           "geo": "geo",
           "hovertemplate": "Year-Month=2012-03<br>Country=%{location}<br>Volume in USD=%{z}<extra></extra>",
           "locationmode": "country names",
           "locations": [
            "france",
            "germany",
            "japan",
            "netherlands",
            "switzerland",
            "usa"
           ],
           "name": "",
           "type": "choropleth",
           "z": [
            1808300,
            1482600,
            35950100,
            51210700,
            7910200,
            28683994392
           ]
          }
         ],
         "name": "2012-03"
        },
        {
         "data": [
          {
           "coloraxis": "coloraxis",
           "geo": "geo",
           "hovertemplate": "Year-Month=2012-04<br>Country=%{location}<br>Volume in USD=%{z}<extra></extra>",
           "locationmode": "country names",
           "locations": [
            "france",
            "germany",
            "japan",
            "netherlands",
            "switzerland",
            "usa"
           ],
           "name": "",
           "type": "choropleth",
           "z": [
            9350900,
            3297100,
            31155800,
            61042900,
            23636400,
            28665756792
           ]
          }
         ],
         "name": "2012-04"
        },
        {
         "data": [
          {
           "coloraxis": "coloraxis",
           "geo": "geo",
           "hovertemplate": "Year-Month=2012-05<br>Country=%{location}<br>Volume in USD=%{z}<extra></extra>",
           "locationmode": "country names",
           "locations": [
            "france",
            "germany",
            "japan",
            "netherlands",
            "switzerland",
            "usa"
           ],
           "name": "",
           "type": "choropleth",
           "z": [
            2710700,
            1894600,
            50502100,
            52997400,
            23877500,
            26144230868
           ]
          }
         ],
         "name": "2012-05"
        },
        {
         "data": [
          {
           "coloraxis": "coloraxis",
           "geo": "geo",
           "hovertemplate": "Year-Month=2012-06<br>Country=%{location}<br>Volume in USD=%{z}<extra></extra>",
           "locationmode": "country names",
           "locations": [
            "france",
            "germany",
            "japan",
            "netherlands",
            "switzerland",
            "usa"
           ],
           "name": "",
           "type": "choropleth",
           "z": [
            1860000,
            1593000,
            29201200,
            43987700,
            14144700,
            20557091428
           ]
          }
         ],
         "name": "2012-06"
        },
        {
         "data": [
          {
           "coloraxis": "coloraxis",
           "geo": "geo",
           "hovertemplate": "Year-Month=2012-07<br>Country=%{location}<br>Volume in USD=%{z}<extra></extra>",
           "locationmode": "country names",
           "locations": [
            "france",
            "germany",
            "japan",
            "netherlands",
            "switzerland",
            "usa"
           ],
           "name": "",
           "type": "choropleth",
           "z": [
            1106200,
            1236100,
            21865700,
            36548000,
            19044700,
            21711469036
           ]
          }
         ],
         "name": "2012-07"
        },
        {
         "data": [
          {
           "coloraxis": "coloraxis",
           "geo": "geo",
           "hovertemplate": "Year-Month=2012-08<br>Country=%{location}<br>Volume in USD=%{z}<extra></extra>",
           "locationmode": "country names",
           "locations": [
            "france",
            "germany",
            "japan",
            "netherlands",
            "switzerland",
            "usa"
           ],
           "name": "",
           "type": "choropleth",
           "z": [
            8141300,
            889200,
            34534500,
            51117500,
            21763400,
            19569197468
           ]
          }
         ],
         "name": "2012-08"
        },
        {
         "data": [
          {
           "coloraxis": "coloraxis",
           "geo": "geo",
           "hovertemplate": "Year-Month=2012-09<br>Country=%{location}<br>Volume in USD=%{z}<extra></extra>",
           "locationmode": "country names",
           "locations": [
            "france",
            "germany",
            "japan",
            "netherlands",
            "switzerland",
            "usa"
           ],
           "name": "",
           "type": "choropleth",
           "z": [
            1954000,
            2008900,
            35176700,
            35010900,
            15984000,
            20997404596
           ]
          }
         ],
         "name": "2012-09"
        },
        {
         "data": [
          {
           "coloraxis": "coloraxis",
           "geo": "geo",
           "hovertemplate": "Year-Month=2012-10<br>Country=%{location}<br>Volume in USD=%{z}<extra></extra>",
           "locationmode": "country names",
           "locations": [
            "france",
            "germany",
            "japan",
            "netherlands",
            "switzerland",
            "usa"
           ],
           "name": "",
           "type": "choropleth",
           "z": [
            1169000,
            1979200,
            31727200,
            43214000,
            16556300,
            25472711348
           ]
          }
         ],
         "name": "2012-10"
        },
        {
         "data": [
          {
           "coloraxis": "coloraxis",
           "geo": "geo",
           "hovertemplate": "Year-Month=2012-11<br>Country=%{location}<br>Volume in USD=%{z}<extra></extra>",
           "locationmode": "country names",
           "locations": [
            "france",
            "germany",
            "japan",
            "netherlands",
            "switzerland",
            "usa"
           ],
           "name": "",
           "type": "choropleth",
           "z": [
            1668700,
            1322600,
            29139700,
            42154200,
            8127400,
            24663279432
           ]
          }
         ],
         "name": "2012-11"
        },
        {
         "data": [
          {
           "coloraxis": "coloraxis",
           "geo": "geo",
           "hovertemplate": "Year-Month=2012-12<br>Country=%{location}<br>Volume in USD=%{z}<extra></extra>",
           "locationmode": "country names",
           "locations": [
            "france",
            "germany",
            "japan",
            "netherlands",
            "switzerland",
            "usa"
           ],
           "name": "",
           "type": "choropleth",
           "z": [
            2335500,
            2409100,
            27364700,
            31343900,
            6309800,
            22692622480
           ]
          }
         ],
         "name": "2012-12"
        },
        {
         "data": [
          {
           "coloraxis": "coloraxis",
           "geo": "geo",
           "hovertemplate": "Year-Month=2013-01<br>Country=%{location}<br>Volume in USD=%{z}<extra></extra>",
           "locationmode": "country names",
           "locations": [
            "france",
            "germany",
            "japan",
            "netherlands",
            "switzerland",
            "usa"
           ],
           "name": "",
           "type": "choropleth",
           "z": [
            1442600,
            2250100,
            51817900,
            40360400,
            13098100,
            25708819092
           ]
          }
         ],
         "name": "2013-01"
        },
        {
         "data": [
          {
           "coloraxis": "coloraxis",
           "geo": "geo",
           "hovertemplate": "Year-Month=2013-02<br>Country=%{location}<br>Volume in USD=%{z}<extra></extra>",
           "locationmode": "country names",
           "locations": [
            "france",
            "germany",
            "japan",
            "netherlands",
            "switzerland",
            "usa"
           ],
           "name": "",
           "type": "choropleth",
           "z": [
            2752200,
            2041300,
            31219000,
            34179900,
            10325600,
            20221195184
           ]
          }
         ],
         "name": "2013-02"
        },
        {
         "data": [
          {
           "coloraxis": "coloraxis",
           "geo": "geo",
           "hovertemplate": "Year-Month=2013-03<br>Country=%{location}<br>Volume in USD=%{z}<extra></extra>",
           "locationmode": "country names",
           "locations": [
            "france",
            "germany",
            "japan",
            "netherlands",
            "switzerland",
            "usa"
           ],
           "name": "",
           "type": "choropleth",
           "z": [
            1893100,
            1324300,
            25821800,
            33083000,
            6042100,
            19083386244
           ]
          }
         ],
         "name": "2013-03"
        },
        {
         "data": [
          {
           "coloraxis": "coloraxis",
           "geo": "geo",
           "hovertemplate": "Year-Month=2013-04<br>Country=%{location}<br>Volume in USD=%{z}<extra></extra>",
           "locationmode": "country names",
           "locations": [
            "france",
            "germany",
            "japan",
            "netherlands",
            "switzerland",
            "usa"
           ],
           "name": "",
           "type": "choropleth",
           "z": [
            2660900,
            1532000,
            48144900,
            35258600,
            10400400,
            24118970112
           ]
          }
         ],
         "name": "2013-04"
        },
        {
         "data": [
          {
           "coloraxis": "coloraxis",
           "geo": "geo",
           "hovertemplate": "Year-Month=2013-05<br>Country=%{location}<br>Volume in USD=%{z}<extra></extra>",
           "locationmode": "country names",
           "locations": [
            "france",
            "germany",
            "japan",
            "netherlands",
            "switzerland",
            "usa"
           ],
           "name": "",
           "type": "choropleth",
           "z": [
            2142500,
            1647700,
            44332000,
            37038300,
            8718500,
            25989989108
           ]
          }
         ],
         "name": "2013-05"
        },
        {
         "data": [
          {
           "coloraxis": "coloraxis",
           "geo": "geo",
           "hovertemplate": "Year-Month=2013-06<br>Country=%{location}<br>Volume in USD=%{z}<extra></extra>",
           "locationmode": "country names",
           "locations": [
            "france",
            "germany",
            "japan",
            "netherlands",
            "switzerland",
            "usa"
           ],
           "name": "",
           "type": "choropleth",
           "z": [
            1760900,
            1223800,
            32869400,
            36834400,
            6450700,
            19864814276
           ]
          }
         ],
         "name": "2013-06"
        },
        {
         "data": [
          {
           "coloraxis": "coloraxis",
           "geo": "geo",
           "hovertemplate": "Year-Month=2013-07<br>Country=%{location}<br>Volume in USD=%{z}<extra></extra>",
           "locationmode": "country names",
           "locations": [
            "france",
            "germany",
            "japan",
            "netherlands",
            "switzerland",
            "usa"
           ],
           "name": "",
           "type": "choropleth",
           "z": [
            1707100,
            1885500,
            32090800,
            40944400,
            11724500,
            20494323080
           ]
          }
         ],
         "name": "2013-07"
        },
        {
         "data": [
          {
           "coloraxis": "coloraxis",
           "geo": "geo",
           "hovertemplate": "Year-Month=2013-08<br>Country=%{location}<br>Volume in USD=%{z}<extra></extra>",
           "locationmode": "country names",
           "locations": [
            "france",
            "germany",
            "japan",
            "netherlands",
            "switzerland",
            "usa"
           ],
           "name": "",
           "type": "choropleth",
           "z": [
            1395000,
            1497700,
            18464500,
            31315500,
            9387200,
            21202742616
           ]
          }
         ],
         "name": "2013-08"
        },
        {
         "data": [
          {
           "coloraxis": "coloraxis",
           "geo": "geo",
           "hovertemplate": "Year-Month=2013-09<br>Country=%{location}<br>Volume in USD=%{z}<extra></extra>",
           "locationmode": "country names",
           "locations": [
            "france",
            "germany",
            "japan",
            "netherlands",
            "switzerland",
            "usa"
           ],
           "name": "",
           "type": "choropleth",
           "z": [
            1277800,
            2067100,
            23175500,
            37070100,
            8011600,
            20400121460
           ]
          }
         ],
         "name": "2013-09"
        },
        {
         "data": [
          {
           "coloraxis": "coloraxis",
           "geo": "geo",
           "hovertemplate": "Year-Month=2013-10<br>Country=%{location}<br>Volume in USD=%{z}<extra></extra>",
           "locationmode": "country names",
           "locations": [
            "france",
            "germany",
            "japan",
            "netherlands",
            "switzerland",
            "usa"
           ],
           "name": "",
           "type": "choropleth",
           "z": [
            2259300,
            2370400,
            29860600,
            52853100,
            14135200,
            23411106420
           ]
          }
         ],
         "name": "2013-10"
        },
        {
         "data": [
          {
           "coloraxis": "coloraxis",
           "geo": "geo",
           "hovertemplate": "Year-Month=2013-11<br>Country=%{location}<br>Volume in USD=%{z}<extra></extra>",
           "locationmode": "country names",
           "locations": [
            "france",
            "germany",
            "japan",
            "netherlands",
            "switzerland",
            "usa"
           ],
           "name": "",
           "type": "choropleth",
           "z": [
            2231400,
            1482200,
            17982900,
            31666800,
            8240500,
            18314665436
           ]
          }
         ],
         "name": "2013-11"
        },
        {
         "data": [
          {
           "coloraxis": "coloraxis",
           "geo": "geo",
           "hovertemplate": "Year-Month=2013-12<br>Country=%{location}<br>Volume in USD=%{z}<extra></extra>",
           "locationmode": "country names",
           "locations": [
            "france",
            "germany",
            "japan",
            "netherlands",
            "switzerland",
            "usa"
           ],
           "name": "",
           "type": "choropleth",
           "z": [
            2288800,
            1849200,
            17734100,
            29735500,
            8407600,
            18835474946
           ]
          }
         ],
         "name": "2013-12"
        },
        {
         "data": [
          {
           "coloraxis": "coloraxis",
           "geo": "geo",
           "hovertemplate": "Year-Month=2014-01<br>Country=%{location}<br>Volume in USD=%{z}<extra></extra>",
           "locationmode": "country names",
           "locations": [
            "france",
            "germany",
            "japan",
            "netherlands",
            "switzerland",
            "usa"
           ],
           "name": "",
           "type": "choropleth",
           "z": [
            3530000,
            2422800,
            38527600,
            49346200,
            27371500,
            23024939675
           ]
          }
         ],
         "name": "2014-01"
        },
        {
         "data": [
          {
           "coloraxis": "coloraxis",
           "geo": "geo",
           "hovertemplate": "Year-Month=2014-02<br>Country=%{location}<br>Volume in USD=%{z}<extra></extra>",
           "locationmode": "country names",
           "locations": [
            "france",
            "germany",
            "japan",
            "netherlands",
            "switzerland",
            "usa"
           ],
           "name": "",
           "type": "choropleth",
           "z": [
            3343100,
            1716100,
            36748100,
            36544900,
            15121700,
            19148203086
           ]
          }
         ],
         "name": "2014-02"
        },
        {
         "data": [
          {
           "coloraxis": "coloraxis",
           "geo": "geo",
           "hovertemplate": "Year-Month=2014-03<br>Country=%{location}<br>Volume in USD=%{z}<extra></extra>",
           "locationmode": "country names",
           "locations": [
            "france",
            "germany",
            "japan",
            "netherlands",
            "switzerland",
            "usa"
           ],
           "name": "",
           "type": "choropleth",
           "z": [
            1967100,
            4224400,
            38767100,
            43713800,
            14159900,
            17677844211
           ]
          }
         ],
         "name": "2014-03"
        },
        {
         "data": [
          {
           "coloraxis": "coloraxis",
           "geo": "geo",
           "hovertemplate": "Year-Month=2014-04<br>Country=%{location}<br>Volume in USD=%{z}<extra></extra>",
           "locationmode": "country names",
           "locations": [
            "france",
            "germany",
            "japan",
            "netherlands",
            "switzerland",
            "usa"
           ],
           "name": "",
           "type": "choropleth",
           "z": [
            1951800,
            3191500,
            48296300,
            40666500,
            21853700,
            20456263033
           ]
          }
         ],
         "name": "2014-04"
        },
        {
         "data": [
          {
           "coloraxis": "coloraxis",
           "geo": "geo",
           "hovertemplate": "Year-Month=2014-05<br>Country=%{location}<br>Volume in USD=%{z}<extra></extra>",
           "locationmode": "country names",
           "locations": [
            "france",
            "germany",
            "japan",
            "netherlands",
            "switzerland",
            "usa"
           ],
           "name": "",
           "type": "choropleth",
           "z": [
            1881000,
            2355600,
            40271900,
            32370200,
            11989600,
            15885610565
           ]
          }
         ],
         "name": "2014-05"
        },
        {
         "data": [
          {
           "coloraxis": "coloraxis",
           "geo": "geo",
           "hovertemplate": "Year-Month=2014-06<br>Country=%{location}<br>Volume in USD=%{z}<extra></extra>",
           "locationmode": "country names",
           "locations": [
            "france",
            "germany",
            "japan",
            "netherlands",
            "switzerland",
            "usa"
           ],
           "name": "",
           "type": "choropleth",
           "z": [
            1486800,
            2419800,
            31759100,
            32445700,
            7258300,
            14429827010
           ]
          }
         ],
         "name": "2014-06"
        },
        {
         "data": [
          {
           "coloraxis": "coloraxis",
           "geo": "geo",
           "hovertemplate": "Year-Month=2014-07<br>Country=%{location}<br>Volume in USD=%{z}<extra></extra>",
           "locationmode": "country names",
           "locations": [
            "france",
            "germany",
            "japan",
            "netherlands",
            "switzerland",
            "usa"
           ],
           "name": "",
           "type": "choropleth",
           "z": [
            2291100,
            2501600,
            25763100,
            39215800,
            13972500,
            15122071328
           ]
          }
         ],
         "name": "2014-07"
        },
        {
         "data": [
          {
           "coloraxis": "coloraxis",
           "geo": "geo",
           "hovertemplate": "Year-Month=2014-08<br>Country=%{location}<br>Volume in USD=%{z}<extra></extra>",
           "locationmode": "country names",
           "locations": [
            "france",
            "germany",
            "japan",
            "netherlands",
            "switzerland",
            "usa"
           ],
           "name": "",
           "type": "choropleth",
           "z": [
            4829600,
            4956200,
            23540200,
            26998000,
            10132700,
            12464606025
           ]
          }
         ],
         "name": "2014-08"
        },
        {
         "data": [
          {
           "coloraxis": "coloraxis",
           "geo": "geo",
           "hovertemplate": "Year-Month=2014-09<br>Country=%{location}<br>Volume in USD=%{z}<extra></extra>",
           "locationmode": "country names",
           "locations": [
            "france",
            "germany",
            "japan",
            "netherlands",
            "switzerland",
            "usa"
           ],
           "name": "",
           "type": "choropleth",
           "z": [
            3604000,
            4498700,
            24033300,
            38052100,
            10320100,
            15938445269
           ]
          }
         ],
         "name": "2014-09"
        },
        {
         "data": [
          {
           "coloraxis": "coloraxis",
           "geo": "geo",
           "hovertemplate": "Year-Month=2014-10<br>Country=%{location}<br>Volume in USD=%{z}<extra></extra>",
           "locationmode": "country names",
           "locations": [
            "france",
            "germany",
            "japan",
            "netherlands",
            "switzerland",
            "usa"
           ],
           "name": "",
           "type": "choropleth",
           "z": [
            4681800,
            3839200,
            53559500,
            58663700,
            18064000,
            19149132764
           ]
          }
         ],
         "name": "2014-10"
        },
        {
         "data": [
          {
           "coloraxis": "coloraxis",
           "geo": "geo",
           "hovertemplate": "Year-Month=2014-11<br>Country=%{location}<br>Volume in USD=%{z}<extra></extra>",
           "locationmode": "country names",
           "locations": [
            "france",
            "germany",
            "japan",
            "netherlands",
            "switzerland",
            "usa"
           ],
           "name": "",
           "type": "choropleth",
           "z": [
            2490000,
            2022400,
            33285200,
            38517400,
            6567300,
            11659725132
           ]
          }
         ],
         "name": "2014-11"
        },
        {
         "data": [
          {
           "coloraxis": "coloraxis",
           "geo": "geo",
           "hovertemplate": "Year-Month=2014-12<br>Country=%{location}<br>Volume in USD=%{z}<extra></extra>",
           "locationmode": "country names",
           "locations": [
            "france",
            "germany",
            "japan",
            "netherlands",
            "switzerland",
            "usa"
           ],
           "name": "",
           "type": "choropleth",
           "z": [
            2243400,
            4162900,
            48182600,
            34506000,
            5427500,
            14713536358
           ]
          }
         ],
         "name": "2014-12"
        },
        {
         "data": [
          {
           "coloraxis": "coloraxis",
           "geo": "geo",
           "hovertemplate": "Year-Month=2015-01<br>Country=%{location}<br>Volume in USD=%{z}<extra></extra>",
           "locationmode": "country names",
           "locations": [
            "france",
            "germany",
            "japan",
            "netherlands",
            "switzerland",
            "usa"
           ],
           "name": "",
           "type": "choropleth",
           "z": [
            2519900,
            4583300,
            35889700,
            59891200,
            9168600,
            16123253334
           ]
          }
         ],
         "name": "2015-01"
        },
        {
         "data": [
          {
           "coloraxis": "coloraxis",
           "geo": "geo",
           "hovertemplate": "Year-Month=2015-02<br>Country=%{location}<br>Volume in USD=%{z}<extra></extra>",
           "locationmode": "country names",
           "locations": [
            "france",
            "germany",
            "japan",
            "netherlands",
            "switzerland",
            "usa"
           ],
           "name": "",
           "type": "choropleth",
           "z": [
            3158200,
            5000200,
            26246600,
            42028400,
            5977700,
            13860129236
           ]
          }
         ],
         "name": "2015-02"
        },
        {
         "data": [
          {
           "coloraxis": "coloraxis",
           "geo": "geo",
           "hovertemplate": "Year-Month=2015-03<br>Country=%{location}<br>Volume in USD=%{z}<extra></extra>",
           "locationmode": "country names",
           "locations": [
            "france",
            "germany",
            "japan",
            "netherlands",
            "switzerland",
            "usa"
           ],
           "name": "",
           "type": "choropleth",
           "z": [
            2813000,
            2822100,
            67967600,
            41317200,
            7110700,
            14778977075
           ]
          }
         ],
         "name": "2015-03"
        },
        {
         "data": [
          {
           "coloraxis": "coloraxis",
           "geo": "geo",
           "hovertemplate": "Year-Month=2015-04<br>Country=%{location}<br>Volume in USD=%{z}<extra></extra>",
           "locationmode": "country names",
           "locations": [
            "france",
            "germany",
            "japan",
            "netherlands",
            "switzerland",
            "usa"
           ],
           "name": "",
           "type": "choropleth",
           "z": [
            2402700,
            3890900,
            28827600,
            54087700,
            7737000,
            13892455927
           ]
          }
         ],
         "name": "2015-04"
        },
        {
         "data": [
          {
           "coloraxis": "coloraxis",
           "geo": "geo",
           "hovertemplate": "Year-Month=2015-05<br>Country=%{location}<br>Volume in USD=%{z}<extra></extra>",
           "locationmode": "country names",
           "locations": [
            "canada",
            "france",
            "germany",
            "japan",
            "netherlands",
            "switzerland",
            "usa"
           ],
           "name": "",
           "type": "choropleth",
           "z": [
            174183000,
            1293700,
            10450400,
            33514800,
            39203700,
            7054100,
            12161404543
           ]
          }
         ],
         "name": "2015-05"
        },
        {
         "data": [
          {
           "coloraxis": "coloraxis",
           "geo": "geo",
           "hovertemplate": "Year-Month=2015-06<br>Country=%{location}<br>Volume in USD=%{z}<extra></extra>",
           "locationmode": "country names",
           "locations": [
            "canada",
            "france",
            "germany",
            "japan",
            "netherlands",
            "switzerland",
            "usa"
           ],
           "name": "",
           "type": "choropleth",
           "z": [
            131118000,
            2105000,
            3745600,
            36033200,
            56727600,
            4608700,
            12375059352
           ]
          }
         ],
         "name": "2015-06"
        },
        {
         "data": [
          {
           "coloraxis": "coloraxis",
           "geo": "geo",
           "hovertemplate": "Year-Month=2015-07<br>Country=%{location}<br>Volume in USD=%{z}<extra></extra>",
           "locationmode": "country names",
           "locations": [
            "canada",
            "france",
            "germany",
            "japan",
            "netherlands",
            "switzerland",
            "usa"
           ],
           "name": "",
           "type": "choropleth",
           "z": [
            89926000,
            1706100,
            2652600,
            34583000,
            64083700,
            7820200,
            14595660644
           ]
          }
         ],
         "name": "2015-07"
        },
        {
         "data": [
          {
           "coloraxis": "coloraxis",
           "geo": "geo",
           "hovertemplate": "Year-Month=2015-08<br>Country=%{location}<br>Volume in USD=%{z}<extra></extra>",
           "locationmode": "country names",
           "locations": [
            "canada",
            "france",
            "germany",
            "japan",
            "netherlands",
            "switzerland",
            "usa"
           ],
           "name": "",
           "type": "choropleth",
           "z": [
            65836000,
            1779900,
            3328600,
            36216600,
            60708700,
            6021400,
            18025821839
           ]
          }
         ],
         "name": "2015-08"
        },
        {
         "data": [
          {
           "coloraxis": "coloraxis",
           "geo": "geo",
           "hovertemplate": "Year-Month=2015-09<br>Country=%{location}<br>Volume in USD=%{z}<extra></extra>",
           "locationmode": "country names",
           "locations": [
            "canada",
            "france",
            "germany",
            "japan",
            "netherlands",
            "switzerland",
            "usa"
           ],
           "name": "",
           "type": "choropleth",
           "z": [
            72092000,
            2913800,
            5916500,
            26108000,
            59268500,
            8649200,
            14595665977
           ]
          }
         ],
         "name": "2015-09"
        },
        {
         "data": [
          {
           "coloraxis": "coloraxis",
           "geo": "geo",
           "hovertemplate": "Year-Month=2015-10<br>Country=%{location}<br>Volume in USD=%{z}<extra></extra>",
           "locationmode": "country names",
           "locations": [
            "canada",
            "france",
            "germany",
            "japan",
            "netherlands",
            "switzerland",
            "usa"
           ],
           "name": "",
           "type": "choropleth",
           "z": [
            62476000,
            1436000,
            6528700,
            31984900,
            47000100,
            11306400,
            15293342353
           ]
          }
         ],
         "name": "2015-10"
        },
        {
         "data": [
          {
           "coloraxis": "coloraxis",
           "geo": "geo",
           "hovertemplate": "Year-Month=2015-11<br>Country=%{location}<br>Volume in USD=%{z}<extra></extra>",
           "locationmode": "country names",
           "locations": [
            "canada",
            "france",
            "germany",
            "japan",
            "netherlands",
            "switzerland",
            "usa"
           ],
           "name": "",
           "type": "choropleth",
           "z": [
            153446000,
            2548400,
            5381500,
            18694600,
            47398300,
            5611900,
            12268952658
           ]
          }
         ],
         "name": "2015-11"
        },
        {
         "data": [
          {
           "coloraxis": "coloraxis",
           "geo": "geo",
           "hovertemplate": "Year-Month=2015-12<br>Country=%{location}<br>Volume in USD=%{z}<extra></extra>",
           "locationmode": "country names",
           "locations": [
            "canada",
            "france",
            "germany",
            "japan",
            "netherlands",
            "switzerland",
            "usa"
           ],
           "name": "",
           "type": "choropleth",
           "z": [
            84762000,
            2250100,
            4584000,
            24456300,
            49278700,
            5940300,
            13214921399
           ]
          }
         ],
         "name": "2015-12"
        },
        {
         "data": [
          {
           "coloraxis": "coloraxis",
           "geo": "geo",
           "hovertemplate": "Year-Month=2016-01<br>Country=%{location}<br>Volume in USD=%{z}<extra></extra>",
           "locationmode": "country names",
           "locations": [
            "canada",
            "france",
            "germany",
            "japan",
            "netherlands",
            "switzerland",
            "usa"
           ],
           "name": "",
           "type": "choropleth",
           "z": [
            96669000,
            4504900,
            4337400,
            37396000,
            63592600,
            12633600,
            17677142846
           ]
          }
         ],
         "name": "2016-01"
        },
        {
         "data": [
          {
           "coloraxis": "coloraxis",
           "geo": "geo",
           "hovertemplate": "Year-Month=2016-02<br>Country=%{location}<br>Volume in USD=%{z}<extra></extra>",
           "locationmode": "country names",
           "locations": [
            "canada",
            "france",
            "germany",
            "japan",
            "netherlands",
            "switzerland",
            "usa"
           ],
           "name": "",
           "type": "choropleth",
           "z": [
            179485000,
            3392700,
            2740800,
            38782300,
            67086800,
            15967700,
            16159757566
           ]
          }
         ],
         "name": "2016-02"
        },
        {
         "data": [
          {
           "coloraxis": "coloraxis",
           "geo": "geo",
           "hovertemplate": "Year-Month=2016-03<br>Country=%{location}<br>Volume in USD=%{z}<extra></extra>",
           "locationmode": "country names",
           "locations": [
            "canada",
            "france",
            "germany",
            "japan",
            "netherlands",
            "switzerland",
            "usa"
           ],
           "name": "",
           "type": "choropleth",
           "z": [
            156268000,
            1784100,
            2454200,
            28779300,
            62136200,
            11240400,
            13378657402
           ]
          }
         ],
         "name": "2016-03"
        },
        {
         "data": [
          {
           "coloraxis": "coloraxis",
           "geo": "geo",
           "hovertemplate": "Year-Month=2016-04<br>Country=%{location}<br>Volume in USD=%{z}<extra></extra>",
           "locationmode": "country names",
           "locations": [
            "canada",
            "france",
            "germany",
            "japan",
            "netherlands",
            "switzerland",
            "usa"
           ],
           "name": "",
           "type": "choropleth",
           "z": [
            99431000,
            2541600,
            2540700,
            33898800,
            53299100,
            13083700,
            14008126655
           ]
          }
         ],
         "name": "2016-04"
        },
        {
         "data": [
          {
           "coloraxis": "coloraxis",
           "geo": "geo",
           "hovertemplate": "Year-Month=2016-05<br>Country=%{location}<br>Volume in USD=%{z}<extra></extra>",
           "locationmode": "country names",
           "locations": [
            "canada",
            "france",
            "germany",
            "japan",
            "netherlands",
            "switzerland",
            "usa"
           ],
           "name": "",
           "type": "choropleth",
           "z": [
            152583000,
            1951900,
            2550400,
            35956200,
            41806300,
            8499000,
            13781963779
           ]
          }
         ],
         "name": "2016-05"
        },
        {
         "data": [
          {
           "coloraxis": "coloraxis",
           "geo": "geo",
           "hovertemplate": "Year-Month=2016-06<br>Country=%{location}<br>Volume in USD=%{z}<extra></extra>",
           "locationmode": "country names",
           "locations": [
            "canada",
            "france",
            "germany",
            "japan",
            "netherlands",
            "switzerland",
            "usa"
           ],
           "name": "",
           "type": "choropleth",
           "z": [
            166401000,
            2141800,
            4124300,
            36987400,
            63631200,
            9849400,
            14133925923
           ]
          }
         ],
         "name": "2016-06"
        },
        {
         "data": [
          {
           "coloraxis": "coloraxis",
           "geo": "geo",
           "hovertemplate": "Year-Month=2016-07<br>Country=%{location}<br>Volume in USD=%{z}<extra></extra>",
           "locationmode": "country names",
           "locations": [
            "canada",
            "france",
            "germany",
            "japan",
            "netherlands",
            "switzerland",
            "usa"
           ],
           "name": "",
           "type": "choropleth",
           "z": [
            177777000,
            2825600,
            7163300,
            514745100,
            65887700,
            12133000,
            11760784194
           ]
          }
         ],
         "name": "2016-07"
        },
        {
         "data": [
          {
           "coloraxis": "coloraxis",
           "geo": "geo",
           "hovertemplate": "Year-Month=2016-08<br>Country=%{location}<br>Volume in USD=%{z}<extra></extra>",
           "locationmode": "country names",
           "locations": [
            "canada",
            "france",
            "germany",
            "japan",
            "netherlands",
            "switzerland",
            "usa"
           ],
           "name": "",
           "type": "choropleth",
           "z": [
            338808000,
            1947200,
            4218000,
            78523500,
            68306300,
            12039600,
            11068275651
           ]
          }
         ],
         "name": "2016-08"
        },
        {
         "data": [
          {
           "coloraxis": "coloraxis",
           "geo": "geo",
           "hovertemplate": "Year-Month=2016-09<br>Country=%{location}<br>Volume in USD=%{z}<extra></extra>",
           "locationmode": "country names",
           "locations": [
            "canada",
            "france",
            "germany",
            "japan",
            "netherlands",
            "switzerland",
            "usa"
           ],
           "name": "",
           "type": "choropleth",
           "z": [
            175380000,
            1952500,
            2345800,
            123505300,
            55382800,
            10611400,
            14028146053
           ]
          }
         ],
         "name": "2016-09"
        },
        {
         "data": [
          {
           "coloraxis": "coloraxis",
           "geo": "geo",
           "hovertemplate": "Year-Month=2016-10<br>Country=%{location}<br>Volume in USD=%{z}<extra></extra>",
           "locationmode": "country names",
           "locations": [
            "canada",
            "france",
            "germany",
            "japan",
            "netherlands",
            "switzerland",
            "usa"
           ],
           "name": "",
           "type": "choropleth",
           "z": [
            107311000,
            1598600,
            2229800,
            57434700,
            56211300,
            14060700,
            12700001631
           ]
          }
         ],
         "name": "2016-10"
        },
        {
         "data": [
          {
           "coloraxis": "coloraxis",
           "geo": "geo",
           "hovertemplate": "Year-Month=2016-11<br>Country=%{location}<br>Volume in USD=%{z}<extra></extra>",
           "locationmode": "country names",
           "locations": [
            "canada",
            "france",
            "germany",
            "japan",
            "netherlands",
            "switzerland",
            "usa"
           ],
           "name": "",
           "type": "choropleth",
           "z": [
            221189000,
            3456300,
            1969800,
            57569200,
            77478400,
            9073300,
            15098324103
           ]
          }
         ],
         "name": "2016-11"
        },
        {
         "data": [
          {
           "coloraxis": "coloraxis",
           "geo": "geo",
           "hovertemplate": "Year-Month=2016-12<br>Country=%{location}<br>Volume in USD=%{z}<extra></extra>",
           "locationmode": "country names",
           "locations": [
            "canada",
            "france",
            "germany",
            "japan",
            "netherlands",
            "switzerland",
            "usa"
           ],
           "name": "",
           "type": "choropleth",
           "z": [
            141696000,
            1805500,
            2787100,
            81049200,
            68721300,
            8214800,
            13344603247
           ]
          }
         ],
         "name": "2016-12"
        },
        {
         "data": [
          {
           "coloraxis": "coloraxis",
           "geo": "geo",
           "hovertemplate": "Year-Month=2017-01<br>Country=%{location}<br>Volume in USD=%{z}<extra></extra>",
           "locationmode": "country names",
           "locations": [
            "canada",
            "france",
            "germany",
            "japan",
            "netherlands",
            "switzerland",
            "usa"
           ],
           "name": "",
           "type": "choropleth",
           "z": [
            240575000,
            2331000,
            1901700,
            59641200,
            79998200,
            12780000,
            12312585121
           ]
          }
         ],
         "name": "2017-01"
        },
        {
         "data": [
          {
           "coloraxis": "coloraxis",
           "geo": "geo",
           "hovertemplate": "Year-Month=2017-02<br>Country=%{location}<br>Volume in USD=%{z}<extra></extra>",
           "locationmode": "country names",
           "locations": [
            "canada",
            "france",
            "germany",
            "japan",
            "netherlands",
            "switzerland",
            "usa"
           ],
           "name": "",
           "type": "choropleth",
           "z": [
            288087000,
            2154800,
            1354700,
            43689200,
            127912900,
            5344800,
            13169036800
           ]
          }
         ],
         "name": "2017-02"
        },
        {
         "data": [
          {
           "coloraxis": "coloraxis",
           "geo": "geo",
           "hovertemplate": "Year-Month=2017-03<br>Country=%{location}<br>Volume in USD=%{z}<extra></extra>",
           "locationmode": "country names",
           "locations": [
            "canada",
            "france",
            "germany",
            "japan",
            "netherlands",
            "switzerland",
            "usa"
           ],
           "name": "",
           "type": "choropleth",
           "z": [
            328850000,
            1523300,
            2186400,
            63220000,
            77307300,
            8033500,
            13611415700
           ]
          }
         ],
         "name": "2017-03"
        },
        {
         "data": [
          {
           "coloraxis": "coloraxis",
           "geo": "geo",
           "hovertemplate": "Year-Month=2017-04<br>Country=%{location}<br>Volume in USD=%{z}<extra></extra>",
           "locationmode": "country names",
           "locations": [
            "canada",
            "france",
            "germany",
            "japan",
            "netherlands",
            "switzerland",
            "usa"
           ],
           "name": "",
           "type": "choropleth",
           "z": [
            246022000,
            2029600,
            1647300,
            54766700,
            62139700,
            9510900,
            10828535600
           ]
          }
         ],
         "name": "2017-04"
        },
        {
         "data": [
          {
           "coloraxis": "coloraxis",
           "geo": "geo",
           "hovertemplate": "Year-Month=2017-05<br>Country=%{location}<br>Volume in USD=%{z}<extra></extra>",
           "locationmode": "country names",
           "locations": [
            "canada",
            "france",
            "germany",
            "japan",
            "netherlands",
            "switzerland",
            "usa"
           ],
           "name": "",
           "type": "choropleth",
           "z": [
            615083000,
            2310800,
            2127100,
            69178700,
            59634500,
            9952800,
            15205597900
           ]
          }
         ],
         "name": "2017-05"
        },
        {
         "data": [
          {
           "coloraxis": "coloraxis",
           "geo": "geo",
           "hovertemplate": "Year-Month=2017-06<br>Country=%{location}<br>Volume in USD=%{z}<extra></extra>",
           "locationmode": "country names",
           "locations": [
            "canada",
            "france",
            "germany",
            "japan",
            "netherlands",
            "switzerland",
            "usa"
           ],
           "name": "",
           "type": "choropleth",
           "z": [
            519883000,
            2818000,
            1698400,
            104426000,
            71054200,
            8607800,
            17741425400
           ]
          }
         ],
         "name": "2017-06"
        },
        {
         "data": [
          {
           "coloraxis": "coloraxis",
           "geo": "geo",
           "hovertemplate": "Year-Month=2017-07<br>Country=%{location}<br>Volume in USD=%{z}<extra></extra>",
           "locationmode": "country names",
           "locations": [
            "canada",
            "france",
            "germany",
            "japan",
            "netherlands",
            "switzerland",
            "usa"
           ],
           "name": "",
           "type": "choropleth",
           "z": [
            286923000,
            3408100,
            2099700,
            57652500,
            52600700,
            14814500,
            13930995700
           ]
          }
         ],
         "name": "2017-07"
        },
        {
         "data": [
          {
           "coloraxis": "coloraxis",
           "geo": "geo",
           "hovertemplate": "Year-Month=2017-08<br>Country=%{location}<br>Volume in USD=%{z}<extra></extra>",
           "locationmode": "country names",
           "locations": [
            "canada",
            "france",
            "germany",
            "japan",
            "netherlands",
            "switzerland",
            "usa"
           ],
           "name": "",
           "type": "choropleth",
           "z": [
            485654000,
            1616000,
            2607300,
            36099900,
            38755600,
            8712200,
            13890260300
           ]
          }
         ],
         "name": "2017-08"
        },
        {
         "data": [
          {
           "coloraxis": "coloraxis",
           "geo": "geo",
           "hovertemplate": "Year-Month=2017-09<br>Country=%{location}<br>Volume in USD=%{z}<extra></extra>",
           "locationmode": "country names",
           "locations": [
            "canada",
            "france",
            "germany",
            "japan",
            "netherlands",
            "switzerland",
            "usa"
           ],
           "name": "",
           "type": "choropleth",
           "z": [
            264063000,
            2383900,
            2489500,
            50944800,
            55938300,
            6240100,
            12719540400
           ]
          }
         ],
         "name": "2017-09"
        },
        {
         "data": [
          {
           "coloraxis": "coloraxis",
           "geo": "geo",
           "hovertemplate": "Year-Month=2017-10<br>Country=%{location}<br>Volume in USD=%{z}<extra></extra>",
           "locationmode": "country names",
           "locations": [
            "canada",
            "france",
            "germany",
            "japan",
            "netherlands",
            "switzerland",
            "usa"
           ],
           "name": "",
           "type": "choropleth",
           "z": [
            1198317000,
            2152400,
            1952400,
            57748300,
            77941500,
            9800100,
            12882754700
           ]
          }
         ],
         "name": "2017-10"
        },
        {
         "data": [
          {
           "coloraxis": "coloraxis",
           "geo": "geo",
           "hovertemplate": "Year-Month=2017-11<br>Country=%{location}<br>Volume in USD=%{z}<extra></extra>",
           "locationmode": "country names",
           "locations": [
            "canada",
            "france",
            "germany",
            "japan",
            "netherlands",
            "switzerland",
            "usa"
           ],
           "name": "",
           "type": "choropleth",
           "z": [
            381076000,
            2011200,
            2868400,
            62452800,
            53678100,
            7689900,
            13429080500
           ]
          }
         ],
         "name": "2017-11"
        },
        {
         "data": [
          {
           "coloraxis": "coloraxis",
           "geo": "geo",
           "hovertemplate": "Year-Month=2017-12<br>Country=%{location}<br>Volume in USD=%{z}<extra></extra>",
           "locationmode": "country names",
           "locations": [
            "canada",
            "france",
            "germany",
            "japan",
            "netherlands",
            "switzerland",
            "usa"
           ],
           "name": "",
           "type": "choropleth",
           "z": [
            223189000,
            2077200,
            2471400,
            45706500,
            39782700,
            6356000,
            11478159200
           ]
          }
         ],
         "name": "2017-12"
        },
        {
         "data": [
          {
           "coloraxis": "coloraxis",
           "geo": "geo",
           "hovertemplate": "Year-Month=2018-01<br>Country=%{location}<br>Volume in USD=%{z}<extra></extra>",
           "locationmode": "country names",
           "locations": [
            "canada",
            "france",
            "germany",
            "japan",
            "netherlands",
            "switzerland",
            "usa"
           ],
           "name": "",
           "type": "choropleth",
           "z": [
            239219000,
            2517100,
            2647300,
            68933600,
            69614700,
            12664400,
            14410773300
           ]
          }
         ],
         "name": "2018-01"
        },
        {
         "data": [
          {
           "coloraxis": "coloraxis",
           "geo": "geo",
           "hovertemplate": "Year-Month=2018-02<br>Country=%{location}<br>Volume in USD=%{z}<extra></extra>",
           "locationmode": "country names",
           "locations": [
            "canada",
            "france",
            "germany",
            "japan",
            "netherlands",
            "switzerland",
            "usa"
           ],
           "name": "",
           "type": "choropleth",
           "z": [
            476349000,
            2693800,
            2710100,
            66037900,
            61671100,
            10587200,
            16977412500
           ]
          }
         ],
         "name": "2018-02"
        },
        {
         "data": [
          {
           "coloraxis": "coloraxis",
           "geo": "geo",
           "hovertemplate": "Year-Month=2018-03<br>Country=%{location}<br>Volume in USD=%{z}<extra></extra>",
           "locationmode": "country names",
           "locations": [
            "canada",
            "france",
            "germany",
            "japan",
            "netherlands",
            "switzerland",
            "usa"
           ],
           "name": "",
           "type": "choropleth",
           "z": [
            385229000,
            5857500,
            2221800,
            50181300,
            52259000,
            8355800,
            17048000900
           ]
          }
         ],
         "name": "2018-03"
        },
        {
         "data": [
          {
           "coloraxis": "coloraxis",
           "geo": "geo",
           "hovertemplate": "Year-Month=2018-04<br>Country=%{location}<br>Volume in USD=%{z}<extra></extra>",
           "locationmode": "country names",
           "locations": [
            "canada",
            "france",
            "germany",
            "japan",
            "netherlands",
            "switzerland",
            "usa"
           ],
           "name": "",
           "type": "choropleth",
           "z": [
            403692000,
            7066800,
            2505000,
            63196500,
            43890600,
            4733600,
            16282449100
           ]
          }
         ],
         "name": "2018-04"
        },
        {
         "data": [
          {
           "coloraxis": "coloraxis",
           "geo": "geo",
           "hovertemplate": "Year-Month=2018-05<br>Country=%{location}<br>Volume in USD=%{z}<extra></extra>",
           "locationmode": "country names",
           "locations": [
            "canada",
            "france",
            "germany",
            "japan",
            "netherlands",
            "switzerland",
            "usa"
           ],
           "name": "",
           "type": "choropleth",
           "z": [
            388510000,
            3414500,
            2188500,
            53331700,
            43858300,
            7579900,
            13694878400
           ]
          }
         ],
         "name": "2018-05"
        },
        {
         "data": [
          {
           "coloraxis": "coloraxis",
           "geo": "geo",
           "hovertemplate": "Year-Month=2018-06<br>Country=%{location}<br>Volume in USD=%{z}<extra></extra>",
           "locationmode": "country names",
           "locations": [
            "canada",
            "france",
            "germany",
            "japan",
            "netherlands",
            "switzerland",
            "usa"
           ],
           "name": "",
           "type": "choropleth",
           "z": [
            317475000,
            3198700,
            3548500,
            75070700,
            35716100,
            5403800,
            15157604200
           ]
          }
         ],
         "name": "2018-06"
        },
        {
         "data": [
          {
           "coloraxis": "coloraxis",
           "geo": "geo",
           "hovertemplate": "Year-Month=2018-07<br>Country=%{location}<br>Volume in USD=%{z}<extra></extra>",
           "locationmode": "country names",
           "locations": [
            "canada",
            "france",
            "germany",
            "japan",
            "netherlands",
            "switzerland",
            "usa"
           ],
           "name": "",
           "type": "choropleth",
           "z": [
            313069000,
            2185500,
            3998100,
            53004000,
            31317700,
            5088600,
            13399161000
           ]
          }
         ],
         "name": "2018-07"
        },
        {
         "data": [
          {
           "coloraxis": "coloraxis",
           "geo": "geo",
           "hovertemplate": "Year-Month=2018-08<br>Country=%{location}<br>Volume in USD=%{z}<extra></extra>",
           "locationmode": "country names",
           "locations": [
            "canada",
            "france",
            "germany",
            "japan",
            "netherlands",
            "switzerland",
            "usa"
           ],
           "name": "",
           "type": "choropleth",
           "z": [
            300366000,
            3410700,
            4147300,
            47389000,
            35275200,
            5151300,
            16964288300
           ]
          }
         ],
         "name": "2018-08"
        },
        {
         "data": [
          {
           "coloraxis": "coloraxis",
           "geo": "geo",
           "hovertemplate": "Year-Month=2018-09<br>Country=%{location}<br>Volume in USD=%{z}<extra></extra>",
           "locationmode": "country names",
           "locations": [
            "canada",
            "france",
            "germany",
            "japan",
            "netherlands",
            "switzerland",
            "usa"
           ],
           "name": "",
           "type": "choropleth",
           "z": [
            269900000,
            4179300,
            3328000,
            43592900,
            27670800,
            4522300,
            15786565800
           ]
          }
         ],
         "name": "2018-09"
        },
        {
         "data": [
          {
           "coloraxis": "coloraxis",
           "geo": "geo",
           "hovertemplate": "Year-Month=2018-10<br>Country=%{location}<br>Volume in USD=%{z}<extra></extra>",
           "locationmode": "country names",
           "locations": [
            "canada",
            "france",
            "germany",
            "japan",
            "netherlands",
            "switzerland",
            "usa"
           ],
           "name": "",
           "type": "choropleth",
           "z": [
            471891000,
            5127800,
            5158900,
            65019700,
            56524700,
            7824100,
            22602771000
           ]
          }
         ],
         "name": "2018-10"
        },
        {
         "data": [
          {
           "coloraxis": "coloraxis",
           "geo": "geo",
           "hovertemplate": "Year-Month=2018-11<br>Country=%{location}<br>Volume in USD=%{z}<extra></extra>",
           "locationmode": "country names",
           "locations": [
            "canada",
            "france",
            "germany",
            "japan",
            "netherlands",
            "switzerland",
            "usa"
           ],
           "name": "",
           "type": "choropleth",
           "z": [
            303594000,
            4625500,
            3537400,
            56962900,
            45975900,
            5481000,
            18526205000
           ]
          }
         ],
         "name": "2018-11"
        },
        {
         "data": [
          {
           "coloraxis": "coloraxis",
           "geo": "geo",
           "hovertemplate": "Year-Month=2018-12<br>Country=%{location}<br>Volume in USD=%{z}<extra></extra>",
           "locationmode": "country names",
           "locations": [
            "canada",
            "france",
            "germany",
            "japan",
            "netherlands",
            "switzerland",
            "usa"
           ],
           "name": "",
           "type": "choropleth",
           "z": [
            417055000,
            9081700,
            4661100,
            72280600,
            49297200,
            5210600,
            18890911100
           ]
          }
         ],
         "name": "2018-12"
        },
        {
         "data": [
          {
           "coloraxis": "coloraxis",
           "geo": "geo",
           "hovertemplate": "Year-Month=2019-01<br>Country=%{location}<br>Volume in USD=%{z}<extra></extra>",
           "locationmode": "country names",
           "locations": [
            "canada",
            "france",
            "germany",
            "japan",
            "netherlands",
            "switzerland",
            "usa"
           ],
           "name": "",
           "type": "choropleth",
           "z": [
            246804000,
            6661200,
            3272300,
            59501500,
            46392700,
            9024100,
            18611806000
           ]
          }
         ],
         "name": "2019-01"
        },
        {
         "data": [
          {
           "coloraxis": "coloraxis",
           "geo": "geo",
           "hovertemplate": "Year-Month=2019-02<br>Country=%{location}<br>Volume in USD=%{z}<extra></extra>",
           "locationmode": "country names",
           "locations": [
            "canada",
            "france",
            "germany",
            "japan",
            "netherlands",
            "switzerland",
            "usa"
           ],
           "name": "",
           "type": "choropleth",
           "z": [
            300772000,
            6075500,
            2572200,
            79253200,
            35064100,
            3213000,
            12664751300
           ]
          }
         ],
         "name": "2019-02"
        },
        {
         "data": [
          {
           "coloraxis": "coloraxis",
           "geo": "geo",
           "hovertemplate": "Year-Month=2019-03<br>Country=%{location}<br>Volume in USD=%{z}<extra></extra>",
           "locationmode": "country names",
           "locations": [
            "canada",
            "france",
            "germany",
            "japan",
            "netherlands",
            "switzerland",
            "usa"
           ],
           "name": "",
           "type": "choropleth",
           "z": [
            280654000,
            5224000,
            1916100,
            50886500,
            37075500,
            4007100,
            16015006400
           ]
          }
         ],
         "name": "2019-03"
        },
        {
         "data": [
          {
           "coloraxis": "coloraxis",
           "geo": "geo",
           "hovertemplate": "Year-Month=2019-04<br>Country=%{location}<br>Volume in USD=%{z}<extra></extra>",
           "locationmode": "country names",
           "locations": [
            "canada",
            "france",
            "germany",
            "japan",
            "netherlands",
            "switzerland",
            "usa"
           ],
           "name": "",
           "type": "choropleth",
           "z": [
            396625000,
            3928700,
            2148100,
            72643400,
            31200300,
            3893100,
            14156277200
           ]
          }
         ],
         "name": "2019-04"
        },
        {
         "data": [
          {
           "coloraxis": "coloraxis",
           "geo": "geo",
           "hovertemplate": "Year-Month=2019-05<br>Country=%{location}<br>Volume in USD=%{z}<extra></extra>",
           "locationmode": "country names",
           "locations": [
            "canada",
            "france",
            "germany",
            "japan",
            "netherlands",
            "switzerland",
            "usa"
           ],
           "name": "",
           "type": "choropleth",
           "z": [
            445621000,
            20406400,
            2668100,
            61088600,
            30142400,
            4907400,
            17883760000
           ]
          }
         ],
         "name": "2019-05"
        },
        {
         "data": [
          {
           "coloraxis": "coloraxis",
           "geo": "geo",
           "hovertemplate": "Year-Month=2019-06<br>Country=%{location}<br>Volume in USD=%{z}<extra></extra>",
           "locationmode": "country names",
           "locations": [
            "canada",
            "france",
            "germany",
            "japan",
            "netherlands",
            "switzerland",
            "usa"
           ],
           "name": "",
           "type": "choropleth",
           "z": [
            393012000,
            3728900,
            2727500,
            44952700,
            24924200,
            3697300,
            14511179500
           ]
          }
         ],
         "name": "2019-06"
        },
        {
         "data": [
          {
           "coloraxis": "coloraxis",
           "geo": "geo",
           "hovertemplate": "Year-Month=2019-07<br>Country=%{location}<br>Volume in USD=%{z}<extra></extra>",
           "locationmode": "country names",
           "locations": [
            "canada",
            "france",
            "germany",
            "japan",
            "netherlands",
            "switzerland",
            "usa"
           ],
           "name": "",
           "type": "choropleth",
           "z": [
            377178000,
            3298500,
            2801300,
            54960100,
            28115600,
            4478400,
            13230688200
           ]
          }
         ],
         "name": "2019-07"
        },
        {
         "data": [
          {
           "coloraxis": "coloraxis",
           "geo": "geo",
           "hovertemplate": "Year-Month=2019-08<br>Country=%{location}<br>Volume in USD=%{z}<extra></extra>",
           "locationmode": "country names",
           "locations": [
            "canada",
            "france",
            "germany",
            "japan",
            "netherlands",
            "switzerland",
            "usa"
           ],
           "name": "",
           "type": "choropleth",
           "z": [
            492425000,
            3841900,
            4404500,
            45593300,
            28035300,
            3447300,
            14607532100
           ]
          }
         ],
         "name": "2019-08"
        },
        {
         "data": [
          {
           "coloraxis": "coloraxis",
           "geo": "geo",
           "hovertemplate": "Year-Month=2019-09<br>Country=%{location}<br>Volume in USD=%{z}<extra></extra>",
           "locationmode": "country names",
           "locations": [
            "canada",
            "france",
            "germany",
            "japan",
            "netherlands",
            "switzerland",
            "usa"
           ],
           "name": "",
           "type": "choropleth",
           "z": [
            620265000,
            3561500,
            2317600,
            49742900,
            25497200,
            2749000,
            11912153500
           ]
          }
         ],
         "name": "2019-09"
        },
        {
         "data": [
          {
           "coloraxis": "coloraxis",
           "geo": "geo",
           "hovertemplate": "Year-Month=2019-10<br>Country=%{location}<br>Volume in USD=%{z}<extra></extra>",
           "locationmode": "country names",
           "locations": [
            "canada",
            "france",
            "germany",
            "japan",
            "netherlands",
            "switzerland",
            "usa"
           ],
           "name": "",
           "type": "choropleth",
           "z": [
            550029000,
            6794000,
            3950400,
            60169100,
            37313700,
            4712400,
            14576609700
           ]
          }
         ],
         "name": "2019-10"
        },
        {
         "data": [
          {
           "coloraxis": "coloraxis",
           "geo": "geo",
           "hovertemplate": "Year-Month=2019-11<br>Country=%{location}<br>Volume in USD=%{z}<extra></extra>",
           "locationmode": "country names",
           "locations": [
            "canada",
            "france",
            "germany",
            "japan",
            "netherlands",
            "switzerland",
            "usa"
           ],
           "name": "",
           "type": "choropleth",
           "z": [
            368112000,
            22359700,
            2557600,
            72087800,
            21057900,
            2366200,
            12630889500
           ]
          }
         ],
         "name": "2019-11"
        },
        {
         "data": [
          {
           "coloraxis": "coloraxis",
           "geo": "geo",
           "hovertemplate": "Year-Month=2019-12<br>Country=%{location}<br>Volume in USD=%{z}<extra></extra>",
           "locationmode": "country names",
           "locations": [
            "canada",
            "france",
            "germany",
            "japan",
            "netherlands",
            "switzerland",
            "usa"
           ],
           "name": "",
           "type": "choropleth",
           "z": [
            520875000,
            10711000,
            1812100,
            39428100,
            31012400,
            2253000,
            13750196800
           ]
          }
         ],
         "name": "2019-12"
        },
        {
         "data": [
          {
           "coloraxis": "coloraxis",
           "geo": "geo",
           "hovertemplate": "Year-Month=2020-01<br>Country=%{location}<br>Volume in USD=%{z}<extra></extra>",
           "locationmode": "country names",
           "locations": [
            "canada",
            "france",
            "germany",
            "japan",
            "netherlands",
            "switzerland",
            "usa"
           ],
           "name": "",
           "type": "choropleth",
           "z": [
            376433000,
            5336400,
            1959700,
            41198100,
            39109500,
            4691500,
            18501124500
           ]
          }
         ],
         "name": "2020-01"
        },
        {
         "data": [
          {
           "coloraxis": "coloraxis",
           "geo": "geo",
           "hovertemplate": "Year-Month=2020-02<br>Country=%{location}<br>Volume in USD=%{z}<extra></extra>",
           "locationmode": "country names",
           "locations": [
            "canada",
            "france",
            "germany",
            "japan",
            "netherlands",
            "switzerland",
            "usa"
           ],
           "name": "",
           "type": "choropleth",
           "z": [
            547234000,
            5396100,
            3822000,
            53874000,
            33194200,
            4676600,
            21511236200
           ]
          }
         ],
         "name": "2020-02"
        },
        {
         "data": [
          {
           "coloraxis": "coloraxis",
           "geo": "geo",
           "hovertemplate": "Year-Month=2020-03<br>Country=%{location}<br>Volume in USD=%{z}<extra></extra>",
           "locationmode": "country names",
           "locations": [
            "canada",
            "france",
            "germany",
            "japan",
            "netherlands",
            "switzerland",
            "usa"
           ],
           "name": "",
           "type": "choropleth",
           "z": [
            702948000,
            9244500,
            15257200,
            90023500,
            98047700,
            11216900,
            34087938300
           ]
          }
         ],
         "name": "2020-03"
        },
        {
         "data": [
          {
           "coloraxis": "coloraxis",
           "geo": "geo",
           "hovertemplate": "Year-Month=2020-04<br>Country=%{location}<br>Volume in USD=%{z}<extra></extra>",
           "locationmode": "country names",
           "locations": [
            "canada",
            "france",
            "germany",
            "japan",
            "netherlands",
            "switzerland",
            "usa"
           ],
           "name": "",
           "type": "choropleth",
           "z": [
            870616000,
            5757200,
            7807700,
            78752700,
            58087500,
            5664600,
            25132492800
           ]
          }
         ],
         "name": "2020-04"
        },
        {
         "data": [
          {
           "coloraxis": "coloraxis",
           "geo": "geo",
           "hovertemplate": "Year-Month=2020-05<br>Country=%{location}<br>Volume in USD=%{z}<extra></extra>",
           "locationmode": "country names",
           "locations": [
            "canada",
            "france",
            "germany",
            "japan",
            "netherlands",
            "switzerland",
            "usa"
           ],
           "name": "",
           "type": "choropleth",
           "z": [
            831037000,
            4750600,
            3759000,
            60836900,
            51034100,
            17554300,
            20359775400
           ]
          }
         ],
         "name": "2020-05"
        },
        {
         "data": [
          {
           "coloraxis": "coloraxis",
           "geo": "geo",
           "hovertemplate": "Year-Month=2020-06<br>Country=%{location}<br>Volume in USD=%{z}<extra></extra>",
           "locationmode": "country names",
           "locations": [
            "canada",
            "france",
            "germany",
            "japan",
            "netherlands",
            "switzerland",
            "usa"
           ],
           "name": "",
           "type": "choropleth",
           "z": [
            554784000,
            4387400,
            2538200,
            72263000,
            45036800,
            10663600,
            21088387600
           ]
          }
         ],
         "name": "2020-06"
        },
        {
         "data": [
          {
           "coloraxis": "coloraxis",
           "geo": "geo",
           "hovertemplate": "Year-Month=2020-07<br>Country=%{location}<br>Volume in USD=%{z}<extra></extra>",
           "locationmode": "country names",
           "locations": [
            "canada",
            "france",
            "germany",
            "japan",
            "netherlands",
            "switzerland",
            "usa"
           ],
           "name": "",
           "type": "choropleth",
           "z": [
            670953000,
            5002600,
            1657300,
            37106300,
            33437300,
            12712100,
            21298382500
           ]
          }
         ],
         "name": "2020-07"
        },
        {
         "data": [
          {
           "coloraxis": "coloraxis",
           "geo": "geo",
           "hovertemplate": "Year-Month=2020-08<br>Country=%{location}<br>Volume in USD=%{z}<extra></extra>",
           "locationmode": "country names",
           "locations": [
            "canada",
            "france",
            "germany",
            "japan",
            "netherlands",
            "switzerland",
            "usa"
           ],
           "name": "",
           "type": "choropleth",
           "z": [
            348649000,
            2819200,
            1670200,
            85078400,
            25531800,
            8807700,
            19700945100
           ]
          }
         ],
         "name": "2020-08"
        },
        {
         "data": [
          {
           "coloraxis": "coloraxis",
           "geo": "geo",
           "hovertemplate": "Year-Month=2020-09<br>Country=%{location}<br>Volume in USD=%{z}<extra></extra>",
           "locationmode": "country names",
           "locations": [
            "canada",
            "france",
            "germany",
            "japan",
            "netherlands",
            "switzerland",
            "usa"
           ],
           "name": "",
           "type": "choropleth",
           "z": [
            488876000,
            4441800,
            1880500,
            98047600,
            30616100,
            14617000,
            22695168600
           ]
          }
         ],
         "name": "2020-09"
        },
        {
         "data": [
          {
           "coloraxis": "coloraxis",
           "geo": "geo",
           "hovertemplate": "Year-Month=2020-10<br>Country=%{location}<br>Volume in USD=%{z}<extra></extra>",
           "locationmode": "country names",
           "locations": [
            "canada",
            "france",
            "germany",
            "japan",
            "netherlands",
            "switzerland",
            "usa"
           ],
           "name": "",
           "type": "choropleth",
           "z": [
            311212000,
            4519200,
            2340200,
            44887000,
            39693600,
            21995800,
            16872692000
           ]
          }
         ],
         "name": "2020-10"
        },
        {
         "data": [
          {
           "coloraxis": "coloraxis",
           "geo": "geo",
           "hovertemplate": "Year-Month=2020-11<br>Country=%{location}<br>Volume in USD=%{z}<extra></extra>",
           "locationmode": "country names",
           "locations": [
            "canada",
            "france",
            "germany",
            "japan",
            "netherlands",
            "switzerland",
            "usa"
           ],
           "name": "",
           "type": "choropleth",
           "z": [
            316236000,
            4476800,
            1462400,
            104593400,
            40778000,
            21599200,
            15185329500
           ]
          }
         ],
         "name": "2020-11"
        },
        {
         "data": [
          {
           "coloraxis": "coloraxis",
           "geo": "geo",
           "hovertemplate": "Year-Month=2020-12<br>Country=%{location}<br>Volume in USD=%{z}<extra></extra>",
           "locationmode": "country names",
           "locations": [
            "canada",
            "france",
            "germany",
            "japan",
            "netherlands",
            "switzerland",
            "usa"
           ],
           "name": "",
           "type": "choropleth",
           "z": [
            309581000,
            4342900,
            9890600,
            60080500,
            52582600,
            12324200,
            15467765500
           ]
          }
         ],
         "name": "2020-12"
        },
        {
         "data": [
          {
           "coloraxis": "coloraxis",
           "geo": "geo",
           "hovertemplate": "Year-Month=2021-01<br>Country=%{location}<br>Volume in USD=%{z}<extra></extra>",
           "locationmode": "country names",
           "locations": [
            "canada",
            "france",
            "germany",
            "japan",
            "netherlands",
            "switzerland",
            "usa"
           ],
           "name": "",
           "type": "choropleth",
           "z": [
            201363000,
            4630300,
            15359800,
            66184800,
            42290400,
            21094000,
            14130196100
           ]
          }
         ],
         "name": "2021-01"
        },
        {
         "data": [
          {
           "coloraxis": "coloraxis",
           "geo": "geo",
           "hovertemplate": "Year-Month=2021-02<br>Country=%{location}<br>Volume in USD=%{z}<extra></extra>",
           "locationmode": "country names",
           "locations": [
            "canada",
            "france",
            "germany",
            "japan",
            "netherlands",
            "switzerland",
            "usa"
           ],
           "name": "",
           "type": "choropleth",
           "z": [
            308102000,
            6515200,
            10519800,
            81184200,
            65390900,
            14822500,
            12226162600
           ]
          }
         ],
         "name": "2021-02"
        },
        {
         "data": [
          {
           "coloraxis": "coloraxis",
           "geo": "geo",
           "hovertemplate": "Year-Month=2021-03<br>Country=%{location}<br>Volume in USD=%{z}<extra></extra>",
           "locationmode": "country names",
           "locations": [
            "canada",
            "france",
            "germany",
            "japan",
            "netherlands",
            "switzerland",
            "usa"
           ],
           "name": "",
           "type": "choropleth",
           "z": [
            354918000,
            4547200,
            44353000,
            94463400,
            66469300,
            22815700,
            16871532900
           ]
          }
         ],
         "name": "2021-03"
        },
        {
         "data": [
          {
           "coloraxis": "coloraxis",
           "geo": "geo",
           "hovertemplate": "Year-Month=2021-04<br>Country=%{location}<br>Volume in USD=%{z}<extra></extra>",
           "locationmode": "country names",
           "locations": [
            "canada",
            "france",
            "germany",
            "japan",
            "netherlands",
            "switzerland",
            "usa"
           ],
           "name": "",
           "type": "choropleth",
           "z": [
            258271000,
            3415600,
            19689100,
            60865000,
            53641700,
            14624400,
            13315603300
           ]
          }
         ],
         "name": "2021-04"
        },
        {
         "data": [
          {
           "coloraxis": "coloraxis",
           "geo": "geo",
           "hovertemplate": "Year-Month=2021-05<br>Country=%{location}<br>Volume in USD=%{z}<extra></extra>",
           "locationmode": "country names",
           "locations": [
            "canada",
            "france",
            "germany",
            "japan",
            "netherlands",
            "switzerland",
            "usa"
           ],
           "name": "",
           "type": "choropleth",
           "z": [
            299450000,
            4782800,
            15438800,
            88812900,
            48366300,
            17182000,
            13490555100
           ]
          }
         ],
         "name": "2021-05"
        },
        {
         "data": [
          {
           "coloraxis": "coloraxis",
           "geo": "geo",
           "hovertemplate": "Year-Month=2021-06<br>Country=%{location}<br>Volume in USD=%{z}<extra></extra>",
           "locationmode": "country names",
           "locations": [
            "canada",
            "france",
            "germany",
            "japan",
            "netherlands",
            "switzerland",
            "usa"
           ],
           "name": "",
           "type": "choropleth",
           "z": [
            318992000,
            4131500,
            18636600,
            52929500,
            40453800,
            18356900,
            12602163200
           ]
          }
         ],
         "name": "2021-06"
        },
        {
         "data": [
          {
           "coloraxis": "coloraxis",
           "geo": "geo",
           "hovertemplate": "Year-Month=2021-07<br>Country=%{location}<br>Volume in USD=%{z}<extra></extra>",
           "locationmode": "country names",
           "locations": [
            "canada",
            "france",
            "germany",
            "japan",
            "netherlands",
            "switzerland",
            "usa"
           ],
           "name": "",
           "type": "choropleth",
           "z": [
            297735000,
            9042800,
            16747700,
            70896000,
            67256400,
            19837800,
            12651608700
           ]
          }
         ],
         "name": "2021-07"
        },
        {
         "data": [
          {
           "coloraxis": "coloraxis",
           "geo": "geo",
           "hovertemplate": "Year-Month=2021-08<br>Country=%{location}<br>Volume in USD=%{z}<extra></extra>",
           "locationmode": "country names",
           "locations": [
            "canada",
            "france",
            "germany",
            "japan",
            "netherlands",
            "switzerland",
            "usa"
           ],
           "name": "",
           "type": "choropleth",
           "z": [
            201685000,
            6345400,
            14748300,
            80087000,
            55877600,
            15779300,
            12399031400
           ]
          }
         ],
         "name": "2021-08"
        },
        {
         "data": [
          {
           "coloraxis": "coloraxis",
           "geo": "geo",
           "hovertemplate": "Year-Month=2021-09<br>Country=%{location}<br>Volume in USD=%{z}<extra></extra>",
           "locationmode": "country names",
           "locations": [
            "canada",
            "france",
            "germany",
            "japan",
            "netherlands",
            "switzerland",
            "usa"
           ],
           "name": "",
           "type": "choropleth",
           "z": [
            166559000,
            8061200,
            7907900,
            79523700,
            63229800,
            17775400,
            11806883600
           ]
          }
         ],
         "name": "2021-09"
        },
        {
         "data": [
          {
           "coloraxis": "coloraxis",
           "geo": "geo",
           "hovertemplate": "Year-Month=2021-10<br>Country=%{location}<br>Volume in USD=%{z}<extra></extra>",
           "locationmode": "country names",
           "locations": [
            "canada",
            "france",
            "germany",
            "japan",
            "netherlands",
            "switzerland",
            "usa"
           ],
           "name": "",
           "type": "choropleth",
           "z": [
            217684000,
            6231100,
            8540000,
            67296100,
            58620800,
            20233300,
            11916561500
           ]
          }
         ],
         "name": "2021-10"
        },
        {
         "data": [
          {
           "coloraxis": "coloraxis",
           "geo": "geo",
           "hovertemplate": "Year-Month=2021-11<br>Country=%{location}<br>Volume in USD=%{z}<extra></extra>",
           "locationmode": "country names",
           "locations": [
            "canada",
            "france",
            "germany",
            "japan",
            "netherlands",
            "switzerland",
            "usa"
           ],
           "name": "",
           "type": "choropleth",
           "z": [
            225941000,
            7640000,
            13680900,
            66176300,
            75019300,
            17553300,
            15394293500
           ]
          }
         ],
         "name": "2021-11"
        },
        {
         "data": [
          {
           "coloraxis": "coloraxis",
           "geo": "geo",
           "hovertemplate": "Year-Month=2021-12<br>Country=%{location}<br>Volume in USD=%{z}<extra></extra>",
           "locationmode": "country names",
           "locations": [
            "canada",
            "france",
            "germany",
            "japan",
            "netherlands",
            "switzerland",
            "usa"
           ],
           "name": "",
           "type": "choropleth",
           "z": [
            229470000,
            10176200,
            23992300,
            66250000,
            99076300,
            13989800,
            15294912700
           ]
          }
         ],
         "name": "2021-12"
        },
        {
         "data": [
          {
           "coloraxis": "coloraxis",
           "geo": "geo",
           "hovertemplate": "Year-Month=2022-01<br>Country=%{location}<br>Volume in USD=%{z}<extra></extra>",
           "locationmode": "country names",
           "locations": [
            "canada",
            "france",
            "germany",
            "japan",
            "netherlands",
            "switzerland",
            "usa"
           ],
           "name": "",
           "type": "choropleth",
           "z": [
            518355000,
            7988800,
            15129100,
            81700400,
            207850900,
            26103200,
            17190988200
           ]
          }
         ],
         "name": "2022-01"
        },
        {
         "data": [
          {
           "coloraxis": "coloraxis",
           "geo": "geo",
           "hovertemplate": "Year-Month=2022-02<br>Country=%{location}<br>Volume in USD=%{z}<extra></extra>",
           "locationmode": "country names",
           "locations": [
            "canada",
            "france",
            "germany",
            "japan",
            "netherlands",
            "switzerland",
            "usa"
           ],
           "name": "",
           "type": "choropleth",
           "z": [
            558404000,
            5015300,
            12009500,
            58939200,
            88784500,
            13580200,
            17037076000
           ]
          }
         ],
         "name": "2022-02"
        },
        {
         "data": [
          {
           "coloraxis": "coloraxis",
           "geo": "geo",
           "hovertemplate": "Year-Month=2022-03<br>Country=%{location}<br>Volume in USD=%{z}<extra></extra>",
           "locationmode": "country names",
           "locations": [
            "canada",
            "france",
            "germany",
            "japan",
            "netherlands",
            "switzerland",
            "usa"
           ],
           "name": "",
           "type": "choropleth",
           "z": [
            718515000,
            14448500,
            20869700,
            75665500,
            154105100,
            19674300,
            18335718900
           ]
          }
         ],
         "name": "2022-03"
        },
        {
         "data": [
          {
           "coloraxis": "coloraxis",
           "geo": "geo",
           "hovertemplate": "Year-Month=2022-04<br>Country=%{location}<br>Volume in USD=%{z}<extra></extra>",
           "locationmode": "country names",
           "locations": [
            "canada",
            "france",
            "germany",
            "japan",
            "netherlands",
            "switzerland",
            "usa"
           ],
           "name": "",
           "type": "choropleth",
           "z": [
            695537000,
            6975800,
            9131800,
            56697700,
            119983800,
            23092200,
            15049612300
           ]
          }
         ],
         "name": "2022-04"
        },
        {
         "data": [
          {
           "coloraxis": "coloraxis",
           "geo": "geo",
           "hovertemplate": "Year-Month=2022-05<br>Country=%{location}<br>Volume in USD=%{z}<extra></extra>",
           "locationmode": "country names",
           "locations": [
            "canada",
            "france",
            "germany",
            "japan",
            "netherlands",
            "switzerland",
            "usa"
           ],
           "name": "",
           "type": "choropleth",
           "z": [
            1173282000,
            9470600,
            11421100,
            80725000,
            148487200,
            26226800,
            21454493400
           ]
          }
         ],
         "name": "2022-05"
        },
        {
         "data": [
          {
           "coloraxis": "coloraxis",
           "geo": "geo",
           "hovertemplate": "Year-Month=2022-06<br>Country=%{location}<br>Volume in USD=%{z}<extra></extra>",
           "locationmode": "country names",
           "locations": [
            "canada",
            "france",
            "germany",
            "japan",
            "netherlands",
            "switzerland",
            "usa"
           ],
           "name": "",
           "type": "choropleth",
           "z": [
            844417000,
            6009900,
            11371500,
            62105200,
            111895900,
            16189600,
            17327557300
           ]
          }
         ],
         "name": "2022-06"
        },
        {
         "data": [
          {
           "coloraxis": "coloraxis",
           "geo": "geo",
           "hovertemplate": "Year-Month=2022-07<br>Country=%{location}<br>Volume in USD=%{z}<extra></extra>",
           "locationmode": "country names",
           "locations": [
            "canada",
            "france",
            "germany",
            "japan",
            "netherlands",
            "switzerland",
            "usa"
           ],
           "name": "",
           "type": "choropleth",
           "z": [
            633394000,
            6468200,
            11539200,
            49397000,
            87828100,
            18971300,
            14453420500
           ]
          }
         ],
         "name": "2022-07"
        },
        {
         "data": [
          {
           "coloraxis": "coloraxis",
           "geo": "geo",
           "hovertemplate": "Year-Month=2022-08<br>Country=%{location}<br>Volume in USD=%{z}<extra></extra>",
           "locationmode": "country names",
           "locations": [
            "canada",
            "france",
            "germany",
            "japan",
            "netherlands",
            "switzerland",
            "usa"
           ],
           "name": "",
           "type": "choropleth",
           "z": [
            684569100,
            4861700,
            14118200,
            56816300,
            95769600,
            13824500,
            15352328200
           ]
          }
         ],
         "name": "2022-08"
        },
        {
         "data": [
          {
           "coloraxis": "coloraxis",
           "geo": "geo",
           "hovertemplate": "Year-Month=2022-09<br>Country=%{location}<br>Volume in USD=%{z}<extra></extra>",
           "locationmode": "country names",
           "locations": [
            "canada",
            "france",
            "germany",
            "japan",
            "netherlands",
            "switzerland",
            "usa"
           ],
           "name": "",
           "type": "choropleth",
           "z": [
            583389400,
            7315600,
            26520800,
            69813400,
            121756800,
            13696800,
            15467857900
           ]
          }
         ],
         "name": "2022-09"
        },
        {
         "data": [
          {
           "coloraxis": "coloraxis",
           "geo": "geo",
           "hovertemplate": "Year-Month=2022-10<br>Country=%{location}<br>Volume in USD=%{z}<extra></extra>",
           "locationmode": "country names",
           "locations": [
            "canada",
            "france",
            "germany",
            "japan",
            "netherlands",
            "switzerland",
            "usa"
           ],
           "name": "",
           "type": "choropleth",
           "z": [
            681504200,
            7944700,
            19915900,
            56785100,
            143663700,
            18926100,
            16123595800
           ]
          }
         ],
         "name": "2022-10"
        },
        {
         "data": [
          {
           "coloraxis": "coloraxis",
           "geo": "geo",
           "hovertemplate": "Year-Month=2022-11<br>Country=%{location}<br>Volume in USD=%{z}<extra></extra>",
           "locationmode": "country names",
           "locations": [
            "canada",
            "france",
            "germany",
            "japan",
            "netherlands",
            "switzerland",
            "usa"
           ],
           "name": "",
           "type": "choropleth",
           "z": [
            494581400,
            6295500,
            13205700,
            48256300,
            106990500,
            12803400,
            16244591100
           ]
          }
         ],
         "name": "2022-11"
        },
        {
         "data": [
          {
           "coloraxis": "coloraxis",
           "geo": "geo",
           "hovertemplate": "Year-Month=2022-12<br>Country=%{location}<br>Volume in USD=%{z}<extra></extra>",
           "locationmode": "country names",
           "locations": [
            "canada",
            "france",
            "germany",
            "japan",
            "netherlands",
            "switzerland",
            "usa"
           ],
           "name": "",
           "type": "choropleth",
           "z": [
            408781100,
            6017400,
            14953100,
            48885700,
            123240400,
            10887700,
            14958048000
           ]
          }
         ],
         "name": "2022-12"
        },
        {
         "data": [
          {
           "coloraxis": "coloraxis",
           "geo": "geo",
           "hovertemplate": "Year-Month=2023-01<br>Country=%{location}<br>Volume in USD=%{z}<extra></extra>",
           "locationmode": "country names",
           "locations": [
            "canada",
            "france",
            "germany",
            "japan",
            "netherlands",
            "switzerland",
            "usa"
           ],
           "name": "",
           "type": "choropleth",
           "z": [
            441616900,
            7345500,
            9437300,
            47900300,
            92963200,
            20881600,
            15768893100
           ]
          }
         ],
         "name": "2023-01"
        },
        {
         "data": [
          {
           "coloraxis": "coloraxis",
           "geo": "geo",
           "hovertemplate": "Year-Month=2023-02<br>Country=%{location}<br>Volume in USD=%{z}<extra></extra>",
           "locationmode": "country names",
           "locations": [
            "canada",
            "france",
            "germany",
            "japan",
            "netherlands",
            "switzerland",
            "usa"
           ],
           "name": "",
           "type": "choropleth",
           "z": [
            431160400,
            5015700,
            8817100,
            47685400,
            67410700,
            10449000,
            15817610400
           ]
          }
         ],
         "name": "2023-02"
        },
        {
         "data": [
          {
           "coloraxis": "coloraxis",
           "geo": "geo",
           "hovertemplate": "Year-Month=2023-03<br>Country=%{location}<br>Volume in USD=%{z}<extra></extra>",
           "locationmode": "country names",
           "locations": [
            "canada",
            "france",
            "germany",
            "japan",
            "netherlands",
            "switzerland",
            "usa"
           ],
           "name": "",
           "type": "choropleth",
           "z": [
            354809000,
            5889100,
            11846900,
            49407100,
            89777800,
            12705400,
            17334965700
           ]
          }
         ],
         "name": "2023-03"
        },
        {
         "data": [
          {
           "coloraxis": "coloraxis",
           "geo": "geo",
           "hovertemplate": "Year-Month=2023-04<br>Country=%{location}<br>Volume in USD=%{z}<extra></extra>",
           "locationmode": "country names",
           "locations": [
            "canada",
            "france",
            "germany",
            "japan",
            "netherlands",
            "switzerland",
            "usa"
           ],
           "name": "",
           "type": "choropleth",
           "z": [
            233537400,
            4789000,
            6221300,
            45793000,
            69214400,
            8735100,
            12180102900
           ]
          }
         ],
         "name": "2023-04"
        },
        {
         "data": [
          {
           "coloraxis": "coloraxis",
           "geo": "geo",
           "hovertemplate": "Year-Month=2023-05<br>Country=%{location}<br>Volume in USD=%{z}<extra></extra>",
           "locationmode": "country names",
           "locations": [
            "canada",
            "france",
            "germany",
            "japan",
            "netherlands",
            "switzerland",
            "usa"
           ],
           "name": "",
           "type": "choropleth",
           "z": [
            435861000,
            3830000,
            7061000,
            69222000,
            63422300,
            11081000,
            16008363300
           ]
          }
         ],
         "name": "2023-05"
        },
        {
         "data": [
          {
           "coloraxis": "coloraxis",
           "geo": "geo",
           "hovertemplate": "Year-Month=2023-06<br>Country=%{location}<br>Volume in USD=%{z}<extra></extra>",
           "locationmode": "country names",
           "locations": [
            "canada",
            "france",
            "germany",
            "japan",
            "netherlands",
            "switzerland",
            "usa"
           ],
           "name": "",
           "type": "choropleth",
           "z": [
            292605200,
            3482000,
            7014700,
            60279800,
            65261300,
            16124800,
            15898966600
           ]
          }
         ],
         "name": "2023-06"
        },
        {
         "data": [
          {
           "coloraxis": "coloraxis",
           "geo": "geo",
           "hovertemplate": "Year-Month=2023-07<br>Country=%{location}<br>Volume in USD=%{z}<extra></extra>",
           "locationmode": "country names",
           "locations": [
            "canada",
            "france",
            "germany",
            "japan",
            "netherlands",
            "switzerland",
            "usa"
           ],
           "name": "",
           "type": "choropleth",
           "z": [
            217290100,
            3641600,
            5966800,
            41397000,
            60444500,
            15501100,
            13240596400
           ]
          }
         ],
         "name": "2023-07"
        },
        {
         "data": [
          {
           "coloraxis": "coloraxis",
           "geo": "geo",
           "hovertemplate": "Year-Month=2023-08<br>Country=%{location}<br>Volume in USD=%{z}<extra></extra>",
           "locationmode": "country names",
           "locations": [
            "canada",
            "france",
            "germany",
            "japan",
            "netherlands",
            "switzerland",
            "usa"
           ],
           "name": "",
           "type": "choropleth",
           "z": [
            293632100,
            4027700,
            10166200,
            46244700,
            58235400,
            9596800,
            15607670500
           ]
          }
         ],
         "name": "2023-08"
        },
        {
         "data": [
          {
           "coloraxis": "coloraxis",
           "geo": "geo",
           "hovertemplate": "Year-Month=2023-09<br>Country=%{location}<br>Volume in USD=%{z}<extra></extra>",
           "locationmode": "country names",
           "locations": [
            "canada",
            "france",
            "germany",
            "japan",
            "netherlands",
            "switzerland",
            "usa"
           ],
           "name": "",
           "type": "choropleth",
           "z": [
            137018831,
            3475157,
            6609967,
            34597093,
            40924299,
            7024960,
            10046995885
           ]
          }
         ],
         "name": "2023-09"
        }
       ],
       "layout": {
        "coloraxis": {
         "cmax": 76494381784,
         "cmin": 0,
         "colorbar": {
          "title": {
           "text": "Volume in USD"
          }
         },
         "colorscale": [
          [
           0,
           "#440154"
          ],
          [
           0.1111111111111111,
           "#482878"
          ],
          [
           0.2222222222222222,
           "#3e4989"
          ],
          [
           0.3333333333333333,
           "#31688e"
          ],
          [
           0.4444444444444444,
           "#26828e"
          ],
          [
           0.5555555555555556,
           "#1f9e89"
          ],
          [
           0.6666666666666666,
           "#35b779"
          ],
          [
           0.7777777777777778,
           "#6ece58"
          ],
          [
           0.8888888888888888,
           "#b5de2b"
          ],
          [
           1,
           "#fde725"
          ]
         ]
        },
        "geo": {
         "center": {},
         "domain": {
          "x": [
           0,
           1
          ],
          "y": [
           0,
           1
          ]
         }
        },
        "height": 600,
        "legend": {
         "tracegroupgap": 0
        },
        "sliders": [
         {
          "active": 0,
          "currentvalue": {
           "prefix": "Year-Month="
          },
          "len": 0.9,
          "pad": {
           "b": 10,
           "t": 60
          },
          "steps": [
           {
            "args": [
             [
              "2000-01"
             ],
             {
              "frame": {
               "duration": 0,
               "redraw": true
              },
              "fromcurrent": true,
              "mode": "immediate",
              "transition": {
               "duration": 0,
               "easing": "linear"
              }
             }
            ],
            "label": "2000-01",
            "method": "animate"
           },
           {
            "args": [
             [
              "2000-02"
             ],
             {
              "frame": {
               "duration": 0,
               "redraw": true
              },
              "fromcurrent": true,
              "mode": "immediate",
              "transition": {
               "duration": 0,
               "easing": "linear"
              }
             }
            ],
            "label": "2000-02",
            "method": "animate"
           },
           {
            "args": [
             [
              "2000-03"
             ],
             {
              "frame": {
               "duration": 0,
               "redraw": true
              },
              "fromcurrent": true,
              "mode": "immediate",
              "transition": {
               "duration": 0,
               "easing": "linear"
              }
             }
            ],
            "label": "2000-03",
            "method": "animate"
           },
           {
            "args": [
             [
              "2000-04"
             ],
             {
              "frame": {
               "duration": 0,
               "redraw": true
              },
              "fromcurrent": true,
              "mode": "immediate",
              "transition": {
               "duration": 0,
               "easing": "linear"
              }
             }
            ],
            "label": "2000-04",
            "method": "animate"
           },
           {
            "args": [
             [
              "2000-05"
             ],
             {
              "frame": {
               "duration": 0,
               "redraw": true
              },
              "fromcurrent": true,
              "mode": "immediate",
              "transition": {
               "duration": 0,
               "easing": "linear"
              }
             }
            ],
            "label": "2000-05",
            "method": "animate"
           },
           {
            "args": [
             [
              "2000-06"
             ],
             {
              "frame": {
               "duration": 0,
               "redraw": true
              },
              "fromcurrent": true,
              "mode": "immediate",
              "transition": {
               "duration": 0,
               "easing": "linear"
              }
             }
            ],
            "label": "2000-06",
            "method": "animate"
           },
           {
            "args": [
             [
              "2000-07"
             ],
             {
              "frame": {
               "duration": 0,
               "redraw": true
              },
              "fromcurrent": true,
              "mode": "immediate",
              "transition": {
               "duration": 0,
               "easing": "linear"
              }
             }
            ],
            "label": "2000-07",
            "method": "animate"
           },
           {
            "args": [
             [
              "2000-08"
             ],
             {
              "frame": {
               "duration": 0,
               "redraw": true
              },
              "fromcurrent": true,
              "mode": "immediate",
              "transition": {
               "duration": 0,
               "easing": "linear"
              }
             }
            ],
            "label": "2000-08",
            "method": "animate"
           },
           {
            "args": [
             [
              "2000-09"
             ],
             {
              "frame": {
               "duration": 0,
               "redraw": true
              },
              "fromcurrent": true,
              "mode": "immediate",
              "transition": {
               "duration": 0,
               "easing": "linear"
              }
             }
            ],
            "label": "2000-09",
            "method": "animate"
           },
           {
            "args": [
             [
              "2000-10"
             ],
             {
              "frame": {
               "duration": 0,
               "redraw": true
              },
              "fromcurrent": true,
              "mode": "immediate",
              "transition": {
               "duration": 0,
               "easing": "linear"
              }
             }
            ],
            "label": "2000-10",
            "method": "animate"
           },
           {
            "args": [
             [
              "2000-11"
             ],
             {
              "frame": {
               "duration": 0,
               "redraw": true
              },
              "fromcurrent": true,
              "mode": "immediate",
              "transition": {
               "duration": 0,
               "easing": "linear"
              }
             }
            ],
            "label": "2000-11",
            "method": "animate"
           },
           {
            "args": [
             [
              "2000-12"
             ],
             {
              "frame": {
               "duration": 0,
               "redraw": true
              },
              "fromcurrent": true,
              "mode": "immediate",
              "transition": {
               "duration": 0,
               "easing": "linear"
              }
             }
            ],
            "label": "2000-12",
            "method": "animate"
           },
           {
            "args": [
             [
              "2001-01"
             ],
             {
              "frame": {
               "duration": 0,
               "redraw": true
              },
              "fromcurrent": true,
              "mode": "immediate",
              "transition": {
               "duration": 0,
               "easing": "linear"
              }
             }
            ],
            "label": "2001-01",
            "method": "animate"
           },
           {
            "args": [
             [
              "2001-02"
             ],
             {
              "frame": {
               "duration": 0,
               "redraw": true
              },
              "fromcurrent": true,
              "mode": "immediate",
              "transition": {
               "duration": 0,
               "easing": "linear"
              }
             }
            ],
            "label": "2001-02",
            "method": "animate"
           },
           {
            "args": [
             [
              "2001-03"
             ],
             {
              "frame": {
               "duration": 0,
               "redraw": true
              },
              "fromcurrent": true,
              "mode": "immediate",
              "transition": {
               "duration": 0,
               "easing": "linear"
              }
             }
            ],
            "label": "2001-03",
            "method": "animate"
           },
           {
            "args": [
             [
              "2001-04"
             ],
             {
              "frame": {
               "duration": 0,
               "redraw": true
              },
              "fromcurrent": true,
              "mode": "immediate",
              "transition": {
               "duration": 0,
               "easing": "linear"
              }
             }
            ],
            "label": "2001-04",
            "method": "animate"
           },
           {
            "args": [
             [
              "2001-05"
             ],
             {
              "frame": {
               "duration": 0,
               "redraw": true
              },
              "fromcurrent": true,
              "mode": "immediate",
              "transition": {
               "duration": 0,
               "easing": "linear"
              }
             }
            ],
            "label": "2001-05",
            "method": "animate"
           },
           {
            "args": [
             [
              "2001-06"
             ],
             {
              "frame": {
               "duration": 0,
               "redraw": true
              },
              "fromcurrent": true,
              "mode": "immediate",
              "transition": {
               "duration": 0,
               "easing": "linear"
              }
             }
            ],
            "label": "2001-06",
            "method": "animate"
           },
           {
            "args": [
             [
              "2001-07"
             ],
             {
              "frame": {
               "duration": 0,
               "redraw": true
              },
              "fromcurrent": true,
              "mode": "immediate",
              "transition": {
               "duration": 0,
               "easing": "linear"
              }
             }
            ],
            "label": "2001-07",
            "method": "animate"
           },
           {
            "args": [
             [
              "2001-08"
             ],
             {
              "frame": {
               "duration": 0,
               "redraw": true
              },
              "fromcurrent": true,
              "mode": "immediate",
              "transition": {
               "duration": 0,
               "easing": "linear"
              }
             }
            ],
            "label": "2001-08",
            "method": "animate"
           },
           {
            "args": [
             [
              "2001-09"
             ],
             {
              "frame": {
               "duration": 0,
               "redraw": true
              },
              "fromcurrent": true,
              "mode": "immediate",
              "transition": {
               "duration": 0,
               "easing": "linear"
              }
             }
            ],
            "label": "2001-09",
            "method": "animate"
           },
           {
            "args": [
             [
              "2001-10"
             ],
             {
              "frame": {
               "duration": 0,
               "redraw": true
              },
              "fromcurrent": true,
              "mode": "immediate",
              "transition": {
               "duration": 0,
               "easing": "linear"
              }
             }
            ],
            "label": "2001-10",
            "method": "animate"
           },
           {
            "args": [
             [
              "2001-11"
             ],
             {
              "frame": {
               "duration": 0,
               "redraw": true
              },
              "fromcurrent": true,
              "mode": "immediate",
              "transition": {
               "duration": 0,
               "easing": "linear"
              }
             }
            ],
            "label": "2001-11",
            "method": "animate"
           },
           {
            "args": [
             [
              "2001-12"
             ],
             {
              "frame": {
               "duration": 0,
               "redraw": true
              },
              "fromcurrent": true,
              "mode": "immediate",
              "transition": {
               "duration": 0,
               "easing": "linear"
              }
             }
            ],
            "label": "2001-12",
            "method": "animate"
           },
           {
            "args": [
             [
              "2002-01"
             ],
             {
              "frame": {
               "duration": 0,
               "redraw": true
              },
              "fromcurrent": true,
              "mode": "immediate",
              "transition": {
               "duration": 0,
               "easing": "linear"
              }
             }
            ],
            "label": "2002-01",
            "method": "animate"
           },
           {
            "args": [
             [
              "2002-02"
             ],
             {
              "frame": {
               "duration": 0,
               "redraw": true
              },
              "fromcurrent": true,
              "mode": "immediate",
              "transition": {
               "duration": 0,
               "easing": "linear"
              }
             }
            ],
            "label": "2002-02",
            "method": "animate"
           },
           {
            "args": [
             [
              "2002-03"
             ],
             {
              "frame": {
               "duration": 0,
               "redraw": true
              },
              "fromcurrent": true,
              "mode": "immediate",
              "transition": {
               "duration": 0,
               "easing": "linear"
              }
             }
            ],
            "label": "2002-03",
            "method": "animate"
           },
           {
            "args": [
             [
              "2002-04"
             ],
             {
              "frame": {
               "duration": 0,
               "redraw": true
              },
              "fromcurrent": true,
              "mode": "immediate",
              "transition": {
               "duration": 0,
               "easing": "linear"
              }
             }
            ],
            "label": "2002-04",
            "method": "animate"
           },
           {
            "args": [
             [
              "2002-05"
             ],
             {
              "frame": {
               "duration": 0,
               "redraw": true
              },
              "fromcurrent": true,
              "mode": "immediate",
              "transition": {
               "duration": 0,
               "easing": "linear"
              }
             }
            ],
            "label": "2002-05",
            "method": "animate"
           },
           {
            "args": [
             [
              "2002-06"
             ],
             {
              "frame": {
               "duration": 0,
               "redraw": true
              },
              "fromcurrent": true,
              "mode": "immediate",
              "transition": {
               "duration": 0,
               "easing": "linear"
              }
             }
            ],
            "label": "2002-06",
            "method": "animate"
           },
           {
            "args": [
             [
              "2002-07"
             ],
             {
              "frame": {
               "duration": 0,
               "redraw": true
              },
              "fromcurrent": true,
              "mode": "immediate",
              "transition": {
               "duration": 0,
               "easing": "linear"
              }
             }
            ],
            "label": "2002-07",
            "method": "animate"
           },
           {
            "args": [
             [
              "2002-08"
             ],
             {
              "frame": {
               "duration": 0,
               "redraw": true
              },
              "fromcurrent": true,
              "mode": "immediate",
              "transition": {
               "duration": 0,
               "easing": "linear"
              }
             }
            ],
            "label": "2002-08",
            "method": "animate"
           },
           {
            "args": [
             [
              "2002-09"
             ],
             {
              "frame": {
               "duration": 0,
               "redraw": true
              },
              "fromcurrent": true,
              "mode": "immediate",
              "transition": {
               "duration": 0,
               "easing": "linear"
              }
             }
            ],
            "label": "2002-09",
            "method": "animate"
           },
           {
            "args": [
             [
              "2002-10"
             ],
             {
              "frame": {
               "duration": 0,
               "redraw": true
              },
              "fromcurrent": true,
              "mode": "immediate",
              "transition": {
               "duration": 0,
               "easing": "linear"
              }
             }
            ],
            "label": "2002-10",
            "method": "animate"
           },
           {
            "args": [
             [
              "2002-11"
             ],
             {
              "frame": {
               "duration": 0,
               "redraw": true
              },
              "fromcurrent": true,
              "mode": "immediate",
              "transition": {
               "duration": 0,
               "easing": "linear"
              }
             }
            ],
            "label": "2002-11",
            "method": "animate"
           },
           {
            "args": [
             [
              "2002-12"
             ],
             {
              "frame": {
               "duration": 0,
               "redraw": true
              },
              "fromcurrent": true,
              "mode": "immediate",
              "transition": {
               "duration": 0,
               "easing": "linear"
              }
             }
            ],
            "label": "2002-12",
            "method": "animate"
           },
           {
            "args": [
             [
              "2003-01"
             ],
             {
              "frame": {
               "duration": 0,
               "redraw": true
              },
              "fromcurrent": true,
              "mode": "immediate",
              "transition": {
               "duration": 0,
               "easing": "linear"
              }
             }
            ],
            "label": "2003-01",
            "method": "animate"
           },
           {
            "args": [
             [
              "2003-02"
             ],
             {
              "frame": {
               "duration": 0,
               "redraw": true
              },
              "fromcurrent": true,
              "mode": "immediate",
              "transition": {
               "duration": 0,
               "easing": "linear"
              }
             }
            ],
            "label": "2003-02",
            "method": "animate"
           },
           {
            "args": [
             [
              "2003-03"
             ],
             {
              "frame": {
               "duration": 0,
               "redraw": true
              },
              "fromcurrent": true,
              "mode": "immediate",
              "transition": {
               "duration": 0,
               "easing": "linear"
              }
             }
            ],
            "label": "2003-03",
            "method": "animate"
           },
           {
            "args": [
             [
              "2003-04"
             ],
             {
              "frame": {
               "duration": 0,
               "redraw": true
              },
              "fromcurrent": true,
              "mode": "immediate",
              "transition": {
               "duration": 0,
               "easing": "linear"
              }
             }
            ],
            "label": "2003-04",
            "method": "animate"
           },
           {
            "args": [
             [
              "2003-05"
             ],
             {
              "frame": {
               "duration": 0,
               "redraw": true
              },
              "fromcurrent": true,
              "mode": "immediate",
              "transition": {
               "duration": 0,
               "easing": "linear"
              }
             }
            ],
            "label": "2003-05",
            "method": "animate"
           },
           {
            "args": [
             [
              "2003-06"
             ],
             {
              "frame": {
               "duration": 0,
               "redraw": true
              },
              "fromcurrent": true,
              "mode": "immediate",
              "transition": {
               "duration": 0,
               "easing": "linear"
              }
             }
            ],
            "label": "2003-06",
            "method": "animate"
           },
           {
            "args": [
             [
              "2003-07"
             ],
             {
              "frame": {
               "duration": 0,
               "redraw": true
              },
              "fromcurrent": true,
              "mode": "immediate",
              "transition": {
               "duration": 0,
               "easing": "linear"
              }
             }
            ],
            "label": "2003-07",
            "method": "animate"
           },
           {
            "args": [
             [
              "2003-08"
             ],
             {
              "frame": {
               "duration": 0,
               "redraw": true
              },
              "fromcurrent": true,
              "mode": "immediate",
              "transition": {
               "duration": 0,
               "easing": "linear"
              }
             }
            ],
            "label": "2003-08",
            "method": "animate"
           },
           {
            "args": [
             [
              "2003-09"
             ],
             {
              "frame": {
               "duration": 0,
               "redraw": true
              },
              "fromcurrent": true,
              "mode": "immediate",
              "transition": {
               "duration": 0,
               "easing": "linear"
              }
             }
            ],
            "label": "2003-09",
            "method": "animate"
           },
           {
            "args": [
             [
              "2003-10"
             ],
             {
              "frame": {
               "duration": 0,
               "redraw": true
              },
              "fromcurrent": true,
              "mode": "immediate",
              "transition": {
               "duration": 0,
               "easing": "linear"
              }
             }
            ],
            "label": "2003-10",
            "method": "animate"
           },
           {
            "args": [
             [
              "2003-11"
             ],
             {
              "frame": {
               "duration": 0,
               "redraw": true
              },
              "fromcurrent": true,
              "mode": "immediate",
              "transition": {
               "duration": 0,
               "easing": "linear"
              }
             }
            ],
            "label": "2003-11",
            "method": "animate"
           },
           {
            "args": [
             [
              "2003-12"
             ],
             {
              "frame": {
               "duration": 0,
               "redraw": true
              },
              "fromcurrent": true,
              "mode": "immediate",
              "transition": {
               "duration": 0,
               "easing": "linear"
              }
             }
            ],
            "label": "2003-12",
            "method": "animate"
           },
           {
            "args": [
             [
              "2004-01"
             ],
             {
              "frame": {
               "duration": 0,
               "redraw": true
              },
              "fromcurrent": true,
              "mode": "immediate",
              "transition": {
               "duration": 0,
               "easing": "linear"
              }
             }
            ],
            "label": "2004-01",
            "method": "animate"
           },
           {
            "args": [
             [
              "2004-02"
             ],
             {
              "frame": {
               "duration": 0,
               "redraw": true
              },
              "fromcurrent": true,
              "mode": "immediate",
              "transition": {
               "duration": 0,
               "easing": "linear"
              }
             }
            ],
            "label": "2004-02",
            "method": "animate"
           },
           {
            "args": [
             [
              "2004-03"
             ],
             {
              "frame": {
               "duration": 0,
               "redraw": true
              },
              "fromcurrent": true,
              "mode": "immediate",
              "transition": {
               "duration": 0,
               "easing": "linear"
              }
             }
            ],
            "label": "2004-03",
            "method": "animate"
           },
           {
            "args": [
             [
              "2004-04"
             ],
             {
              "frame": {
               "duration": 0,
               "redraw": true
              },
              "fromcurrent": true,
              "mode": "immediate",
              "transition": {
               "duration": 0,
               "easing": "linear"
              }
             }
            ],
            "label": "2004-04",
            "method": "animate"
           },
           {
            "args": [
             [
              "2004-05"
             ],
             {
              "frame": {
               "duration": 0,
               "redraw": true
              },
              "fromcurrent": true,
              "mode": "immediate",
              "transition": {
               "duration": 0,
               "easing": "linear"
              }
             }
            ],
            "label": "2004-05",
            "method": "animate"
           },
           {
            "args": [
             [
              "2004-06"
             ],
             {
              "frame": {
               "duration": 0,
               "redraw": true
              },
              "fromcurrent": true,
              "mode": "immediate",
              "transition": {
               "duration": 0,
               "easing": "linear"
              }
             }
            ],
            "label": "2004-06",
            "method": "animate"
           },
           {
            "args": [
             [
              "2004-07"
             ],
             {
              "frame": {
               "duration": 0,
               "redraw": true
              },
              "fromcurrent": true,
              "mode": "immediate",
              "transition": {
               "duration": 0,
               "easing": "linear"
              }
             }
            ],
            "label": "2004-07",
            "method": "animate"
           },
           {
            "args": [
             [
              "2004-08"
             ],
             {
              "frame": {
               "duration": 0,
               "redraw": true
              },
              "fromcurrent": true,
              "mode": "immediate",
              "transition": {
               "duration": 0,
               "easing": "linear"
              }
             }
            ],
            "label": "2004-08",
            "method": "animate"
           },
           {
            "args": [
             [
              "2004-09"
             ],
             {
              "frame": {
               "duration": 0,
               "redraw": true
              },
              "fromcurrent": true,
              "mode": "immediate",
              "transition": {
               "duration": 0,
               "easing": "linear"
              }
             }
            ],
            "label": "2004-09",
            "method": "animate"
           },
           {
            "args": [
             [
              "2004-10"
             ],
             {
              "frame": {
               "duration": 0,
               "redraw": true
              },
              "fromcurrent": true,
              "mode": "immediate",
              "transition": {
               "duration": 0,
               "easing": "linear"
              }
             }
            ],
            "label": "2004-10",
            "method": "animate"
           },
           {
            "args": [
             [
              "2004-11"
             ],
             {
              "frame": {
               "duration": 0,
               "redraw": true
              },
              "fromcurrent": true,
              "mode": "immediate",
              "transition": {
               "duration": 0,
               "easing": "linear"
              }
             }
            ],
            "label": "2004-11",
            "method": "animate"
           },
           {
            "args": [
             [
              "2004-12"
             ],
             {
              "frame": {
               "duration": 0,
               "redraw": true
              },
              "fromcurrent": true,
              "mode": "immediate",
              "transition": {
               "duration": 0,
               "easing": "linear"
              }
             }
            ],
            "label": "2004-12",
            "method": "animate"
           },
           {
            "args": [
             [
              "2005-01"
             ],
             {
              "frame": {
               "duration": 0,
               "redraw": true
              },
              "fromcurrent": true,
              "mode": "immediate",
              "transition": {
               "duration": 0,
               "easing": "linear"
              }
             }
            ],
            "label": "2005-01",
            "method": "animate"
           },
           {
            "args": [
             [
              "2005-02"
             ],
             {
              "frame": {
               "duration": 0,
               "redraw": true
              },
              "fromcurrent": true,
              "mode": "immediate",
              "transition": {
               "duration": 0,
               "easing": "linear"
              }
             }
            ],
            "label": "2005-02",
            "method": "animate"
           },
           {
            "args": [
             [
              "2005-03"
             ],
             {
              "frame": {
               "duration": 0,
               "redraw": true
              },
              "fromcurrent": true,
              "mode": "immediate",
              "transition": {
               "duration": 0,
               "easing": "linear"
              }
             }
            ],
            "label": "2005-03",
            "method": "animate"
           },
           {
            "args": [
             [
              "2005-04"
             ],
             {
              "frame": {
               "duration": 0,
               "redraw": true
              },
              "fromcurrent": true,
              "mode": "immediate",
              "transition": {
               "duration": 0,
               "easing": "linear"
              }
             }
            ],
            "label": "2005-04",
            "method": "animate"
           },
           {
            "args": [
             [
              "2005-05"
             ],
             {
              "frame": {
               "duration": 0,
               "redraw": true
              },
              "fromcurrent": true,
              "mode": "immediate",
              "transition": {
               "duration": 0,
               "easing": "linear"
              }
             }
            ],
            "label": "2005-05",
            "method": "animate"
           },
           {
            "args": [
             [
              "2005-06"
             ],
             {
              "frame": {
               "duration": 0,
               "redraw": true
              },
              "fromcurrent": true,
              "mode": "immediate",
              "transition": {
               "duration": 0,
               "easing": "linear"
              }
             }
            ],
            "label": "2005-06",
            "method": "animate"
           },
           {
            "args": [
             [
              "2005-07"
             ],
             {
              "frame": {
               "duration": 0,
               "redraw": true
              },
              "fromcurrent": true,
              "mode": "immediate",
              "transition": {
               "duration": 0,
               "easing": "linear"
              }
             }
            ],
            "label": "2005-07",
            "method": "animate"
           },
           {
            "args": [
             [
              "2005-08"
             ],
             {
              "frame": {
               "duration": 0,
               "redraw": true
              },
              "fromcurrent": true,
              "mode": "immediate",
              "transition": {
               "duration": 0,
               "easing": "linear"
              }
             }
            ],
            "label": "2005-08",
            "method": "animate"
           },
           {
            "args": [
             [
              "2005-09"
             ],
             {
              "frame": {
               "duration": 0,
               "redraw": true
              },
              "fromcurrent": true,
              "mode": "immediate",
              "transition": {
               "duration": 0,
               "easing": "linear"
              }
             }
            ],
            "label": "2005-09",
            "method": "animate"
           },
           {
            "args": [
             [
              "2005-10"
             ],
             {
              "frame": {
               "duration": 0,
               "redraw": true
              },
              "fromcurrent": true,
              "mode": "immediate",
              "transition": {
               "duration": 0,
               "easing": "linear"
              }
             }
            ],
            "label": "2005-10",
            "method": "animate"
           },
           {
            "args": [
             [
              "2005-11"
             ],
             {
              "frame": {
               "duration": 0,
               "redraw": true
              },
              "fromcurrent": true,
              "mode": "immediate",
              "transition": {
               "duration": 0,
               "easing": "linear"
              }
             }
            ],
            "label": "2005-11",
            "method": "animate"
           },
           {
            "args": [
             [
              "2005-12"
             ],
             {
              "frame": {
               "duration": 0,
               "redraw": true
              },
              "fromcurrent": true,
              "mode": "immediate",
              "transition": {
               "duration": 0,
               "easing": "linear"
              }
             }
            ],
            "label": "2005-12",
            "method": "animate"
           },
           {
            "args": [
             [
              "2006-01"
             ],
             {
              "frame": {
               "duration": 0,
               "redraw": true
              },
              "fromcurrent": true,
              "mode": "immediate",
              "transition": {
               "duration": 0,
               "easing": "linear"
              }
             }
            ],
            "label": "2006-01",
            "method": "animate"
           },
           {
            "args": [
             [
              "2006-02"
             ],
             {
              "frame": {
               "duration": 0,
               "redraw": true
              },
              "fromcurrent": true,
              "mode": "immediate",
              "transition": {
               "duration": 0,
               "easing": "linear"
              }
             }
            ],
            "label": "2006-02",
            "method": "animate"
           },
           {
            "args": [
             [
              "2006-03"
             ],
             {
              "frame": {
               "duration": 0,
               "redraw": true
              },
              "fromcurrent": true,
              "mode": "immediate",
              "transition": {
               "duration": 0,
               "easing": "linear"
              }
             }
            ],
            "label": "2006-03",
            "method": "animate"
           },
           {
            "args": [
             [
              "2006-04"
             ],
             {
              "frame": {
               "duration": 0,
               "redraw": true
              },
              "fromcurrent": true,
              "mode": "immediate",
              "transition": {
               "duration": 0,
               "easing": "linear"
              }
             }
            ],
            "label": "2006-04",
            "method": "animate"
           },
           {
            "args": [
             [
              "2006-05"
             ],
             {
              "frame": {
               "duration": 0,
               "redraw": true
              },
              "fromcurrent": true,
              "mode": "immediate",
              "transition": {
               "duration": 0,
               "easing": "linear"
              }
             }
            ],
            "label": "2006-05",
            "method": "animate"
           },
           {
            "args": [
             [
              "2006-06"
             ],
             {
              "frame": {
               "duration": 0,
               "redraw": true
              },
              "fromcurrent": true,
              "mode": "immediate",
              "transition": {
               "duration": 0,
               "easing": "linear"
              }
             }
            ],
            "label": "2006-06",
            "method": "animate"
           },
           {
            "args": [
             [
              "2006-07"
             ],
             {
              "frame": {
               "duration": 0,
               "redraw": true
              },
              "fromcurrent": true,
              "mode": "immediate",
              "transition": {
               "duration": 0,
               "easing": "linear"
              }
             }
            ],
            "label": "2006-07",
            "method": "animate"
           },
           {
            "args": [
             [
              "2006-08"
             ],
             {
              "frame": {
               "duration": 0,
               "redraw": true
              },
              "fromcurrent": true,
              "mode": "immediate",
              "transition": {
               "duration": 0,
               "easing": "linear"
              }
             }
            ],
            "label": "2006-08",
            "method": "animate"
           },
           {
            "args": [
             [
              "2006-09"
             ],
             {
              "frame": {
               "duration": 0,
               "redraw": true
              },
              "fromcurrent": true,
              "mode": "immediate",
              "transition": {
               "duration": 0,
               "easing": "linear"
              }
             }
            ],
            "label": "2006-09",
            "method": "animate"
           },
           {
            "args": [
             [
              "2006-10"
             ],
             {
              "frame": {
               "duration": 0,
               "redraw": true
              },
              "fromcurrent": true,
              "mode": "immediate",
              "transition": {
               "duration": 0,
               "easing": "linear"
              }
             }
            ],
            "label": "2006-10",
            "method": "animate"
           },
           {
            "args": [
             [
              "2006-11"
             ],
             {
              "frame": {
               "duration": 0,
               "redraw": true
              },
              "fromcurrent": true,
              "mode": "immediate",
              "transition": {
               "duration": 0,
               "easing": "linear"
              }
             }
            ],
            "label": "2006-11",
            "method": "animate"
           },
           {
            "args": [
             [
              "2006-12"
             ],
             {
              "frame": {
               "duration": 0,
               "redraw": true
              },
              "fromcurrent": true,
              "mode": "immediate",
              "transition": {
               "duration": 0,
               "easing": "linear"
              }
             }
            ],
            "label": "2006-12",
            "method": "animate"
           },
           {
            "args": [
             [
              "2007-01"
             ],
             {
              "frame": {
               "duration": 0,
               "redraw": true
              },
              "fromcurrent": true,
              "mode": "immediate",
              "transition": {
               "duration": 0,
               "easing": "linear"
              }
             }
            ],
            "label": "2007-01",
            "method": "animate"
           },
           {
            "args": [
             [
              "2007-02"
             ],
             {
              "frame": {
               "duration": 0,
               "redraw": true
              },
              "fromcurrent": true,
              "mode": "immediate",
              "transition": {
               "duration": 0,
               "easing": "linear"
              }
             }
            ],
            "label": "2007-02",
            "method": "animate"
           },
           {
            "args": [
             [
              "2007-03"
             ],
             {
              "frame": {
               "duration": 0,
               "redraw": true
              },
              "fromcurrent": true,
              "mode": "immediate",
              "transition": {
               "duration": 0,
               "easing": "linear"
              }
             }
            ],
            "label": "2007-03",
            "method": "animate"
           },
           {
            "args": [
             [
              "2007-04"
             ],
             {
              "frame": {
               "duration": 0,
               "redraw": true
              },
              "fromcurrent": true,
              "mode": "immediate",
              "transition": {
               "duration": 0,
               "easing": "linear"
              }
             }
            ],
            "label": "2007-04",
            "method": "animate"
           },
           {
            "args": [
             [
              "2007-05"
             ],
             {
              "frame": {
               "duration": 0,
               "redraw": true
              },
              "fromcurrent": true,
              "mode": "immediate",
              "transition": {
               "duration": 0,
               "easing": "linear"
              }
             }
            ],
            "label": "2007-05",
            "method": "animate"
           },
           {
            "args": [
             [
              "2007-06"
             ],
             {
              "frame": {
               "duration": 0,
               "redraw": true
              },
              "fromcurrent": true,
              "mode": "immediate",
              "transition": {
               "duration": 0,
               "easing": "linear"
              }
             }
            ],
            "label": "2007-06",
            "method": "animate"
           },
           {
            "args": [
             [
              "2007-07"
             ],
             {
              "frame": {
               "duration": 0,
               "redraw": true
              },
              "fromcurrent": true,
              "mode": "immediate",
              "transition": {
               "duration": 0,
               "easing": "linear"
              }
             }
            ],
            "label": "2007-07",
            "method": "animate"
           },
           {
            "args": [
             [
              "2007-08"
             ],
             {
              "frame": {
               "duration": 0,
               "redraw": true
              },
              "fromcurrent": true,
              "mode": "immediate",
              "transition": {
               "duration": 0,
               "easing": "linear"
              }
             }
            ],
            "label": "2007-08",
            "method": "animate"
           },
           {
            "args": [
             [
              "2007-09"
             ],
             {
              "frame": {
               "duration": 0,
               "redraw": true
              },
              "fromcurrent": true,
              "mode": "immediate",
              "transition": {
               "duration": 0,
               "easing": "linear"
              }
             }
            ],
            "label": "2007-09",
            "method": "animate"
           },
           {
            "args": [
             [
              "2007-10"
             ],
             {
              "frame": {
               "duration": 0,
               "redraw": true
              },
              "fromcurrent": true,
              "mode": "immediate",
              "transition": {
               "duration": 0,
               "easing": "linear"
              }
             }
            ],
            "label": "2007-10",
            "method": "animate"
           },
           {
            "args": [
             [
              "2007-11"
             ],
             {
              "frame": {
               "duration": 0,
               "redraw": true
              },
              "fromcurrent": true,
              "mode": "immediate",
              "transition": {
               "duration": 0,
               "easing": "linear"
              }
             }
            ],
            "label": "2007-11",
            "method": "animate"
           },
           {
            "args": [
             [
              "2007-12"
             ],
             {
              "frame": {
               "duration": 0,
               "redraw": true
              },
              "fromcurrent": true,
              "mode": "immediate",
              "transition": {
               "duration": 0,
               "easing": "linear"
              }
             }
            ],
            "label": "2007-12",
            "method": "animate"
           },
           {
            "args": [
             [
              "2008-01"
             ],
             {
              "frame": {
               "duration": 0,
               "redraw": true
              },
              "fromcurrent": true,
              "mode": "immediate",
              "transition": {
               "duration": 0,
               "easing": "linear"
              }
             }
            ],
            "label": "2008-01",
            "method": "animate"
           },
           {
            "args": [
             [
              "2008-02"
             ],
             {
              "frame": {
               "duration": 0,
               "redraw": true
              },
              "fromcurrent": true,
              "mode": "immediate",
              "transition": {
               "duration": 0,
               "easing": "linear"
              }
             }
            ],
            "label": "2008-02",
            "method": "animate"
           },
           {
            "args": [
             [
              "2008-03"
             ],
             {
              "frame": {
               "duration": 0,
               "redraw": true
              },
              "fromcurrent": true,
              "mode": "immediate",
              "transition": {
               "duration": 0,
               "easing": "linear"
              }
             }
            ],
            "label": "2008-03",
            "method": "animate"
           },
           {
            "args": [
             [
              "2008-04"
             ],
             {
              "frame": {
               "duration": 0,
               "redraw": true
              },
              "fromcurrent": true,
              "mode": "immediate",
              "transition": {
               "duration": 0,
               "easing": "linear"
              }
             }
            ],
            "label": "2008-04",
            "method": "animate"
           },
           {
            "args": [
             [
              "2008-05"
             ],
             {
              "frame": {
               "duration": 0,
               "redraw": true
              },
              "fromcurrent": true,
              "mode": "immediate",
              "transition": {
               "duration": 0,
               "easing": "linear"
              }
             }
            ],
            "label": "2008-05",
            "method": "animate"
           },
           {
            "args": [
             [
              "2008-06"
             ],
             {
              "frame": {
               "duration": 0,
               "redraw": true
              },
              "fromcurrent": true,
              "mode": "immediate",
              "transition": {
               "duration": 0,
               "easing": "linear"
              }
             }
            ],
            "label": "2008-06",
            "method": "animate"
           },
           {
            "args": [
             [
              "2008-07"
             ],
             {
              "frame": {
               "duration": 0,
               "redraw": true
              },
              "fromcurrent": true,
              "mode": "immediate",
              "transition": {
               "duration": 0,
               "easing": "linear"
              }
             }
            ],
            "label": "2008-07",
            "method": "animate"
           },
           {
            "args": [
             [
              "2008-08"
             ],
             {
              "frame": {
               "duration": 0,
               "redraw": true
              },
              "fromcurrent": true,
              "mode": "immediate",
              "transition": {
               "duration": 0,
               "easing": "linear"
              }
             }
            ],
            "label": "2008-08",
            "method": "animate"
           },
           {
            "args": [
             [
              "2008-09"
             ],
             {
              "frame": {
               "duration": 0,
               "redraw": true
              },
              "fromcurrent": true,
              "mode": "immediate",
              "transition": {
               "duration": 0,
               "easing": "linear"
              }
             }
            ],
            "label": "2008-09",
            "method": "animate"
           },
           {
            "args": [
             [
              "2008-10"
             ],
             {
              "frame": {
               "duration": 0,
               "redraw": true
              },
              "fromcurrent": true,
              "mode": "immediate",
              "transition": {
               "duration": 0,
               "easing": "linear"
              }
             }
            ],
            "label": "2008-10",
            "method": "animate"
           },
           {
            "args": [
             [
              "2008-11"
             ],
             {
              "frame": {
               "duration": 0,
               "redraw": true
              },
              "fromcurrent": true,
              "mode": "immediate",
              "transition": {
               "duration": 0,
               "easing": "linear"
              }
             }
            ],
            "label": "2008-11",
            "method": "animate"
           },
           {
            "args": [
             [
              "2008-12"
             ],
             {
              "frame": {
               "duration": 0,
               "redraw": true
              },
              "fromcurrent": true,
              "mode": "immediate",
              "transition": {
               "duration": 0,
               "easing": "linear"
              }
             }
            ],
            "label": "2008-12",
            "method": "animate"
           },
           {
            "args": [
             [
              "2009-01"
             ],
             {
              "frame": {
               "duration": 0,
               "redraw": true
              },
              "fromcurrent": true,
              "mode": "immediate",
              "transition": {
               "duration": 0,
               "easing": "linear"
              }
             }
            ],
            "label": "2009-01",
            "method": "animate"
           },
           {
            "args": [
             [
              "2009-02"
             ],
             {
              "frame": {
               "duration": 0,
               "redraw": true
              },
              "fromcurrent": true,
              "mode": "immediate",
              "transition": {
               "duration": 0,
               "easing": "linear"
              }
             }
            ],
            "label": "2009-02",
            "method": "animate"
           },
           {
            "args": [
             [
              "2009-03"
             ],
             {
              "frame": {
               "duration": 0,
               "redraw": true
              },
              "fromcurrent": true,
              "mode": "immediate",
              "transition": {
               "duration": 0,
               "easing": "linear"
              }
             }
            ],
            "label": "2009-03",
            "method": "animate"
           },
           {
            "args": [
             [
              "2009-04"
             ],
             {
              "frame": {
               "duration": 0,
               "redraw": true
              },
              "fromcurrent": true,
              "mode": "immediate",
              "transition": {
               "duration": 0,
               "easing": "linear"
              }
             }
            ],
            "label": "2009-04",
            "method": "animate"
           },
           {
            "args": [
             [
              "2009-05"
             ],
             {
              "frame": {
               "duration": 0,
               "redraw": true
              },
              "fromcurrent": true,
              "mode": "immediate",
              "transition": {
               "duration": 0,
               "easing": "linear"
              }
             }
            ],
            "label": "2009-05",
            "method": "animate"
           },
           {
            "args": [
             [
              "2009-06"
             ],
             {
              "frame": {
               "duration": 0,
               "redraw": true
              },
              "fromcurrent": true,
              "mode": "immediate",
              "transition": {
               "duration": 0,
               "easing": "linear"
              }
             }
            ],
            "label": "2009-06",
            "method": "animate"
           },
           {
            "args": [
             [
              "2009-07"
             ],
             {
              "frame": {
               "duration": 0,
               "redraw": true
              },
              "fromcurrent": true,
              "mode": "immediate",
              "transition": {
               "duration": 0,
               "easing": "linear"
              }
             }
            ],
            "label": "2009-07",
            "method": "animate"
           },
           {
            "args": [
             [
              "2009-08"
             ],
             {
              "frame": {
               "duration": 0,
               "redraw": true
              },
              "fromcurrent": true,
              "mode": "immediate",
              "transition": {
               "duration": 0,
               "easing": "linear"
              }
             }
            ],
            "label": "2009-08",
            "method": "animate"
           },
           {
            "args": [
             [
              "2009-09"
             ],
             {
              "frame": {
               "duration": 0,
               "redraw": true
              },
              "fromcurrent": true,
              "mode": "immediate",
              "transition": {
               "duration": 0,
               "easing": "linear"
              }
             }
            ],
            "label": "2009-09",
            "method": "animate"
           },
           {
            "args": [
             [
              "2009-10"
             ],
             {
              "frame": {
               "duration": 0,
               "redraw": true
              },
              "fromcurrent": true,
              "mode": "immediate",
              "transition": {
               "duration": 0,
               "easing": "linear"
              }
             }
            ],
            "label": "2009-10",
            "method": "animate"
           },
           {
            "args": [
             [
              "2009-11"
             ],
             {
              "frame": {
               "duration": 0,
               "redraw": true
              },
              "fromcurrent": true,
              "mode": "immediate",
              "transition": {
               "duration": 0,
               "easing": "linear"
              }
             }
            ],
            "label": "2009-11",
            "method": "animate"
           },
           {
            "args": [
             [
              "2009-12"
             ],
             {
              "frame": {
               "duration": 0,
               "redraw": true
              },
              "fromcurrent": true,
              "mode": "immediate",
              "transition": {
               "duration": 0,
               "easing": "linear"
              }
             }
            ],
            "label": "2009-12",
            "method": "animate"
           },
           {
            "args": [
             [
              "2010-01"
             ],
             {
              "frame": {
               "duration": 0,
               "redraw": true
              },
              "fromcurrent": true,
              "mode": "immediate",
              "transition": {
               "duration": 0,
               "easing": "linear"
              }
             }
            ],
            "label": "2010-01",
            "method": "animate"
           },
           {
            "args": [
             [
              "2010-02"
             ],
             {
              "frame": {
               "duration": 0,
               "redraw": true
              },
              "fromcurrent": true,
              "mode": "immediate",
              "transition": {
               "duration": 0,
               "easing": "linear"
              }
             }
            ],
            "label": "2010-02",
            "method": "animate"
           },
           {
            "args": [
             [
              "2010-03"
             ],
             {
              "frame": {
               "duration": 0,
               "redraw": true
              },
              "fromcurrent": true,
              "mode": "immediate",
              "transition": {
               "duration": 0,
               "easing": "linear"
              }
             }
            ],
            "label": "2010-03",
            "method": "animate"
           },
           {
            "args": [
             [
              "2010-04"
             ],
             {
              "frame": {
               "duration": 0,
               "redraw": true
              },
              "fromcurrent": true,
              "mode": "immediate",
              "transition": {
               "duration": 0,
               "easing": "linear"
              }
             }
            ],
            "label": "2010-04",
            "method": "animate"
           },
           {
            "args": [
             [
              "2010-05"
             ],
             {
              "frame": {
               "duration": 0,
               "redraw": true
              },
              "fromcurrent": true,
              "mode": "immediate",
              "transition": {
               "duration": 0,
               "easing": "linear"
              }
             }
            ],
            "label": "2010-05",
            "method": "animate"
           },
           {
            "args": [
             [
              "2010-06"
             ],
             {
              "frame": {
               "duration": 0,
               "redraw": true
              },
              "fromcurrent": true,
              "mode": "immediate",
              "transition": {
               "duration": 0,
               "easing": "linear"
              }
             }
            ],
            "label": "2010-06",
            "method": "animate"
           },
           {
            "args": [
             [
              "2010-07"
             ],
             {
              "frame": {
               "duration": 0,
               "redraw": true
              },
              "fromcurrent": true,
              "mode": "immediate",
              "transition": {
               "duration": 0,
               "easing": "linear"
              }
             }
            ],
            "label": "2010-07",
            "method": "animate"
           },
           {
            "args": [
             [
              "2010-08"
             ],
             {
              "frame": {
               "duration": 0,
               "redraw": true
              },
              "fromcurrent": true,
              "mode": "immediate",
              "transition": {
               "duration": 0,
               "easing": "linear"
              }
             }
            ],
            "label": "2010-08",
            "method": "animate"
           },
           {
            "args": [
             [
              "2010-09"
             ],
             {
              "frame": {
               "duration": 0,
               "redraw": true
              },
              "fromcurrent": true,
              "mode": "immediate",
              "transition": {
               "duration": 0,
               "easing": "linear"
              }
             }
            ],
            "label": "2010-09",
            "method": "animate"
           },
           {
            "args": [
             [
              "2010-10"
             ],
             {
              "frame": {
               "duration": 0,
               "redraw": true
              },
              "fromcurrent": true,
              "mode": "immediate",
              "transition": {
               "duration": 0,
               "easing": "linear"
              }
             }
            ],
            "label": "2010-10",
            "method": "animate"
           },
           {
            "args": [
             [
              "2010-11"
             ],
             {
              "frame": {
               "duration": 0,
               "redraw": true
              },
              "fromcurrent": true,
              "mode": "immediate",
              "transition": {
               "duration": 0,
               "easing": "linear"
              }
             }
            ],
            "label": "2010-11",
            "method": "animate"
           },
           {
            "args": [
             [
              "2010-12"
             ],
             {
              "frame": {
               "duration": 0,
               "redraw": true
              },
              "fromcurrent": true,
              "mode": "immediate",
              "transition": {
               "duration": 0,
               "easing": "linear"
              }
             }
            ],
            "label": "2010-12",
            "method": "animate"
           },
           {
            "args": [
             [
              "2011-01"
             ],
             {
              "frame": {
               "duration": 0,
               "redraw": true
              },
              "fromcurrent": true,
              "mode": "immediate",
              "transition": {
               "duration": 0,
               "easing": "linear"
              }
             }
            ],
            "label": "2011-01",
            "method": "animate"
           },
           {
            "args": [
             [
              "2011-02"
             ],
             {
              "frame": {
               "duration": 0,
               "redraw": true
              },
              "fromcurrent": true,
              "mode": "immediate",
              "transition": {
               "duration": 0,
               "easing": "linear"
              }
             }
            ],
            "label": "2011-02",
            "method": "animate"
           },
           {
            "args": [
             [
              "2011-03"
             ],
             {
              "frame": {
               "duration": 0,
               "redraw": true
              },
              "fromcurrent": true,
              "mode": "immediate",
              "transition": {
               "duration": 0,
               "easing": "linear"
              }
             }
            ],
            "label": "2011-03",
            "method": "animate"
           },
           {
            "args": [
             [
              "2011-04"
             ],
             {
              "frame": {
               "duration": 0,
               "redraw": true
              },
              "fromcurrent": true,
              "mode": "immediate",
              "transition": {
               "duration": 0,
               "easing": "linear"
              }
             }
            ],
            "label": "2011-04",
            "method": "animate"
           },
           {
            "args": [
             [
              "2011-05"
             ],
             {
              "frame": {
               "duration": 0,
               "redraw": true
              },
              "fromcurrent": true,
              "mode": "immediate",
              "transition": {
               "duration": 0,
               "easing": "linear"
              }
             }
            ],
            "label": "2011-05",
            "method": "animate"
           },
           {
            "args": [
             [
              "2011-06"
             ],
             {
              "frame": {
               "duration": 0,
               "redraw": true
              },
              "fromcurrent": true,
              "mode": "immediate",
              "transition": {
               "duration": 0,
               "easing": "linear"
              }
             }
            ],
            "label": "2011-06",
            "method": "animate"
           },
           {
            "args": [
             [
              "2011-07"
             ],
             {
              "frame": {
               "duration": 0,
               "redraw": true
              },
              "fromcurrent": true,
              "mode": "immediate",
              "transition": {
               "duration": 0,
               "easing": "linear"
              }
             }
            ],
            "label": "2011-07",
            "method": "animate"
           },
           {
            "args": [
             [
              "2011-08"
             ],
             {
              "frame": {
               "duration": 0,
               "redraw": true
              },
              "fromcurrent": true,
              "mode": "immediate",
              "transition": {
               "duration": 0,
               "easing": "linear"
              }
             }
            ],
            "label": "2011-08",
            "method": "animate"
           },
           {
            "args": [
             [
              "2011-09"
             ],
             {
              "frame": {
               "duration": 0,
               "redraw": true
              },
              "fromcurrent": true,
              "mode": "immediate",
              "transition": {
               "duration": 0,
               "easing": "linear"
              }
             }
            ],
            "label": "2011-09",
            "method": "animate"
           },
           {
            "args": [
             [
              "2011-10"
             ],
             {
              "frame": {
               "duration": 0,
               "redraw": true
              },
              "fromcurrent": true,
              "mode": "immediate",
              "transition": {
               "duration": 0,
               "easing": "linear"
              }
             }
            ],
            "label": "2011-10",
            "method": "animate"
           },
           {
            "args": [
             [
              "2011-11"
             ],
             {
              "frame": {
               "duration": 0,
               "redraw": true
              },
              "fromcurrent": true,
              "mode": "immediate",
              "transition": {
               "duration": 0,
               "easing": "linear"
              }
             }
            ],
            "label": "2011-11",
            "method": "animate"
           },
           {
            "args": [
             [
              "2011-12"
             ],
             {
              "frame": {
               "duration": 0,
               "redraw": true
              },
              "fromcurrent": true,
              "mode": "immediate",
              "transition": {
               "duration": 0,
               "easing": "linear"
              }
             }
            ],
            "label": "2011-12",
            "method": "animate"
           },
           {
            "args": [
             [
              "2012-01"
             ],
             {
              "frame": {
               "duration": 0,
               "redraw": true
              },
              "fromcurrent": true,
              "mode": "immediate",
              "transition": {
               "duration": 0,
               "easing": "linear"
              }
             }
            ],
            "label": "2012-01",
            "method": "animate"
           },
           {
            "args": [
             [
              "2012-02"
             ],
             {
              "frame": {
               "duration": 0,
               "redraw": true
              },
              "fromcurrent": true,
              "mode": "immediate",
              "transition": {
               "duration": 0,
               "easing": "linear"
              }
             }
            ],
            "label": "2012-02",
            "method": "animate"
           },
           {
            "args": [
             [
              "2012-03"
             ],
             {
              "frame": {
               "duration": 0,
               "redraw": true
              },
              "fromcurrent": true,
              "mode": "immediate",
              "transition": {
               "duration": 0,
               "easing": "linear"
              }
             }
            ],
            "label": "2012-03",
            "method": "animate"
           },
           {
            "args": [
             [
              "2012-04"
             ],
             {
              "frame": {
               "duration": 0,
               "redraw": true
              },
              "fromcurrent": true,
              "mode": "immediate",
              "transition": {
               "duration": 0,
               "easing": "linear"
              }
             }
            ],
            "label": "2012-04",
            "method": "animate"
           },
           {
            "args": [
             [
              "2012-05"
             ],
             {
              "frame": {
               "duration": 0,
               "redraw": true
              },
              "fromcurrent": true,
              "mode": "immediate",
              "transition": {
               "duration": 0,
               "easing": "linear"
              }
             }
            ],
            "label": "2012-05",
            "method": "animate"
           },
           {
            "args": [
             [
              "2012-06"
             ],
             {
              "frame": {
               "duration": 0,
               "redraw": true
              },
              "fromcurrent": true,
              "mode": "immediate",
              "transition": {
               "duration": 0,
               "easing": "linear"
              }
             }
            ],
            "label": "2012-06",
            "method": "animate"
           },
           {
            "args": [
             [
              "2012-07"
             ],
             {
              "frame": {
               "duration": 0,
               "redraw": true
              },
              "fromcurrent": true,
              "mode": "immediate",
              "transition": {
               "duration": 0,
               "easing": "linear"
              }
             }
            ],
            "label": "2012-07",
            "method": "animate"
           },
           {
            "args": [
             [
              "2012-08"
             ],
             {
              "frame": {
               "duration": 0,
               "redraw": true
              },
              "fromcurrent": true,
              "mode": "immediate",
              "transition": {
               "duration": 0,
               "easing": "linear"
              }
             }
            ],
            "label": "2012-08",
            "method": "animate"
           },
           {
            "args": [
             [
              "2012-09"
             ],
             {
              "frame": {
               "duration": 0,
               "redraw": true
              },
              "fromcurrent": true,
              "mode": "immediate",
              "transition": {
               "duration": 0,
               "easing": "linear"
              }
             }
            ],
            "label": "2012-09",
            "method": "animate"
           },
           {
            "args": [
             [
              "2012-10"
             ],
             {
              "frame": {
               "duration": 0,
               "redraw": true
              },
              "fromcurrent": true,
              "mode": "immediate",
              "transition": {
               "duration": 0,
               "easing": "linear"
              }
             }
            ],
            "label": "2012-10",
            "method": "animate"
           },
           {
            "args": [
             [
              "2012-11"
             ],
             {
              "frame": {
               "duration": 0,
               "redraw": true
              },
              "fromcurrent": true,
              "mode": "immediate",
              "transition": {
               "duration": 0,
               "easing": "linear"
              }
             }
            ],
            "label": "2012-11",
            "method": "animate"
           },
           {
            "args": [
             [
              "2012-12"
             ],
             {
              "frame": {
               "duration": 0,
               "redraw": true
              },
              "fromcurrent": true,
              "mode": "immediate",
              "transition": {
               "duration": 0,
               "easing": "linear"
              }
             }
            ],
            "label": "2012-12",
            "method": "animate"
           },
           {
            "args": [
             [
              "2013-01"
             ],
             {
              "frame": {
               "duration": 0,
               "redraw": true
              },
              "fromcurrent": true,
              "mode": "immediate",
              "transition": {
               "duration": 0,
               "easing": "linear"
              }
             }
            ],
            "label": "2013-01",
            "method": "animate"
           },
           {
            "args": [
             [
              "2013-02"
             ],
             {
              "frame": {
               "duration": 0,
               "redraw": true
              },
              "fromcurrent": true,
              "mode": "immediate",
              "transition": {
               "duration": 0,
               "easing": "linear"
              }
             }
            ],
            "label": "2013-02",
            "method": "animate"
           },
           {
            "args": [
             [
              "2013-03"
             ],
             {
              "frame": {
               "duration": 0,
               "redraw": true
              },
              "fromcurrent": true,
              "mode": "immediate",
              "transition": {
               "duration": 0,
               "easing": "linear"
              }
             }
            ],
            "label": "2013-03",
            "method": "animate"
           },
           {
            "args": [
             [
              "2013-04"
             ],
             {
              "frame": {
               "duration": 0,
               "redraw": true
              },
              "fromcurrent": true,
              "mode": "immediate",
              "transition": {
               "duration": 0,
               "easing": "linear"
              }
             }
            ],
            "label": "2013-04",
            "method": "animate"
           },
           {
            "args": [
             [
              "2013-05"
             ],
             {
              "frame": {
               "duration": 0,
               "redraw": true
              },
              "fromcurrent": true,
              "mode": "immediate",
              "transition": {
               "duration": 0,
               "easing": "linear"
              }
             }
            ],
            "label": "2013-05",
            "method": "animate"
           },
           {
            "args": [
             [
              "2013-06"
             ],
             {
              "frame": {
               "duration": 0,
               "redraw": true
              },
              "fromcurrent": true,
              "mode": "immediate",
              "transition": {
               "duration": 0,
               "easing": "linear"
              }
             }
            ],
            "label": "2013-06",
            "method": "animate"
           },
           {
            "args": [
             [
              "2013-07"
             ],
             {
              "frame": {
               "duration": 0,
               "redraw": true
              },
              "fromcurrent": true,
              "mode": "immediate",
              "transition": {
               "duration": 0,
               "easing": "linear"
              }
             }
            ],
            "label": "2013-07",
            "method": "animate"
           },
           {
            "args": [
             [
              "2013-08"
             ],
             {
              "frame": {
               "duration": 0,
               "redraw": true
              },
              "fromcurrent": true,
              "mode": "immediate",
              "transition": {
               "duration": 0,
               "easing": "linear"
              }
             }
            ],
            "label": "2013-08",
            "method": "animate"
           },
           {
            "args": [
             [
              "2013-09"
             ],
             {
              "frame": {
               "duration": 0,
               "redraw": true
              },
              "fromcurrent": true,
              "mode": "immediate",
              "transition": {
               "duration": 0,
               "easing": "linear"
              }
             }
            ],
            "label": "2013-09",
            "method": "animate"
           },
           {
            "args": [
             [
              "2013-10"
             ],
             {
              "frame": {
               "duration": 0,
               "redraw": true
              },
              "fromcurrent": true,
              "mode": "immediate",
              "transition": {
               "duration": 0,
               "easing": "linear"
              }
             }
            ],
            "label": "2013-10",
            "method": "animate"
           },
           {
            "args": [
             [
              "2013-11"
             ],
             {
              "frame": {
               "duration": 0,
               "redraw": true
              },
              "fromcurrent": true,
              "mode": "immediate",
              "transition": {
               "duration": 0,
               "easing": "linear"
              }
             }
            ],
            "label": "2013-11",
            "method": "animate"
           },
           {
            "args": [
             [
              "2013-12"
             ],
             {
              "frame": {
               "duration": 0,
               "redraw": true
              },
              "fromcurrent": true,
              "mode": "immediate",
              "transition": {
               "duration": 0,
               "easing": "linear"
              }
             }
            ],
            "label": "2013-12",
            "method": "animate"
           },
           {
            "args": [
             [
              "2014-01"
             ],
             {
              "frame": {
               "duration": 0,
               "redraw": true
              },
              "fromcurrent": true,
              "mode": "immediate",
              "transition": {
               "duration": 0,
               "easing": "linear"
              }
             }
            ],
            "label": "2014-01",
            "method": "animate"
           },
           {
            "args": [
             [
              "2014-02"
             ],
             {
              "frame": {
               "duration": 0,
               "redraw": true
              },
              "fromcurrent": true,
              "mode": "immediate",
              "transition": {
               "duration": 0,
               "easing": "linear"
              }
             }
            ],
            "label": "2014-02",
            "method": "animate"
           },
           {
            "args": [
             [
              "2014-03"
             ],
             {
              "frame": {
               "duration": 0,
               "redraw": true
              },
              "fromcurrent": true,
              "mode": "immediate",
              "transition": {
               "duration": 0,
               "easing": "linear"
              }
             }
            ],
            "label": "2014-03",
            "method": "animate"
           },
           {
            "args": [
             [
              "2014-04"
             ],
             {
              "frame": {
               "duration": 0,
               "redraw": true
              },
              "fromcurrent": true,
              "mode": "immediate",
              "transition": {
               "duration": 0,
               "easing": "linear"
              }
             }
            ],
            "label": "2014-04",
            "method": "animate"
           },
           {
            "args": [
             [
              "2014-05"
             ],
             {
              "frame": {
               "duration": 0,
               "redraw": true
              },
              "fromcurrent": true,
              "mode": "immediate",
              "transition": {
               "duration": 0,
               "easing": "linear"
              }
             }
            ],
            "label": "2014-05",
            "method": "animate"
           },
           {
            "args": [
             [
              "2014-06"
             ],
             {
              "frame": {
               "duration": 0,
               "redraw": true
              },
              "fromcurrent": true,
              "mode": "immediate",
              "transition": {
               "duration": 0,
               "easing": "linear"
              }
             }
            ],
            "label": "2014-06",
            "method": "animate"
           },
           {
            "args": [
             [
              "2014-07"
             ],
             {
              "frame": {
               "duration": 0,
               "redraw": true
              },
              "fromcurrent": true,
              "mode": "immediate",
              "transition": {
               "duration": 0,
               "easing": "linear"
              }
             }
            ],
            "label": "2014-07",
            "method": "animate"
           },
           {
            "args": [
             [
              "2014-08"
             ],
             {
              "frame": {
               "duration": 0,
               "redraw": true
              },
              "fromcurrent": true,
              "mode": "immediate",
              "transition": {
               "duration": 0,
               "easing": "linear"
              }
             }
            ],
            "label": "2014-08",
            "method": "animate"
           },
           {
            "args": [
             [
              "2014-09"
             ],
             {
              "frame": {
               "duration": 0,
               "redraw": true
              },
              "fromcurrent": true,
              "mode": "immediate",
              "transition": {
               "duration": 0,
               "easing": "linear"
              }
             }
            ],
            "label": "2014-09",
            "method": "animate"
           },
           {
            "args": [
             [
              "2014-10"
             ],
             {
              "frame": {
               "duration": 0,
               "redraw": true
              },
              "fromcurrent": true,
              "mode": "immediate",
              "transition": {
               "duration": 0,
               "easing": "linear"
              }
             }
            ],
            "label": "2014-10",
            "method": "animate"
           },
           {
            "args": [
             [
              "2014-11"
             ],
             {
              "frame": {
               "duration": 0,
               "redraw": true
              },
              "fromcurrent": true,
              "mode": "immediate",
              "transition": {
               "duration": 0,
               "easing": "linear"
              }
             }
            ],
            "label": "2014-11",
            "method": "animate"
           },
           {
            "args": [
             [
              "2014-12"
             ],
             {
              "frame": {
               "duration": 0,
               "redraw": true
              },
              "fromcurrent": true,
              "mode": "immediate",
              "transition": {
               "duration": 0,
               "easing": "linear"
              }
             }
            ],
            "label": "2014-12",
            "method": "animate"
           },
           {
            "args": [
             [
              "2015-01"
             ],
             {
              "frame": {
               "duration": 0,
               "redraw": true
              },
              "fromcurrent": true,
              "mode": "immediate",
              "transition": {
               "duration": 0,
               "easing": "linear"
              }
             }
            ],
            "label": "2015-01",
            "method": "animate"
           },
           {
            "args": [
             [
              "2015-02"
             ],
             {
              "frame": {
               "duration": 0,
               "redraw": true
              },
              "fromcurrent": true,
              "mode": "immediate",
              "transition": {
               "duration": 0,
               "easing": "linear"
              }
             }
            ],
            "label": "2015-02",
            "method": "animate"
           },
           {
            "args": [
             [
              "2015-03"
             ],
             {
              "frame": {
               "duration": 0,
               "redraw": true
              },
              "fromcurrent": true,
              "mode": "immediate",
              "transition": {
               "duration": 0,
               "easing": "linear"
              }
             }
            ],
            "label": "2015-03",
            "method": "animate"
           },
           {
            "args": [
             [
              "2015-04"
             ],
             {
              "frame": {
               "duration": 0,
               "redraw": true
              },
              "fromcurrent": true,
              "mode": "immediate",
              "transition": {
               "duration": 0,
               "easing": "linear"
              }
             }
            ],
            "label": "2015-04",
            "method": "animate"
           },
           {
            "args": [
             [
              "2015-05"
             ],
             {
              "frame": {
               "duration": 0,
               "redraw": true
              },
              "fromcurrent": true,
              "mode": "immediate",
              "transition": {
               "duration": 0,
               "easing": "linear"
              }
             }
            ],
            "label": "2015-05",
            "method": "animate"
           },
           {
            "args": [
             [
              "2015-06"
             ],
             {
              "frame": {
               "duration": 0,
               "redraw": true
              },
              "fromcurrent": true,
              "mode": "immediate",
              "transition": {
               "duration": 0,
               "easing": "linear"
              }
             }
            ],
            "label": "2015-06",
            "method": "animate"
           },
           {
            "args": [
             [
              "2015-07"
             ],
             {
              "frame": {
               "duration": 0,
               "redraw": true
              },
              "fromcurrent": true,
              "mode": "immediate",
              "transition": {
               "duration": 0,
               "easing": "linear"
              }
             }
            ],
            "label": "2015-07",
            "method": "animate"
           },
           {
            "args": [
             [
              "2015-08"
             ],
             {
              "frame": {
               "duration": 0,
               "redraw": true
              },
              "fromcurrent": true,
              "mode": "immediate",
              "transition": {
               "duration": 0,
               "easing": "linear"
              }
             }
            ],
            "label": "2015-08",
            "method": "animate"
           },
           {
            "args": [
             [
              "2015-09"
             ],
             {
              "frame": {
               "duration": 0,
               "redraw": true
              },
              "fromcurrent": true,
              "mode": "immediate",
              "transition": {
               "duration": 0,
               "easing": "linear"
              }
             }
            ],
            "label": "2015-09",
            "method": "animate"
           },
           {
            "args": [
             [
              "2015-10"
             ],
             {
              "frame": {
               "duration": 0,
               "redraw": true
              },
              "fromcurrent": true,
              "mode": "immediate",
              "transition": {
               "duration": 0,
               "easing": "linear"
              }
             }
            ],
            "label": "2015-10",
            "method": "animate"
           },
           {
            "args": [
             [
              "2015-11"
             ],
             {
              "frame": {
               "duration": 0,
               "redraw": true
              },
              "fromcurrent": true,
              "mode": "immediate",
              "transition": {
               "duration": 0,
               "easing": "linear"
              }
             }
            ],
            "label": "2015-11",
            "method": "animate"
           },
           {
            "args": [
             [
              "2015-12"
             ],
             {
              "frame": {
               "duration": 0,
               "redraw": true
              },
              "fromcurrent": true,
              "mode": "immediate",
              "transition": {
               "duration": 0,
               "easing": "linear"
              }
             }
            ],
            "label": "2015-12",
            "method": "animate"
           },
           {
            "args": [
             [
              "2016-01"
             ],
             {
              "frame": {
               "duration": 0,
               "redraw": true
              },
              "fromcurrent": true,
              "mode": "immediate",
              "transition": {
               "duration": 0,
               "easing": "linear"
              }
             }
            ],
            "label": "2016-01",
            "method": "animate"
           },
           {
            "args": [
             [
              "2016-02"
             ],
             {
              "frame": {
               "duration": 0,
               "redraw": true
              },
              "fromcurrent": true,
              "mode": "immediate",
              "transition": {
               "duration": 0,
               "easing": "linear"
              }
             }
            ],
            "label": "2016-02",
            "method": "animate"
           },
           {
            "args": [
             [
              "2016-03"
             ],
             {
              "frame": {
               "duration": 0,
               "redraw": true
              },
              "fromcurrent": true,
              "mode": "immediate",
              "transition": {
               "duration": 0,
               "easing": "linear"
              }
             }
            ],
            "label": "2016-03",
            "method": "animate"
           },
           {
            "args": [
             [
              "2016-04"
             ],
             {
              "frame": {
               "duration": 0,
               "redraw": true
              },
              "fromcurrent": true,
              "mode": "immediate",
              "transition": {
               "duration": 0,
               "easing": "linear"
              }
             }
            ],
            "label": "2016-04",
            "method": "animate"
           },
           {
            "args": [
             [
              "2016-05"
             ],
             {
              "frame": {
               "duration": 0,
               "redraw": true
              },
              "fromcurrent": true,
              "mode": "immediate",
              "transition": {
               "duration": 0,
               "easing": "linear"
              }
             }
            ],
            "label": "2016-05",
            "method": "animate"
           },
           {
            "args": [
             [
              "2016-06"
             ],
             {
              "frame": {
               "duration": 0,
               "redraw": true
              },
              "fromcurrent": true,
              "mode": "immediate",
              "transition": {
               "duration": 0,
               "easing": "linear"
              }
             }
            ],
            "label": "2016-06",
            "method": "animate"
           },
           {
            "args": [
             [
              "2016-07"
             ],
             {
              "frame": {
               "duration": 0,
               "redraw": true
              },
              "fromcurrent": true,
              "mode": "immediate",
              "transition": {
               "duration": 0,
               "easing": "linear"
              }
             }
            ],
            "label": "2016-07",
            "method": "animate"
           },
           {
            "args": [
             [
              "2016-08"
             ],
             {
              "frame": {
               "duration": 0,
               "redraw": true
              },
              "fromcurrent": true,
              "mode": "immediate",
              "transition": {
               "duration": 0,
               "easing": "linear"
              }
             }
            ],
            "label": "2016-08",
            "method": "animate"
           },
           {
            "args": [
             [
              "2016-09"
             ],
             {
              "frame": {
               "duration": 0,
               "redraw": true
              },
              "fromcurrent": true,
              "mode": "immediate",
              "transition": {
               "duration": 0,
               "easing": "linear"
              }
             }
            ],
            "label": "2016-09",
            "method": "animate"
           },
           {
            "args": [
             [
              "2016-10"
             ],
             {
              "frame": {
               "duration": 0,
               "redraw": true
              },
              "fromcurrent": true,
              "mode": "immediate",
              "transition": {
               "duration": 0,
               "easing": "linear"
              }
             }
            ],
            "label": "2016-10",
            "method": "animate"
           },
           {
            "args": [
             [
              "2016-11"
             ],
             {
              "frame": {
               "duration": 0,
               "redraw": true
              },
              "fromcurrent": true,
              "mode": "immediate",
              "transition": {
               "duration": 0,
               "easing": "linear"
              }
             }
            ],
            "label": "2016-11",
            "method": "animate"
           },
           {
            "args": [
             [
              "2016-12"
             ],
             {
              "frame": {
               "duration": 0,
               "redraw": true
              },
              "fromcurrent": true,
              "mode": "immediate",
              "transition": {
               "duration": 0,
               "easing": "linear"
              }
             }
            ],
            "label": "2016-12",
            "method": "animate"
           },
           {
            "args": [
             [
              "2017-01"
             ],
             {
              "frame": {
               "duration": 0,
               "redraw": true
              },
              "fromcurrent": true,
              "mode": "immediate",
              "transition": {
               "duration": 0,
               "easing": "linear"
              }
             }
            ],
            "label": "2017-01",
            "method": "animate"
           },
           {
            "args": [
             [
              "2017-02"
             ],
             {
              "frame": {
               "duration": 0,
               "redraw": true
              },
              "fromcurrent": true,
              "mode": "immediate",
              "transition": {
               "duration": 0,
               "easing": "linear"
              }
             }
            ],
            "label": "2017-02",
            "method": "animate"
           },
           {
            "args": [
             [
              "2017-03"
             ],
             {
              "frame": {
               "duration": 0,
               "redraw": true
              },
              "fromcurrent": true,
              "mode": "immediate",
              "transition": {
               "duration": 0,
               "easing": "linear"
              }
             }
            ],
            "label": "2017-03",
            "method": "animate"
           },
           {
            "args": [
             [
              "2017-04"
             ],
             {
              "frame": {
               "duration": 0,
               "redraw": true
              },
              "fromcurrent": true,
              "mode": "immediate",
              "transition": {
               "duration": 0,
               "easing": "linear"
              }
             }
            ],
            "label": "2017-04",
            "method": "animate"
           },
           {
            "args": [
             [
              "2017-05"
             ],
             {
              "frame": {
               "duration": 0,
               "redraw": true
              },
              "fromcurrent": true,
              "mode": "immediate",
              "transition": {
               "duration": 0,
               "easing": "linear"
              }
             }
            ],
            "label": "2017-05",
            "method": "animate"
           },
           {
            "args": [
             [
              "2017-06"
             ],
             {
              "frame": {
               "duration": 0,
               "redraw": true
              },
              "fromcurrent": true,
              "mode": "immediate",
              "transition": {
               "duration": 0,
               "easing": "linear"
              }
             }
            ],
            "label": "2017-06",
            "method": "animate"
           },
           {
            "args": [
             [
              "2017-07"
             ],
             {
              "frame": {
               "duration": 0,
               "redraw": true
              },
              "fromcurrent": true,
              "mode": "immediate",
              "transition": {
               "duration": 0,
               "easing": "linear"
              }
             }
            ],
            "label": "2017-07",
            "method": "animate"
           },
           {
            "args": [
             [
              "2017-08"
             ],
             {
              "frame": {
               "duration": 0,
               "redraw": true
              },
              "fromcurrent": true,
              "mode": "immediate",
              "transition": {
               "duration": 0,
               "easing": "linear"
              }
             }
            ],
            "label": "2017-08",
            "method": "animate"
           },
           {
            "args": [
             [
              "2017-09"
             ],
             {
              "frame": {
               "duration": 0,
               "redraw": true
              },
              "fromcurrent": true,
              "mode": "immediate",
              "transition": {
               "duration": 0,
               "easing": "linear"
              }
             }
            ],
            "label": "2017-09",
            "method": "animate"
           },
           {
            "args": [
             [
              "2017-10"
             ],
             {
              "frame": {
               "duration": 0,
               "redraw": true
              },
              "fromcurrent": true,
              "mode": "immediate",
              "transition": {
               "duration": 0,
               "easing": "linear"
              }
             }
            ],
            "label": "2017-10",
            "method": "animate"
           },
           {
            "args": [
             [
              "2017-11"
             ],
             {
              "frame": {
               "duration": 0,
               "redraw": true
              },
              "fromcurrent": true,
              "mode": "immediate",
              "transition": {
               "duration": 0,
               "easing": "linear"
              }
             }
            ],
            "label": "2017-11",
            "method": "animate"
           },
           {
            "args": [
             [
              "2017-12"
             ],
             {
              "frame": {
               "duration": 0,
               "redraw": true
              },
              "fromcurrent": true,
              "mode": "immediate",
              "transition": {
               "duration": 0,
               "easing": "linear"
              }
             }
            ],
            "label": "2017-12",
            "method": "animate"
           },
           {
            "args": [
             [
              "2018-01"
             ],
             {
              "frame": {
               "duration": 0,
               "redraw": true
              },
              "fromcurrent": true,
              "mode": "immediate",
              "transition": {
               "duration": 0,
               "easing": "linear"
              }
             }
            ],
            "label": "2018-01",
            "method": "animate"
           },
           {
            "args": [
             [
              "2018-02"
             ],
             {
              "frame": {
               "duration": 0,
               "redraw": true
              },
              "fromcurrent": true,
              "mode": "immediate",
              "transition": {
               "duration": 0,
               "easing": "linear"
              }
             }
            ],
            "label": "2018-02",
            "method": "animate"
           },
           {
            "args": [
             [
              "2018-03"
             ],
             {
              "frame": {
               "duration": 0,
               "redraw": true
              },
              "fromcurrent": true,
              "mode": "immediate",
              "transition": {
               "duration": 0,
               "easing": "linear"
              }
             }
            ],
            "label": "2018-03",
            "method": "animate"
           },
           {
            "args": [
             [
              "2018-04"
             ],
             {
              "frame": {
               "duration": 0,
               "redraw": true
              },
              "fromcurrent": true,
              "mode": "immediate",
              "transition": {
               "duration": 0,
               "easing": "linear"
              }
             }
            ],
            "label": "2018-04",
            "method": "animate"
           },
           {
            "args": [
             [
              "2018-05"
             ],
             {
              "frame": {
               "duration": 0,
               "redraw": true
              },
              "fromcurrent": true,
              "mode": "immediate",
              "transition": {
               "duration": 0,
               "easing": "linear"
              }
             }
            ],
            "label": "2018-05",
            "method": "animate"
           },
           {
            "args": [
             [
              "2018-06"
             ],
             {
              "frame": {
               "duration": 0,
               "redraw": true
              },
              "fromcurrent": true,
              "mode": "immediate",
              "transition": {
               "duration": 0,
               "easing": "linear"
              }
             }
            ],
            "label": "2018-06",
            "method": "animate"
           },
           {
            "args": [
             [
              "2018-07"
             ],
             {
              "frame": {
               "duration": 0,
               "redraw": true
              },
              "fromcurrent": true,
              "mode": "immediate",
              "transition": {
               "duration": 0,
               "easing": "linear"
              }
             }
            ],
            "label": "2018-07",
            "method": "animate"
           },
           {
            "args": [
             [
              "2018-08"
             ],
             {
              "frame": {
               "duration": 0,
               "redraw": true
              },
              "fromcurrent": true,
              "mode": "immediate",
              "transition": {
               "duration": 0,
               "easing": "linear"
              }
             }
            ],
            "label": "2018-08",
            "method": "animate"
           },
           {
            "args": [
             [
              "2018-09"
             ],
             {
              "frame": {
               "duration": 0,
               "redraw": true
              },
              "fromcurrent": true,
              "mode": "immediate",
              "transition": {
               "duration": 0,
               "easing": "linear"
              }
             }
            ],
            "label": "2018-09",
            "method": "animate"
           },
           {
            "args": [
             [
              "2018-10"
             ],
             {
              "frame": {
               "duration": 0,
               "redraw": true
              },
              "fromcurrent": true,
              "mode": "immediate",
              "transition": {
               "duration": 0,
               "easing": "linear"
              }
             }
            ],
            "label": "2018-10",
            "method": "animate"
           },
           {
            "args": [
             [
              "2018-11"
             ],
             {
              "frame": {
               "duration": 0,
               "redraw": true
              },
              "fromcurrent": true,
              "mode": "immediate",
              "transition": {
               "duration": 0,
               "easing": "linear"
              }
             }
            ],
            "label": "2018-11",
            "method": "animate"
           },
           {
            "args": [
             [
              "2018-12"
             ],
             {
              "frame": {
               "duration": 0,
               "redraw": true
              },
              "fromcurrent": true,
              "mode": "immediate",
              "transition": {
               "duration": 0,
               "easing": "linear"
              }
             }
            ],
            "label": "2018-12",
            "method": "animate"
           },
           {
            "args": [
             [
              "2019-01"
             ],
             {
              "frame": {
               "duration": 0,
               "redraw": true
              },
              "fromcurrent": true,
              "mode": "immediate",
              "transition": {
               "duration": 0,
               "easing": "linear"
              }
             }
            ],
            "label": "2019-01",
            "method": "animate"
           },
           {
            "args": [
             [
              "2019-02"
             ],
             {
              "frame": {
               "duration": 0,
               "redraw": true
              },
              "fromcurrent": true,
              "mode": "immediate",
              "transition": {
               "duration": 0,
               "easing": "linear"
              }
             }
            ],
            "label": "2019-02",
            "method": "animate"
           },
           {
            "args": [
             [
              "2019-03"
             ],
             {
              "frame": {
               "duration": 0,
               "redraw": true
              },
              "fromcurrent": true,
              "mode": "immediate",
              "transition": {
               "duration": 0,
               "easing": "linear"
              }
             }
            ],
            "label": "2019-03",
            "method": "animate"
           },
           {
            "args": [
             [
              "2019-04"
             ],
             {
              "frame": {
               "duration": 0,
               "redraw": true
              },
              "fromcurrent": true,
              "mode": "immediate",
              "transition": {
               "duration": 0,
               "easing": "linear"
              }
             }
            ],
            "label": "2019-04",
            "method": "animate"
           },
           {
            "args": [
             [
              "2019-05"
             ],
             {
              "frame": {
               "duration": 0,
               "redraw": true
              },
              "fromcurrent": true,
              "mode": "immediate",
              "transition": {
               "duration": 0,
               "easing": "linear"
              }
             }
            ],
            "label": "2019-05",
            "method": "animate"
           },
           {
            "args": [
             [
              "2019-06"
             ],
             {
              "frame": {
               "duration": 0,
               "redraw": true
              },
              "fromcurrent": true,
              "mode": "immediate",
              "transition": {
               "duration": 0,
               "easing": "linear"
              }
             }
            ],
            "label": "2019-06",
            "method": "animate"
           },
           {
            "args": [
             [
              "2019-07"
             ],
             {
              "frame": {
               "duration": 0,
               "redraw": true
              },
              "fromcurrent": true,
              "mode": "immediate",
              "transition": {
               "duration": 0,
               "easing": "linear"
              }
             }
            ],
            "label": "2019-07",
            "method": "animate"
           },
           {
            "args": [
             [
              "2019-08"
             ],
             {
              "frame": {
               "duration": 0,
               "redraw": true
              },
              "fromcurrent": true,
              "mode": "immediate",
              "transition": {
               "duration": 0,
               "easing": "linear"
              }
             }
            ],
            "label": "2019-08",
            "method": "animate"
           },
           {
            "args": [
             [
              "2019-09"
             ],
             {
              "frame": {
               "duration": 0,
               "redraw": true
              },
              "fromcurrent": true,
              "mode": "immediate",
              "transition": {
               "duration": 0,
               "easing": "linear"
              }
             }
            ],
            "label": "2019-09",
            "method": "animate"
           },
           {
            "args": [
             [
              "2019-10"
             ],
             {
              "frame": {
               "duration": 0,
               "redraw": true
              },
              "fromcurrent": true,
              "mode": "immediate",
              "transition": {
               "duration": 0,
               "easing": "linear"
              }
             }
            ],
            "label": "2019-10",
            "method": "animate"
           },
           {
            "args": [
             [
              "2019-11"
             ],
             {
              "frame": {
               "duration": 0,
               "redraw": true
              },
              "fromcurrent": true,
              "mode": "immediate",
              "transition": {
               "duration": 0,
               "easing": "linear"
              }
             }
            ],
            "label": "2019-11",
            "method": "animate"
           },
           {
            "args": [
             [
              "2019-12"
             ],
             {
              "frame": {
               "duration": 0,
               "redraw": true
              },
              "fromcurrent": true,
              "mode": "immediate",
              "transition": {
               "duration": 0,
               "easing": "linear"
              }
             }
            ],
            "label": "2019-12",
            "method": "animate"
           },
           {
            "args": [
             [
              "2020-01"
             ],
             {
              "frame": {
               "duration": 0,
               "redraw": true
              },
              "fromcurrent": true,
              "mode": "immediate",
              "transition": {
               "duration": 0,
               "easing": "linear"
              }
             }
            ],
            "label": "2020-01",
            "method": "animate"
           },
           {
            "args": [
             [
              "2020-02"
             ],
             {
              "frame": {
               "duration": 0,
               "redraw": true
              },
              "fromcurrent": true,
              "mode": "immediate",
              "transition": {
               "duration": 0,
               "easing": "linear"
              }
             }
            ],
            "label": "2020-02",
            "method": "animate"
           },
           {
            "args": [
             [
              "2020-03"
             ],
             {
              "frame": {
               "duration": 0,
               "redraw": true
              },
              "fromcurrent": true,
              "mode": "immediate",
              "transition": {
               "duration": 0,
               "easing": "linear"
              }
             }
            ],
            "label": "2020-03",
            "method": "animate"
           },
           {
            "args": [
             [
              "2020-04"
             ],
             {
              "frame": {
               "duration": 0,
               "redraw": true
              },
              "fromcurrent": true,
              "mode": "immediate",
              "transition": {
               "duration": 0,
               "easing": "linear"
              }
             }
            ],
            "label": "2020-04",
            "method": "animate"
           },
           {
            "args": [
             [
              "2020-05"
             ],
             {
              "frame": {
               "duration": 0,
               "redraw": true
              },
              "fromcurrent": true,
              "mode": "immediate",
              "transition": {
               "duration": 0,
               "easing": "linear"
              }
             }
            ],
            "label": "2020-05",
            "method": "animate"
           },
           {
            "args": [
             [
              "2020-06"
             ],
             {
              "frame": {
               "duration": 0,
               "redraw": true
              },
              "fromcurrent": true,
              "mode": "immediate",
              "transition": {
               "duration": 0,
               "easing": "linear"
              }
             }
            ],
            "label": "2020-06",
            "method": "animate"
           },
           {
            "args": [
             [
              "2020-07"
             ],
             {
              "frame": {
               "duration": 0,
               "redraw": true
              },
              "fromcurrent": true,
              "mode": "immediate",
              "transition": {
               "duration": 0,
               "easing": "linear"
              }
             }
            ],
            "label": "2020-07",
            "method": "animate"
           },
           {
            "args": [
             [
              "2020-08"
             ],
             {
              "frame": {
               "duration": 0,
               "redraw": true
              },
              "fromcurrent": true,
              "mode": "immediate",
              "transition": {
               "duration": 0,
               "easing": "linear"
              }
             }
            ],
            "label": "2020-08",
            "method": "animate"
           },
           {
            "args": [
             [
              "2020-09"
             ],
             {
              "frame": {
               "duration": 0,
               "redraw": true
              },
              "fromcurrent": true,
              "mode": "immediate",
              "transition": {
               "duration": 0,
               "easing": "linear"
              }
             }
            ],
            "label": "2020-09",
            "method": "animate"
           },
           {
            "args": [
             [
              "2020-10"
             ],
             {
              "frame": {
               "duration": 0,
               "redraw": true
              },
              "fromcurrent": true,
              "mode": "immediate",
              "transition": {
               "duration": 0,
               "easing": "linear"
              }
             }
            ],
            "label": "2020-10",
            "method": "animate"
           },
           {
            "args": [
             [
              "2020-11"
             ],
             {
              "frame": {
               "duration": 0,
               "redraw": true
              },
              "fromcurrent": true,
              "mode": "immediate",
              "transition": {
               "duration": 0,
               "easing": "linear"
              }
             }
            ],
            "label": "2020-11",
            "method": "animate"
           },
           {
            "args": [
             [
              "2020-12"
             ],
             {
              "frame": {
               "duration": 0,
               "redraw": true
              },
              "fromcurrent": true,
              "mode": "immediate",
              "transition": {
               "duration": 0,
               "easing": "linear"
              }
             }
            ],
            "label": "2020-12",
            "method": "animate"
           },
           {
            "args": [
             [
              "2021-01"
             ],
             {
              "frame": {
               "duration": 0,
               "redraw": true
              },
              "fromcurrent": true,
              "mode": "immediate",
              "transition": {
               "duration": 0,
               "easing": "linear"
              }
             }
            ],
            "label": "2021-01",
            "method": "animate"
           },
           {
            "args": [
             [
              "2021-02"
             ],
             {
              "frame": {
               "duration": 0,
               "redraw": true
              },
              "fromcurrent": true,
              "mode": "immediate",
              "transition": {
               "duration": 0,
               "easing": "linear"
              }
             }
            ],
            "label": "2021-02",
            "method": "animate"
           },
           {
            "args": [
             [
              "2021-03"
             ],
             {
              "frame": {
               "duration": 0,
               "redraw": true
              },
              "fromcurrent": true,
              "mode": "immediate",
              "transition": {
               "duration": 0,
               "easing": "linear"
              }
             }
            ],
            "label": "2021-03",
            "method": "animate"
           },
           {
            "args": [
             [
              "2021-04"
             ],
             {
              "frame": {
               "duration": 0,
               "redraw": true
              },
              "fromcurrent": true,
              "mode": "immediate",
              "transition": {
               "duration": 0,
               "easing": "linear"
              }
             }
            ],
            "label": "2021-04",
            "method": "animate"
           },
           {
            "args": [
             [
              "2021-05"
             ],
             {
              "frame": {
               "duration": 0,
               "redraw": true
              },
              "fromcurrent": true,
              "mode": "immediate",
              "transition": {
               "duration": 0,
               "easing": "linear"
              }
             }
            ],
            "label": "2021-05",
            "method": "animate"
           },
           {
            "args": [
             [
              "2021-06"
             ],
             {
              "frame": {
               "duration": 0,
               "redraw": true
              },
              "fromcurrent": true,
              "mode": "immediate",
              "transition": {
               "duration": 0,
               "easing": "linear"
              }
             }
            ],
            "label": "2021-06",
            "method": "animate"
           },
           {
            "args": [
             [
              "2021-07"
             ],
             {
              "frame": {
               "duration": 0,
               "redraw": true
              },
              "fromcurrent": true,
              "mode": "immediate",
              "transition": {
               "duration": 0,
               "easing": "linear"
              }
             }
            ],
            "label": "2021-07",
            "method": "animate"
           },
           {
            "args": [
             [
              "2021-08"
             ],
             {
              "frame": {
               "duration": 0,
               "redraw": true
              },
              "fromcurrent": true,
              "mode": "immediate",
              "transition": {
               "duration": 0,
               "easing": "linear"
              }
             }
            ],
            "label": "2021-08",
            "method": "animate"
           },
           {
            "args": [
             [
              "2021-09"
             ],
             {
              "frame": {
               "duration": 0,
               "redraw": true
              },
              "fromcurrent": true,
              "mode": "immediate",
              "transition": {
               "duration": 0,
               "easing": "linear"
              }
             }
            ],
            "label": "2021-09",
            "method": "animate"
           },
           {
            "args": [
             [
              "2021-10"
             ],
             {
              "frame": {
               "duration": 0,
               "redraw": true
              },
              "fromcurrent": true,
              "mode": "immediate",
              "transition": {
               "duration": 0,
               "easing": "linear"
              }
             }
            ],
            "label": "2021-10",
            "method": "animate"
           },
           {
            "args": [
             [
              "2021-11"
             ],
             {
              "frame": {
               "duration": 0,
               "redraw": true
              },
              "fromcurrent": true,
              "mode": "immediate",
              "transition": {
               "duration": 0,
               "easing": "linear"
              }
             }
            ],
            "label": "2021-11",
            "method": "animate"
           },
           {
            "args": [
             [
              "2021-12"
             ],
             {
              "frame": {
               "duration": 0,
               "redraw": true
              },
              "fromcurrent": true,
              "mode": "immediate",
              "transition": {
               "duration": 0,
               "easing": "linear"
              }
             }
            ],
            "label": "2021-12",
            "method": "animate"
           },
           {
            "args": [
             [
              "2022-01"
             ],
             {
              "frame": {
               "duration": 0,
               "redraw": true
              },
              "fromcurrent": true,
              "mode": "immediate",
              "transition": {
               "duration": 0,
               "easing": "linear"
              }
             }
            ],
            "label": "2022-01",
            "method": "animate"
           },
           {
            "args": [
             [
              "2022-02"
             ],
             {
              "frame": {
               "duration": 0,
               "redraw": true
              },
              "fromcurrent": true,
              "mode": "immediate",
              "transition": {
               "duration": 0,
               "easing": "linear"
              }
             }
            ],
            "label": "2022-02",
            "method": "animate"
           },
           {
            "args": [
             [
              "2022-03"
             ],
             {
              "frame": {
               "duration": 0,
               "redraw": true
              },
              "fromcurrent": true,
              "mode": "immediate",
              "transition": {
               "duration": 0,
               "easing": "linear"
              }
             }
            ],
            "label": "2022-03",
            "method": "animate"
           },
           {
            "args": [
             [
              "2022-04"
             ],
             {
              "frame": {
               "duration": 0,
               "redraw": true
              },
              "fromcurrent": true,
              "mode": "immediate",
              "transition": {
               "duration": 0,
               "easing": "linear"
              }
             }
            ],
            "label": "2022-04",
            "method": "animate"
           },
           {
            "args": [
             [
              "2022-05"
             ],
             {
              "frame": {
               "duration": 0,
               "redraw": true
              },
              "fromcurrent": true,
              "mode": "immediate",
              "transition": {
               "duration": 0,
               "easing": "linear"
              }
             }
            ],
            "label": "2022-05",
            "method": "animate"
           },
           {
            "args": [
             [
              "2022-06"
             ],
             {
              "frame": {
               "duration": 0,
               "redraw": true
              },
              "fromcurrent": true,
              "mode": "immediate",
              "transition": {
               "duration": 0,
               "easing": "linear"
              }
             }
            ],
            "label": "2022-06",
            "method": "animate"
           },
           {
            "args": [
             [
              "2022-07"
             ],
             {
              "frame": {
               "duration": 0,
               "redraw": true
              },
              "fromcurrent": true,
              "mode": "immediate",
              "transition": {
               "duration": 0,
               "easing": "linear"
              }
             }
            ],
            "label": "2022-07",
            "method": "animate"
           },
           {
            "args": [
             [
              "2022-08"
             ],
             {
              "frame": {
               "duration": 0,
               "redraw": true
              },
              "fromcurrent": true,
              "mode": "immediate",
              "transition": {
               "duration": 0,
               "easing": "linear"
              }
             }
            ],
            "label": "2022-08",
            "method": "animate"
           },
           {
            "args": [
             [
              "2022-09"
             ],
             {
              "frame": {
               "duration": 0,
               "redraw": true
              },
              "fromcurrent": true,
              "mode": "immediate",
              "transition": {
               "duration": 0,
               "easing": "linear"
              }
             }
            ],
            "label": "2022-09",
            "method": "animate"
           },
           {
            "args": [
             [
              "2022-10"
             ],
             {
              "frame": {
               "duration": 0,
               "redraw": true
              },
              "fromcurrent": true,
              "mode": "immediate",
              "transition": {
               "duration": 0,
               "easing": "linear"
              }
             }
            ],
            "label": "2022-10",
            "method": "animate"
           },
           {
            "args": [
             [
              "2022-11"
             ],
             {
              "frame": {
               "duration": 0,
               "redraw": true
              },
              "fromcurrent": true,
              "mode": "immediate",
              "transition": {
               "duration": 0,
               "easing": "linear"
              }
             }
            ],
            "label": "2022-11",
            "method": "animate"
           },
           {
            "args": [
             [
              "2022-12"
             ],
             {
              "frame": {
               "duration": 0,
               "redraw": true
              },
              "fromcurrent": true,
              "mode": "immediate",
              "transition": {
               "duration": 0,
               "easing": "linear"
              }
             }
            ],
            "label": "2022-12",
            "method": "animate"
           },
           {
            "args": [
             [
              "2023-01"
             ],
             {
              "frame": {
               "duration": 0,
               "redraw": true
              },
              "fromcurrent": true,
              "mode": "immediate",
              "transition": {
               "duration": 0,
               "easing": "linear"
              }
             }
            ],
            "label": "2023-01",
            "method": "animate"
           },
           {
            "args": [
             [
              "2023-02"
             ],
             {
              "frame": {
               "duration": 0,
               "redraw": true
              },
              "fromcurrent": true,
              "mode": "immediate",
              "transition": {
               "duration": 0,
               "easing": "linear"
              }
             }
            ],
            "label": "2023-02",
            "method": "animate"
           },
           {
            "args": [
             [
              "2023-03"
             ],
             {
              "frame": {
               "duration": 0,
               "redraw": true
              },
              "fromcurrent": true,
              "mode": "immediate",
              "transition": {
               "duration": 0,
               "easing": "linear"
              }
             }
            ],
            "label": "2023-03",
            "method": "animate"
           },
           {
            "args": [
             [
              "2023-04"
             ],
             {
              "frame": {
               "duration": 0,
               "redraw": true
              },
              "fromcurrent": true,
              "mode": "immediate",
              "transition": {
               "duration": 0,
               "easing": "linear"
              }
             }
            ],
            "label": "2023-04",
            "method": "animate"
           },
           {
            "args": [
             [
              "2023-05"
             ],
             {
              "frame": {
               "duration": 0,
               "redraw": true
              },
              "fromcurrent": true,
              "mode": "immediate",
              "transition": {
               "duration": 0,
               "easing": "linear"
              }
             }
            ],
            "label": "2023-05",
            "method": "animate"
           },
           {
            "args": [
             [
              "2023-06"
             ],
             {
              "frame": {
               "duration": 0,
               "redraw": true
              },
              "fromcurrent": true,
              "mode": "immediate",
              "transition": {
               "duration": 0,
               "easing": "linear"
              }
             }
            ],
            "label": "2023-06",
            "method": "animate"
           },
           {
            "args": [
             [
              "2023-07"
             ],
             {
              "frame": {
               "duration": 0,
               "redraw": true
              },
              "fromcurrent": true,
              "mode": "immediate",
              "transition": {
               "duration": 0,
               "easing": "linear"
              }
             }
            ],
            "label": "2023-07",
            "method": "animate"
           },
           {
            "args": [
             [
              "2023-08"
             ],
             {
              "frame": {
               "duration": 0,
               "redraw": true
              },
              "fromcurrent": true,
              "mode": "immediate",
              "transition": {
               "duration": 0,
               "easing": "linear"
              }
             }
            ],
            "label": "2023-08",
            "method": "animate"
           },
           {
            "args": [
             [
              "2023-09"
             ],
             {
              "frame": {
               "duration": 0,
               "redraw": true
              },
              "fromcurrent": true,
              "mode": "immediate",
              "transition": {
               "duration": 0,
               "easing": "linear"
              }
             }
            ],
            "label": "2023-09",
            "method": "animate"
           }
          ],
          "x": 0.1,
          "xanchor": "left",
          "y": 0,
          "yanchor": "top"
         }
        ],
        "template": {
         "data": {
          "bar": [
           {
            "error_x": {
             "color": "#2a3f5f"
            },
            "error_y": {
             "color": "#2a3f5f"
            },
            "marker": {
             "line": {
              "color": "#E5ECF6",
              "width": 0.5
             },
             "pattern": {
              "fillmode": "overlay",
              "size": 10,
              "solidity": 0.2
             }
            },
            "type": "bar"
           }
          ],
          "barpolar": [
           {
            "marker": {
             "line": {
              "color": "#E5ECF6",
              "width": 0.5
             },
             "pattern": {
              "fillmode": "overlay",
              "size": 10,
              "solidity": 0.2
             }
            },
            "type": "barpolar"
           }
          ],
          "carpet": [
           {
            "aaxis": {
             "endlinecolor": "#2a3f5f",
             "gridcolor": "white",
             "linecolor": "white",
             "minorgridcolor": "white",
             "startlinecolor": "#2a3f5f"
            },
            "baxis": {
             "endlinecolor": "#2a3f5f",
             "gridcolor": "white",
             "linecolor": "white",
             "minorgridcolor": "white",
             "startlinecolor": "#2a3f5f"
            },
            "type": "carpet"
           }
          ],
          "choropleth": [
           {
            "colorbar": {
             "outlinewidth": 0,
             "ticks": ""
            },
            "type": "choropleth"
           }
          ],
          "contour": [
           {
            "colorbar": {
             "outlinewidth": 0,
             "ticks": ""
            },
            "colorscale": [
             [
              0,
              "#0d0887"
             ],
             [
              0.1111111111111111,
              "#46039f"
             ],
             [
              0.2222222222222222,
              "#7201a8"
             ],
             [
              0.3333333333333333,
              "#9c179e"
             ],
             [
              0.4444444444444444,
              "#bd3786"
             ],
             [
              0.5555555555555556,
              "#d8576b"
             ],
             [
              0.6666666666666666,
              "#ed7953"
             ],
             [
              0.7777777777777778,
              "#fb9f3a"
             ],
             [
              0.8888888888888888,
              "#fdca26"
             ],
             [
              1,
              "#f0f921"
             ]
            ],
            "type": "contour"
           }
          ],
          "contourcarpet": [
           {
            "colorbar": {
             "outlinewidth": 0,
             "ticks": ""
            },
            "type": "contourcarpet"
           }
          ],
          "heatmap": [
           {
            "colorbar": {
             "outlinewidth": 0,
             "ticks": ""
            },
            "colorscale": [
             [
              0,
              "#0d0887"
             ],
             [
              0.1111111111111111,
              "#46039f"
             ],
             [
              0.2222222222222222,
              "#7201a8"
             ],
             [
              0.3333333333333333,
              "#9c179e"
             ],
             [
              0.4444444444444444,
              "#bd3786"
             ],
             [
              0.5555555555555556,
              "#d8576b"
             ],
             [
              0.6666666666666666,
              "#ed7953"
             ],
             [
              0.7777777777777778,
              "#fb9f3a"
             ],
             [
              0.8888888888888888,
              "#fdca26"
             ],
             [
              1,
              "#f0f921"
             ]
            ],
            "type": "heatmap"
           }
          ],
          "heatmapgl": [
           {
            "colorbar": {
             "outlinewidth": 0,
             "ticks": ""
            },
            "colorscale": [
             [
              0,
              "#0d0887"
             ],
             [
              0.1111111111111111,
              "#46039f"
             ],
             [
              0.2222222222222222,
              "#7201a8"
             ],
             [
              0.3333333333333333,
              "#9c179e"
             ],
             [
              0.4444444444444444,
              "#bd3786"
             ],
             [
              0.5555555555555556,
              "#d8576b"
             ],
             [
              0.6666666666666666,
              "#ed7953"
             ],
             [
              0.7777777777777778,
              "#fb9f3a"
             ],
             [
              0.8888888888888888,
              "#fdca26"
             ],
             [
              1,
              "#f0f921"
             ]
            ],
            "type": "heatmapgl"
           }
          ],
          "histogram": [
           {
            "marker": {
             "pattern": {
              "fillmode": "overlay",
              "size": 10,
              "solidity": 0.2
             }
            },
            "type": "histogram"
           }
          ],
          "histogram2d": [
           {
            "colorbar": {
             "outlinewidth": 0,
             "ticks": ""
            },
            "colorscale": [
             [
              0,
              "#0d0887"
             ],
             [
              0.1111111111111111,
              "#46039f"
             ],
             [
              0.2222222222222222,
              "#7201a8"
             ],
             [
              0.3333333333333333,
              "#9c179e"
             ],
             [
              0.4444444444444444,
              "#bd3786"
             ],
             [
              0.5555555555555556,
              "#d8576b"
             ],
             [
              0.6666666666666666,
              "#ed7953"
             ],
             [
              0.7777777777777778,
              "#fb9f3a"
             ],
             [
              0.8888888888888888,
              "#fdca26"
             ],
             [
              1,
              "#f0f921"
             ]
            ],
            "type": "histogram2d"
           }
          ],
          "histogram2dcontour": [
           {
            "colorbar": {
             "outlinewidth": 0,
             "ticks": ""
            },
            "colorscale": [
             [
              0,
              "#0d0887"
             ],
             [
              0.1111111111111111,
              "#46039f"
             ],
             [
              0.2222222222222222,
              "#7201a8"
             ],
             [
              0.3333333333333333,
              "#9c179e"
             ],
             [
              0.4444444444444444,
              "#bd3786"
             ],
             [
              0.5555555555555556,
              "#d8576b"
             ],
             [
              0.6666666666666666,
              "#ed7953"
             ],
             [
              0.7777777777777778,
              "#fb9f3a"
             ],
             [
              0.8888888888888888,
              "#fdca26"
             ],
             [
              1,
              "#f0f921"
             ]
            ],
            "type": "histogram2dcontour"
           }
          ],
          "mesh3d": [
           {
            "colorbar": {
             "outlinewidth": 0,
             "ticks": ""
            },
            "type": "mesh3d"
           }
          ],
          "parcoords": [
           {
            "line": {
             "colorbar": {
              "outlinewidth": 0,
              "ticks": ""
             }
            },
            "type": "parcoords"
           }
          ],
          "pie": [
           {
            "automargin": true,
            "type": "pie"
           }
          ],
          "scatter": [
           {
            "fillpattern": {
             "fillmode": "overlay",
             "size": 10,
             "solidity": 0.2
            },
            "type": "scatter"
           }
          ],
          "scatter3d": [
           {
            "line": {
             "colorbar": {
              "outlinewidth": 0,
              "ticks": ""
             }
            },
            "marker": {
             "colorbar": {
              "outlinewidth": 0,
              "ticks": ""
             }
            },
            "type": "scatter3d"
           }
          ],
          "scattercarpet": [
           {
            "marker": {
             "colorbar": {
              "outlinewidth": 0,
              "ticks": ""
             }
            },
            "type": "scattercarpet"
           }
          ],
          "scattergeo": [
           {
            "marker": {
             "colorbar": {
              "outlinewidth": 0,
              "ticks": ""
             }
            },
            "type": "scattergeo"
           }
          ],
          "scattergl": [
           {
            "marker": {
             "colorbar": {
              "outlinewidth": 0,
              "ticks": ""
             }
            },
            "type": "scattergl"
           }
          ],
          "scattermapbox": [
           {
            "marker": {
             "colorbar": {
              "outlinewidth": 0,
              "ticks": ""
             }
            },
            "type": "scattermapbox"
           }
          ],
          "scatterpolar": [
           {
            "marker": {
             "colorbar": {
              "outlinewidth": 0,
              "ticks": ""
             }
            },
            "type": "scatterpolar"
           }
          ],
          "scatterpolargl": [
           {
            "marker": {
             "colorbar": {
              "outlinewidth": 0,
              "ticks": ""
             }
            },
            "type": "scatterpolargl"
           }
          ],
          "scatterternary": [
           {
            "marker": {
             "colorbar": {
              "outlinewidth": 0,
              "ticks": ""
             }
            },
            "type": "scatterternary"
           }
          ],
          "surface": [
           {
            "colorbar": {
             "outlinewidth": 0,
             "ticks": ""
            },
            "colorscale": [
             [
              0,
              "#0d0887"
             ],
             [
              0.1111111111111111,
              "#46039f"
             ],
             [
              0.2222222222222222,
              "#7201a8"
             ],
             [
              0.3333333333333333,
              "#9c179e"
             ],
             [
              0.4444444444444444,
              "#bd3786"
             ],
             [
              0.5555555555555556,
              "#d8576b"
             ],
             [
              0.6666666666666666,
              "#ed7953"
             ],
             [
              0.7777777777777778,
              "#fb9f3a"
             ],
             [
              0.8888888888888888,
              "#fdca26"
             ],
             [
              1,
              "#f0f921"
             ]
            ],
            "type": "surface"
           }
          ],
          "table": [
           {
            "cells": {
             "fill": {
              "color": "#EBF0F8"
             },
             "line": {
              "color": "white"
             }
            },
            "header": {
             "fill": {
              "color": "#C8D4E3"
             },
             "line": {
              "color": "white"
             }
            },
            "type": "table"
           }
          ]
         },
         "layout": {
          "annotationdefaults": {
           "arrowcolor": "#2a3f5f",
           "arrowhead": 0,
           "arrowwidth": 1
          },
          "autotypenumbers": "strict",
          "coloraxis": {
           "colorbar": {
            "outlinewidth": 0,
            "ticks": ""
           }
          },
          "colorscale": {
           "diverging": [
            [
             0,
             "#8e0152"
            ],
            [
             0.1,
             "#c51b7d"
            ],
            [
             0.2,
             "#de77ae"
            ],
            [
             0.3,
             "#f1b6da"
            ],
            [
             0.4,
             "#fde0ef"
            ],
            [
             0.5,
             "#f7f7f7"
            ],
            [
             0.6,
             "#e6f5d0"
            ],
            [
             0.7,
             "#b8e186"
            ],
            [
             0.8,
             "#7fbc41"
            ],
            [
             0.9,
             "#4d9221"
            ],
            [
             1,
             "#276419"
            ]
           ],
           "sequential": [
            [
             0,
             "#0d0887"
            ],
            [
             0.1111111111111111,
             "#46039f"
            ],
            [
             0.2222222222222222,
             "#7201a8"
            ],
            [
             0.3333333333333333,
             "#9c179e"
            ],
            [
             0.4444444444444444,
             "#bd3786"
            ],
            [
             0.5555555555555556,
             "#d8576b"
            ],
            [
             0.6666666666666666,
             "#ed7953"
            ],
            [
             0.7777777777777778,
             "#fb9f3a"
            ],
            [
             0.8888888888888888,
             "#fdca26"
            ],
            [
             1,
             "#f0f921"
            ]
           ],
           "sequentialminus": [
            [
             0,
             "#0d0887"
            ],
            [
             0.1111111111111111,
             "#46039f"
            ],
            [
             0.2222222222222222,
             "#7201a8"
            ],
            [
             0.3333333333333333,
             "#9c179e"
            ],
            [
             0.4444444444444444,
             "#bd3786"
            ],
            [
             0.5555555555555556,
             "#d8576b"
            ],
            [
             0.6666666666666666,
             "#ed7953"
            ],
            [
             0.7777777777777778,
             "#fb9f3a"
            ],
            [
             0.8888888888888888,
             "#fdca26"
            ],
            [
             1,
             "#f0f921"
            ]
           ]
          },
          "colorway": [
           "#636efa",
           "#EF553B",
           "#00cc96",
           "#ab63fa",
           "#FFA15A",
           "#19d3f3",
           "#FF6692",
           "#B6E880",
           "#FF97FF",
           "#FECB52"
          ],
          "font": {
           "color": "#2a3f5f"
          },
          "geo": {
           "bgcolor": "white",
           "lakecolor": "white",
           "landcolor": "#E5ECF6",
           "showlakes": true,
           "showland": true,
           "subunitcolor": "white"
          },
          "hoverlabel": {
           "align": "left"
          },
          "hovermode": "closest",
          "mapbox": {
           "style": "light"
          },
          "paper_bgcolor": "white",
          "plot_bgcolor": "#E5ECF6",
          "polar": {
           "angularaxis": {
            "gridcolor": "white",
            "linecolor": "white",
            "ticks": ""
           },
           "bgcolor": "#E5ECF6",
           "radialaxis": {
            "gridcolor": "white",
            "linecolor": "white",
            "ticks": ""
           }
          },
          "scene": {
           "xaxis": {
            "backgroundcolor": "#E5ECF6",
            "gridcolor": "white",
            "gridwidth": 2,
            "linecolor": "white",
            "showbackground": true,
            "ticks": "",
            "zerolinecolor": "white"
           },
           "yaxis": {
            "backgroundcolor": "#E5ECF6",
            "gridcolor": "white",
            "gridwidth": 2,
            "linecolor": "white",
            "showbackground": true,
            "ticks": "",
            "zerolinecolor": "white"
           },
           "zaxis": {
            "backgroundcolor": "#E5ECF6",
            "gridcolor": "white",
            "gridwidth": 2,
            "linecolor": "white",
            "showbackground": true,
            "ticks": "",
            "zerolinecolor": "white"
           }
          },
          "shapedefaults": {
           "line": {
            "color": "#2a3f5f"
           }
          },
          "ternary": {
           "aaxis": {
            "gridcolor": "white",
            "linecolor": "white",
            "ticks": ""
           },
           "baxis": {
            "gridcolor": "white",
            "linecolor": "white",
            "ticks": ""
           },
           "bgcolor": "#E5ECF6",
           "caxis": {
            "gridcolor": "white",
            "linecolor": "white",
            "ticks": ""
           }
          },
          "title": {
           "x": 0.05
          },
          "xaxis": {
           "automargin": true,
           "gridcolor": "white",
           "linecolor": "white",
           "ticks": "",
           "title": {
            "standoff": 15
           },
           "zerolinecolor": "white",
           "zerolinewidth": 2
          },
          "yaxis": {
           "automargin": true,
           "gridcolor": "white",
           "linecolor": "white",
           "ticks": "",
           "title": {
            "standoff": 15
           },
           "zerolinecolor": "white",
           "zerolinewidth": 2
          }
         }
        },
        "title": {
         "text": "World Stock Prices in USD (January 2000 to Sep 2023)",
         "x": 0.5
        },
        "updatemenus": [
         {
          "buttons": [
           {
            "args": [
             null,
             {
              "frame": {
               "duration": 500,
               "redraw": true
              },
              "fromcurrent": true,
              "mode": "immediate",
              "transition": {
               "duration": 500,
               "easing": "linear"
              }
             }
            ],
            "label": "&#9654;",
            "method": "animate"
           },
           {
            "args": [
             [
              null
             ],
             {
              "frame": {
               "duration": 0,
               "redraw": true
              },
              "fromcurrent": true,
              "mode": "immediate",
              "transition": {
               "duration": 0,
               "easing": "linear"
              }
             }
            ],
            "label": "&#9724;",
            "method": "animate"
           }
          ],
          "direction": "left",
          "pad": {
           "r": 10,
           "t": 70
          },
          "showactive": false,
          "type": "buttons",
          "x": 0.1,
          "xanchor": "right",
          "y": 0,
          "yanchor": "top"
         }
        ],
        "width": 800
       }
      }
     },
     "metadata": {},
     "output_type": "display_data"
    }
   ],
   "source": [
    "fig = px.choropleth(monthly, locations='Country', locationmode='country names', color = 'Volume',\n",
    "                    title='World Stock Prices in USD (January 2000 to Sep 2023)',\n",
    "                    range_color=[0, monthly['Volume'].quantile(1)],\n",
    "                    animation_frame= 'year_month', color_continuous_scale='viridis',\n",
    "                    labels={'year_month':'Year-Month', 'Volume':'Volume in USD'}\n",
    "                    )\n",
    "# increase the size of the map and center the title text\n",
    "fig.update_layout(height=600, width=800, title_x=0.5)"
   ]
  },
  {
   "cell_type": "code",
   "execution_count": null,
   "metadata": {},
   "outputs": [],
   "source": [
    "# saving animated gif\n",
    "import plotly.express as px\n",
    "import pandas as pd\n",
    "import numpy as np\n",
    "import io\n",
    "import PIL\n",
    "fig = px.choropleth(monthly, locations='Country', locationmode='country names', color = 'Volume',\n",
    "                    title='World Stock Prices in USD (January 2000 to Sep 2023)', \n",
    "                    range_color=[0, monthly['Volume'].quantile(1)],\n",
    "                    animation_frame= 'year_month', color_continuous_scale='viridis',\n",
    "                    labels={'year_month':'Year-Month', 'Volume':'Volume in USD'}\n",
    "                    )\n",
    "# increase the size of the map and center the title text\n",
    "fig.update_layout(height=600, width=800, title_x=0.5)\n",
    "\n",
    "# generate images for each step in animation\n",
    "frames = []\n",
    "for s, fr in enumerate(fig.frames):\n",
    "    # set main traces to appropriate traces within plotly frame\n",
    "    fig.update(data=fr.data)\n",
    "    # move slider to correct place\n",
    "    fig.layout.sliders[0].update(active=s)\n",
    "    # generate image of current state\n",
    "    frames.append(PIL.Image.open(io.BytesIO(fig.to_image(format=\"png\", scale=3))))\n",
    "    \n",
    "# create animated GIF\n",
    "frames[0].save(\n",
    "        \"./assign_plots/world_stock_prices.gif\",\n",
    "        save_all=True,\n",
    "        append_images=frames[1:],\n",
    "        optimize=True,\n",
    "        duration=500, # milliseconds per frame\n",
    "        loop=0, # infinite loop\n",
    "        dither=None  # Turn off dithering\n",
    "    )"
   ]
  }
 ],
 "metadata": {
  "kernelspec": {
   "display_name": "Python 3",
   "language": "python",
   "name": "python3"
  },
  "language_info": {
   "codemirror_mode": {
    "name": "ipython",
    "version": 3
   },
   "file_extension": ".py",
   "mimetype": "text/x-python",
   "name": "python",
   "nbconvert_exporter": "python",
   "pygments_lexer": "ipython3",
   "version": "3.11.5"
  }
 },
 "nbformat": 4,
 "nbformat_minor": 2
}
